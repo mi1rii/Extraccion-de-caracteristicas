{
 "cells": [
  {
   "cell_type": "markdown",
   "id": "cde078ae",
   "metadata": {},
   "source": [
    "### funcion cuadratica "
   ]
  },
  {
   "cell_type": "code",
   "execution_count": null,
   "id": "a5cae2e1",
   "metadata": {},
   "outputs": [],
   "source": [
    "Vars_Indep = df_num[['On-hold']]\n",
    "Var_Dep = df_num[['Project Health']]"
   ]
  },
  {
   "cell_type": "code",
   "execution_count": null,
   "id": "f7d74ca7",
   "metadata": {},
   "outputs": [],
   "source": [
    "x= Vars_Indep\n",
    "y= Var_Dep"
   ]
  },
  {
   "cell_type": "code",
   "execution_count": null,
   "id": "dfd71270",
   "metadata": {},
   "outputs": [],
   "source": [
    "def  func_cuad (x, a, b, c):\n",
    "     return a*x**2 + b*x + c"
   ]
  },
  {
   "cell_type": "code",
   "execution_count": null,
   "id": "024e3d58",
   "metadata": {},
   "outputs": [],
   "source": [
    "parametros1, covs= curve_fit(func_cuad, df['On-hold'], df['Project Health'])"
   ]
  },
  {
   "cell_type": "code",
   "execution_count": null,
   "id": "74cc9d4e",
   "metadata": {},
   "outputs": [
    {
     "data": {
      "text/plain": [
       "array([ 6.84876442e-02, -1.80393380e+00,  6.85166717e+01])"
      ]
     },
     "metadata": {},
     "output_type": "display_data"
    }
   ],
   "source": [
    "parametros1"
   ]
  },
  {
   "cell_type": "code",
   "execution_count": null,
   "id": "555d197d",
   "metadata": {},
   "outputs": [],
   "source": [
    "y_pred1 = func_cuad(x, *parametros1)"
   ]
  },
  {
   "cell_type": "code",
   "execution_count": null,
   "id": "87a4453e",
   "metadata": {},
   "outputs": [
    {
     "data": {
      "text/html": [
       "<div>\n",
       "<style scoped>\n",
       "    .dataframe tbody tr th:only-of-type {\n",
       "        vertical-align: middle;\n",
       "    }\n",
       "\n",
       "    .dataframe tbody tr th {\n",
       "        vertical-align: top;\n",
       "    }\n",
       "\n",
       "    .dataframe thead th {\n",
       "        text-align: right;\n",
       "    }\n",
       "</style>\n",
       "<table border=\"1\" class=\"dataframe\">\n",
       "  <thead>\n",
       "    <tr style=\"text-align: right;\">\n",
       "      <th></th>\n",
       "      <th>Project organization</th>\n",
       "    </tr>\n",
       "  </thead>\n",
       "  <tbody>\n",
       "    <tr>\n",
       "      <th>0</th>\n",
       "      <td>60.837113</td>\n",
       "    </tr>\n",
       "    <tr>\n",
       "      <th>1</th>\n",
       "      <td>60.837113</td>\n",
       "    </tr>\n",
       "    <tr>\n",
       "      <th>2</th>\n",
       "      <td>60.837113</td>\n",
       "    </tr>\n",
       "    <tr>\n",
       "      <th>3</th>\n",
       "      <td>60.837113</td>\n",
       "    </tr>\n",
       "    <tr>\n",
       "      <th>4</th>\n",
       "      <td>60.837113</td>\n",
       "    </tr>\n",
       "    <tr>\n",
       "      <th>...</th>\n",
       "      <td>...</td>\n",
       "    </tr>\n",
       "    <tr>\n",
       "      <th>240</th>\n",
       "      <td>60.158624</td>\n",
       "    </tr>\n",
       "    <tr>\n",
       "      <th>241</th>\n",
       "      <td>61.209194</td>\n",
       "    </tr>\n",
       "    <tr>\n",
       "      <th>242</th>\n",
       "      <td>60.158624</td>\n",
       "    </tr>\n",
       "    <tr>\n",
       "      <th>243</th>\n",
       "      <td>60.158624</td>\n",
       "    </tr>\n",
       "    <tr>\n",
       "      <th>244</th>\n",
       "      <td>60.158624</td>\n",
       "    </tr>\n",
       "  </tbody>\n",
       "</table>\n",
       "<p>225 rows × 1 columns</p>\n",
       "</div>"
      ],
      "text/plain": [
       "     Project organization\n",
       "0               60.837113\n",
       "1               60.837113\n",
       "2               60.837113\n",
       "3               60.837113\n",
       "4               60.837113\n",
       "..                    ...\n",
       "240             60.158624\n",
       "241             61.209194\n",
       "242             60.158624\n",
       "243             60.158624\n",
       "244             60.158624\n",
       "\n",
       "[225 rows x 1 columns]"
      ]
     },
     "metadata": {},
     "output_type": "display_data"
    }
   ],
   "source": [
    "y_pred1"
   ]
  },
  {
   "cell_type": "code",
   "execution_count": null,
   "id": "bd124024",
   "metadata": {},
   "outputs": [
    {
     "name": "stderr",
     "output_type": "stream",
     "text": [
      "/var/folders/qg/1b6k32sd5_d2jr8q3bhrhg1r0000gn/T/ipykernel_10063/2875430875.py:1: UserWarning: color is redundantly defined by the 'color' keyword argument and the fmt string \"bo\" (-> color='b'). The keyword argument will take precedence.\n",
      "  plt.plot(x, y, 'bo', label=\"y-original\", color= \"blue\")\n",
      "/var/folders/qg/1b6k32sd5_d2jr8q3bhrhg1r0000gn/T/ipykernel_10063/2875430875.py:2: UserWarning: color is redundantly defined by the 'color' keyword argument and the fmt string \"bo\" (-> color='b'). The keyword argument will take precedence.\n",
      "  plt.plot(x, y_pred1,'bo', label=\"y-predecida con y = ax^2 + bx + c \", color= \"red\")\n"
     ]
    },
    {
     "data": {
      "image/png": "[encoded data removed]",
      "text/plain": [
       "<Figure size 640x480 with 1 Axes>"
      ]
     },
     "metadata": {},
     "output_type": "display_data"
    }
   ],
   "source": [
    "plt.plot(x, y, 'bo', label=\"y-original\", color= \"blue\")\n",
    "plt.plot(x, y_pred1,'bo', label=\"y-predecida con y = ax^2 + bx + c \", color= \"red\")\n",
    "plt.xlabel('x')\n",
    "plt.ylabel('y')\n",
    "plt.legend(loc='best', fancybox=True, shadow=True)\n",
    "plt.grid(True)\n",
    "plt.show() "
   ]
  },
  {
   "cell_type": "code",
   "execution_count": null,
   "id": "4f1581b7",
   "metadata": {},
   "outputs": [
    {
     "data": {
      "text/plain": [
       "0.018948529072056797"
      ]
     },
     "metadata": {},
     "output_type": "display_data"
    }
   ],
   "source": [
    "R2_Modelo1 = r2_score(y, y_pred1) \n",
    "R2_Modelo1 "
   ]
  },
  {
   "cell_type": "code",
   "execution_count": null,
   "id": "34358dc4",
   "metadata": {},
   "outputs": [
    {
     "data": {
      "text/plain": [
       "np.float64(0.137653656224805)"
      ]
     },
     "metadata": {},
     "output_type": "display_data"
    }
   ],
   "source": [
    "R = np.sqrt(R2_Modelo1)\n",
    "R"
   ]
  },
  {
   "cell_type": "markdown",
   "id": "a5e57493",
   "metadata": {},
   "source": [
    "### funcion logaritmica "
   ]
  },
  {
   "cell_type": "code",
   "execution_count": null,
   "id": "71ccb235",
   "metadata": {},
   "outputs": [],
   "source": [
    "Vars_Indep = df_num[['On-hold']]\n",
    "Var_Dep = df_num[['Project Health']]"
   ]
  },
  {
   "cell_type": "code",
   "execution_count": null,
   "id": "cf043540",
   "metadata": {},
   "outputs": [],
   "source": [
    "x= Vars_Indep\n",
    "y= Var_Dep"
   ]
  },
  {
   "cell_type": "code",
   "execution_count": null,
   "id": "07849ece",
   "metadata": {},
   "outputs": [],
   "source": [
    "def  func_log (x, a, b):\n",
    "     return a*np.log(x) + b"
   ]
  },
  {
   "cell_type": "code",
   "execution_count": null,
   "id": "48c01d4e",
   "metadata": {},
   "outputs": [],
   "source": [
    "parametros2, covs= curve_fit(func_log, df['On-hold'], df['Project Health'])"
   ]
  },
  {
   "cell_type": "code",
   "execution_count": null,
   "id": "ab5622b1",
   "metadata": {},
   "outputs": [
    {
     "data": {
      "text/plain": [
       "array([ 2.55998965, 54.62492923])"
      ]
     },
     "metadata": {},
     "output_type": "display_data"
    }
   ],
   "source": [
    "parametros2"
   ]
  },
  {
   "cell_type": "code",
   "execution_count": null,
   "id": "4b36cc56",
   "metadata": {},
   "outputs": [],
   "source": [
    "y_pred2 = func_log(x, *parametros2)"
   ]
  },
  {
   "cell_type": "code",
   "execution_count": null,
   "id": "d5d6ce7a",
   "metadata": {},
   "outputs": [
    {
     "data": {
      "text/html": [
       "<div>\n",
       "<style scoped>\n",
       "    .dataframe tbody tr th:only-of-type {\n",
       "        vertical-align: middle;\n",
       "    }\n",
       "\n",
       "    .dataframe tbody tr th {\n",
       "        vertical-align: top;\n",
       "    }\n",
       "\n",
       "    .dataframe thead th {\n",
       "        text-align: right;\n",
       "    }\n",
       "</style>\n",
       "<table border=\"1\" class=\"dataframe\">\n",
       "  <thead>\n",
       "    <tr style=\"text-align: right;\">\n",
       "      <th></th>\n",
       "      <th>Project organization</th>\n",
       "    </tr>\n",
       "  </thead>\n",
       "  <tbody>\n",
       "    <tr>\n",
       "      <th>0</th>\n",
       "      <td>62.418875</td>\n",
       "    </tr>\n",
       "    <tr>\n",
       "      <th>1</th>\n",
       "      <td>62.418875</td>\n",
       "    </tr>\n",
       "    <tr>\n",
       "      <th>2</th>\n",
       "      <td>62.418875</td>\n",
       "    </tr>\n",
       "    <tr>\n",
       "      <th>3</th>\n",
       "      <td>62.418875</td>\n",
       "    </tr>\n",
       "    <tr>\n",
       "      <th>4</th>\n",
       "      <td>62.418875</td>\n",
       "    </tr>\n",
       "    <tr>\n",
       "      <th>...</th>\n",
       "      <td>...</td>\n",
       "    </tr>\n",
       "    <tr>\n",
       "      <th>240</th>\n",
       "      <td>59.211815</td>\n",
       "    </tr>\n",
       "    <tr>\n",
       "      <th>241</th>\n",
       "      <td>58.745074</td>\n",
       "    </tr>\n",
       "    <tr>\n",
       "      <th>242</th>\n",
       "      <td>59.211815</td>\n",
       "    </tr>\n",
       "    <tr>\n",
       "      <th>243</th>\n",
       "      <td>59.211815</td>\n",
       "    </tr>\n",
       "    <tr>\n",
       "      <th>244</th>\n",
       "      <td>59.211815</td>\n",
       "    </tr>\n",
       "  </tbody>\n",
       "</table>\n",
       "<p>225 rows × 1 columns</p>\n",
       "</div>"
      ],
      "text/plain": [
       "     Project organization\n",
       "0               62.418875\n",
       "1               62.418875\n",
       "2               62.418875\n",
       "3               62.418875\n",
       "4               62.418875\n",
       "..                    ...\n",
       "240             59.211815\n",
       "241             58.745074\n",
       "242             59.211815\n",
       "243             59.211815\n",
       "244             59.211815\n",
       "\n",
       "[225 rows x 1 columns]"
      ]
     },
     "metadata": {},
     "output_type": "display_data"
    }
   ],
   "source": [
    "y_pred2"
   ]
  },
  {
   "cell_type": "code",
   "execution_count": null,
   "id": "102b9d02",
   "metadata": {},
   "outputs": [
    {
     "name": "stderr",
     "output_type": "stream",
     "text": [
      "/var/folders/qg/1b6k32sd5_d2jr8q3bhrhg1r0000gn/T/ipykernel_10063/3016627666.py:1: UserWarning: color is redundantly defined by the 'color' keyword argument and the fmt string \"bo\" (-> color='b'). The keyword argument will take precedence.\n",
      "  plt.plot(x, y, 'bo', label=\"y-original\", color= \"blue\")\n",
      "/var/folders/qg/1b6k32sd5_d2jr8q3bhrhg1r0000gn/T/ipykernel_10063/3016627666.py:2: UserWarning: color is redundantly defined by the 'color' keyword argument and the fmt string \"bo\" (-> color='b'). The keyword argument will take precedence.\n",
      "  plt.plot(x, y_pred2,'bo', label=\"y-predecida con y = 1/a*x \", color= \"red\")\n"
     ]
    },
    {
     "data": {
      "image/png": "[encoded data removed]",
      "text/plain": [
       "<Figure size 640x480 with 1 Axes>"
      ]
     },
     "metadata": {},
     "output_type": "display_data"
    }
   ],
   "source": [
    "plt.plot(x, y, 'bo', label=\"y-original\", color= \"blue\")\n",
    "plt.plot(x, y_pred2,'bo', label=\"y-predecida con y = 1/a*x \", color= \"red\")\n",
    "plt.xlabel('x')\n",
    "plt.ylabel('y')\n",
    "plt.legend(loc='best', fancybox=True, shadow=True)\n",
    "plt.grid(True)\n",
    "plt.show() "
   ]
  },
  {
   "cell_type": "code",
   "execution_count": null,
   "id": "d66c660d",
   "metadata": {},
   "outputs": [
    {
     "data": {
      "text/plain": [
       "0.0018977214670539144"
      ]
     },
     "metadata": {},
     "output_type": "display_data"
    }
   ],
   "source": [
    "R2_Modelo2 = r2_score(y, y_pred2) \n",
    "R2_Modelo2 "
   ]
  },
  {
   "cell_type": "code",
   "execution_count": null,
   "id": "6976a986",
   "metadata": {},
   "outputs": [
    {
     "data": {
      "text/plain": [
       "np.float64(0.04356284502938157)"
      ]
     },
     "metadata": {},
     "output_type": "display_data"
    }
   ],
   "source": [
    "R = np.sqrt(R2_Modelo2)\n",
    "R"
   ]
  },
  {
   "cell_type": "markdown",
   "id": "b601cab7",
   "metadata": {},
   "source": [
    "### funcion valor absoluto"
   ]
  },
  {
   "cell_type": "code",
   "execution_count": null,
   "id": "1ae2bf6a",
   "metadata": {},
   "outputs": [],
   "source": [
    "Vars_Indep = df_num[['On-hold']]\n",
    "Var_Dep = df_num[['Project Health']]"
   ]
  },
  {
   "cell_type": "code",
   "execution_count": null,
   "id": "bcc9daa6",
   "metadata": {},
   "outputs": [],
   "source": [
    "x= Vars_Indep\n",
    "y= Var_Dep"
   ]
  },
  {
   "cell_type": "code",
   "execution_count": null,
   "id": "d46baf9e",
   "metadata": {},
   "outputs": [],
   "source": [
    "def  func_abs (x, a, b, c):\n",
    "     return a*np.abs(x) + b*x + c "
   ]
  },
  {
   "cell_type": "code",
   "execution_count": null,
   "id": "b4884f57",
   "metadata": {},
   "outputs": [],
   "source": [
    "parametros3, covs= curve_fit(func_abs, df['On-hold'], df['Project Health'])"
   ]
  },
  {
   "cell_type": "code",
   "execution_count": null,
   "id": "9ec3f8e4",
   "metadata": {},
   "outputs": [
    {
     "data": {
      "text/plain": [
       "array([100.26464119, -99.86961004,  54.60993059])"
      ]
     },
     "metadata": {},
     "output_type": "display_data"
    }
   ],
   "source": [
    "parametros3"
   ]
  },
  {
   "cell_type": "code",
   "execution_count": null,
   "id": "2c5c701d",
   "metadata": {},
   "outputs": [],
   "source": [
    "y_pred3 = func_abs(x, *parametros3)"
   ]
  },
  {
   "cell_type": "code",
   "execution_count": null,
   "id": "ff57ba4c",
   "metadata": {},
   "outputs": [
    {
     "data": {
      "text/html": [
       "<div>\n",
       "<style scoped>\n",
       "    .dataframe tbody tr th:only-of-type {\n",
       "        vertical-align: middle;\n",
       "    }\n",
       "\n",
       "    .dataframe tbody tr th {\n",
       "        vertical-align: top;\n",
       "    }\n",
       "\n",
       "    .dataframe thead th {\n",
       "        text-align: right;\n",
       "    }\n",
       "</style>\n",
       "<table border=\"1\" class=\"dataframe\">\n",
       "  <thead>\n",
       "    <tr style=\"text-align: right;\">\n",
       "      <th></th>\n",
       "      <th>Project organization</th>\n",
       "    </tr>\n",
       "  </thead>\n",
       "  <tbody>\n",
       "    <tr>\n",
       "      <th>0</th>\n",
       "      <td>62.905585</td>\n",
       "    </tr>\n",
       "    <tr>\n",
       "      <th>1</th>\n",
       "      <td>62.905585</td>\n",
       "    </tr>\n",
       "    <tr>\n",
       "      <th>2</th>\n",
       "      <td>62.905585</td>\n",
       "    </tr>\n",
       "    <tr>\n",
       "      <th>3</th>\n",
       "      <td>62.905585</td>\n",
       "    </tr>\n",
       "    <tr>\n",
       "      <th>4</th>\n",
       "      <td>62.905585</td>\n",
       "    </tr>\n",
       "    <tr>\n",
       "      <th>...</th>\n",
       "      <td>...</td>\n",
       "    </tr>\n",
       "    <tr>\n",
       "      <th>240</th>\n",
       "      <td>56.980118</td>\n",
       "    </tr>\n",
       "    <tr>\n",
       "      <th>241</th>\n",
       "      <td>56.585086</td>\n",
       "    </tr>\n",
       "    <tr>\n",
       "      <th>242</th>\n",
       "      <td>56.980118</td>\n",
       "    </tr>\n",
       "    <tr>\n",
       "      <th>243</th>\n",
       "      <td>56.980118</td>\n",
       "    </tr>\n",
       "    <tr>\n",
       "      <th>244</th>\n",
       "      <td>56.980118</td>\n",
       "    </tr>\n",
       "  </tbody>\n",
       "</table>\n",
       "<p>225 rows × 1 columns</p>\n",
       "</div>"
      ],
      "text/plain": [
       "     Project organization\n",
       "0               62.905585\n",
       "1               62.905585\n",
       "2               62.905585\n",
       "3               62.905585\n",
       "4               62.905585\n",
       "..                    ...\n",
       "240             56.980118\n",
       "241             56.585086\n",
       "242             56.980118\n",
       "243             56.980118\n",
       "244             56.980118\n",
       "\n",
       "[225 rows x 1 columns]"
      ]
     },
     "metadata": {},
     "output_type": "display_data"
    }
   ],
   "source": [
    "y_pred3"
   ]
  },
  {
   "cell_type": "code",
   "execution_count": null,
   "id": "cdd4ebe6",
   "metadata": {},
   "outputs": [
    {
     "name": "stderr",
     "output_type": "stream",
     "text": [
      "/var/folders/qg/1b6k32sd5_d2jr8q3bhrhg1r0000gn/T/ipykernel_10063/4286971557.py:1: UserWarning: color is redundantly defined by the 'color' keyword argument and the fmt string \"bo\" (-> color='b'). The keyword argument will take precedence.\n",
      "  plt.plot(x, y, 'bo', label=\"y-original\", color= \"blue\")\n",
      "/var/folders/qg/1b6k32sd5_d2jr8q3bhrhg1r0000gn/T/ipykernel_10063/4286971557.py:2: UserWarning: color is redundantly defined by the 'color' keyword argument and the fmt string \"bo\" (-> color='b'). The keyword argument will take precedence.\n",
      "  plt.plot(x, y_pred3,'bo', label=\"y-predecida con a*np.abs(x) + b*x + c  \", color= \"red\")\n"
     ]
    },
    {
     "data": {
      "image/png": "[encoded data removed]",
      "text/plain": [
       "<Figure size 640x480 with 1 Axes>"
      ]
     },
     "metadata": {},
     "output_type": "display_data"
    }
   ],
   "source": [
    "plt.plot(x, y, 'bo', label=\"y-original\", color= \"blue\")\n",
    "plt.plot(x, y_pred3,'bo', label=\"y-predecida con a*np.abs(x) + b*x + c  \", color= \"red\")\n",
    "plt.xlabel('x')\n",
    "plt.ylabel('y')\n",
    "plt.legend(loc='best', fancybox=True, shadow=True)\n",
    "plt.grid(True)\n",
    "plt.show() "
   ]
  },
  {
   "cell_type": "code",
   "execution_count": null,
   "id": "0e951862",
   "metadata": {},
   "outputs": [
    {
     "data": {
      "text/plain": [
       "0.006847289190658912"
      ]
     },
     "metadata": {},
     "output_type": "display_data"
    }
   ],
   "source": [
    "R2_Modelo3 = r2_score(y, y_pred3) \n",
    "R2_Modelo3"
   ]
  },
  {
   "cell_type": "code",
   "execution_count": null,
   "id": "8bd9b9db",
   "metadata": {},
   "outputs": [
    {
     "data": {
      "text/plain": [
       "np.float64(0.08274834856756304)"
      ]
     },
     "metadata": {},
     "output_type": "display_data"
    }
   ],
   "source": [
    "R = np.sqrt(R2_Modelo3)\n",
    "R"
   ]
  },
  {
   "cell_type": "markdown",
   "id": "5bf2a633",
   "metadata": {},
   "source": [
    "### exponencial"
   ]
  },
  {
   "cell_type": "code",
   "execution_count": null,
   "id": "4360b396",
   "metadata": {},
   "outputs": [],
   "source": [
    "Vars_Indep = df_num[['On-hold']]\n",
    "Var_Dep = df_num[['Project Health']]"
   ]
  },
  {
   "cell_type": "code",
   "execution_count": null,
   "id": "e586d48c",
   "metadata": {},
   "outputs": [],
   "source": [
    "x= Vars_Indep\n",
    "y= Var_Dep"
   ]
  },
  {
   "cell_type": "code",
   "execution_count": null,
   "id": "4dc3d52a",
   "metadata": {},
   "outputs": [],
   "source": [
    "def func_exp(x, a, b, c):\n",
    "    return a * np.exp(-b * x) + c"
   ]
  },
  {
   "cell_type": "code",
   "execution_count": null,
   "id": "c88672ee",
   "metadata": {},
   "outputs": [
    {
     "name": "stderr",
     "output_type": "stream",
     "text": [
      "/opt/anaconda3/lib/python3.13/site-packages/pandas/core/arraylike.py:399: RuntimeWarning: overflow encountered in exp\n",
      "  result = getattr(ufunc, method)(*inputs, **kwargs)\n"
     ]
    }
   ],
   "source": [
    "parametros4, covs= curve_fit(func_exp, df['On-hold'], df['Project Health'])"
   ]
  },
  {
   "cell_type": "code",
   "execution_count": null,
   "id": "a353ee60",
   "metadata": {},
   "outputs": [
    {
     "data": {
      "text/plain": [
       "array([ 0.39849095, -0.12293592, 56.70119005])"
      ]
     },
     "metadata": {},
     "output_type": "display_data"
    }
   ],
   "source": [
    "parametros4"
   ]
  },
  {
   "cell_type": "code",
   "execution_count": null,
   "id": "84a6361f",
   "metadata": {},
   "outputs": [],
   "source": [
    "y_pred4 = func_exp(x, *parametros4)"
   ]
  },
  {
   "cell_type": "code",
   "execution_count": null,
   "id": "999861aa",
   "metadata": {},
   "outputs": [
    {
     "name": "stderr",
     "output_type": "stream",
     "text": [
      "/var/folders/qg/1b6k32sd5_d2jr8q3bhrhg1r0000gn/T/ipykernel_10063/2467899507.py:1: UserWarning: color is redundantly defined by the 'color' keyword argument and the fmt string \"bo\" (-> color='b'). The keyword argument will take precedence.\n",
      "  plt.plot(x, y, 'bo', label=\"y-original\", color= \"blue\")\n",
      "/var/folders/qg/1b6k32sd5_d2jr8q3bhrhg1r0000gn/T/ipykernel_10063/2467899507.py:2: UserWarning: color is redundantly defined by the 'color' keyword argument and the fmt string \"bo\" (-> color='b'). The keyword argument will take precedence.\n",
      "  plt.plot(x, y_pred4,'bo', label=\"y-predecida con y = a*ln(x) + b \", color= \"red\")\n"
     ]
    },
    {
     "data": {
      "image/png": "[encoded data removed]",
      "text/plain": [
       "<Figure size 640x480 with 1 Axes>"
      ]
     },
     "metadata": {},
     "output_type": "display_data"
    }
   ],
   "source": [
    "plt.plot(x, y, 'bo', label=\"y-original\", color= \"blue\")\n",
    "plt.plot(x, y_pred4,'bo', label=\"y-predecida con y = a*ln(x) + b \", color= \"red\")\n",
    "plt.xlabel('x')\n",
    "plt.ylabel('y')\n",
    "plt.legend(loc='best', fancybox=True, shadow=True)\n",
    "plt.grid(True)\n",
    "plt.show() "
   ]
  },
  {
   "cell_type": "code",
   "execution_count": null,
   "id": "7df0807b",
   "metadata": {},
   "outputs": [
    {
     "data": {
      "text/plain": [
       "0.01205604546542749"
      ]
     },
     "metadata": {},
     "output_type": "display_data"
    }
   ],
   "source": [
    "R2_Modelo4 = r2_score(y, y_pred4) \n",
    "R2_Modelo4"
   ]
  },
  {
   "cell_type": "code",
   "execution_count": null,
   "id": "ef9bf441",
   "metadata": {},
   "outputs": [
    {
     "data": {
      "text/plain": [
       "np.float64(0.1098000248881005)"
      ]
     },
     "metadata": {},
     "output_type": "display_data"
    }
   ],
   "source": [
    "R = np.sqrt(R2_Modelo4)\n",
    "R"
   ]
  },
  {
   "cell_type": "markdown",
   "id": "6b0f69c2",
   "metadata": {},
   "source": [
    "### Función cociente entre polinomios"
   ]
  },
  {
   "cell_type": "code",
   "execution_count": null,
   "id": "b15eebde",
   "metadata": {},
   "outputs": [],
   "source": [
    "Vars_Indep = df_num[['On-hold']]\n",
    "Var_Dep = df_num[['Project Health']]"
   ]
  },
  {
   "cell_type": "code",
   "execution_count": null,
   "id": "3cbbe126",
   "metadata": {},
   "outputs": [],
   "source": [
    "x= Vars_Indep\n",
    "y= Var_Dep"
   ]
  },
  {
   "cell_type": "code",
   "execution_count": null,
   "id": "a3af5b33",
   "metadata": {},
   "outputs": [],
   "source": [
    "def func_coc(x, a, b, c):\n",
    "    return ((a * x**2) + b) / (c * x**2)"
   ]
  },
  {
   "cell_type": "code",
   "execution_count": null,
   "id": "28b72c09",
   "metadata": {},
   "outputs": [],
   "source": [
    "parametros5, covs= curve_fit(func_coc, df['On-hold'], df['Project Health'])"
   ]
  },
  {
   "cell_type": "code",
   "execution_count": null,
   "id": "62b4ed6d",
   "metadata": {},
   "outputs": [
    {
     "data": {
      "text/plain": [
       "array([76.76041051, -1.66251574,  1.2439219 ])"
      ]
     },
     "metadata": {},
     "output_type": "display_data"
    }
   ],
   "source": [
    "parametros5"
   ]
  },
  {
   "cell_type": "code",
   "execution_count": null,
   "id": "accfbd1c",
   "metadata": {},
   "outputs": [],
   "source": [
    "y_pred5 = func_coc(x, *parametros5)"
   ]
  },
  {
   "cell_type": "code",
   "execution_count": null,
   "id": "e8b533df",
   "metadata": {},
   "outputs": [
    {
     "data": {
      "text/html": [
       "<div>\n",
       "<style scoped>\n",
       "    .dataframe tbody tr th:only-of-type {\n",
       "        vertical-align: middle;\n",
       "    }\n",
       "\n",
       "    .dataframe tbody tr th {\n",
       "        vertical-align: top;\n",
       "    }\n",
       "\n",
       "    .dataframe thead th {\n",
       "        text-align: right;\n",
       "    }\n",
       "</style>\n",
       "<table border=\"1\" class=\"dataframe\">\n",
       "  <thead>\n",
       "    <tr style=\"text-align: right;\">\n",
       "      <th></th>\n",
       "      <th>Project organization</th>\n",
       "    </tr>\n",
       "  </thead>\n",
       "  <tbody>\n",
       "    <tr>\n",
       "      <th>0</th>\n",
       "      <td>61.705354</td>\n",
       "    </tr>\n",
       "    <tr>\n",
       "      <th>1</th>\n",
       "      <td>61.705354</td>\n",
       "    </tr>\n",
       "    <tr>\n",
       "      <th>2</th>\n",
       "      <td>61.705354</td>\n",
       "    </tr>\n",
       "    <tr>\n",
       "      <th>3</th>\n",
       "      <td>61.705354</td>\n",
       "    </tr>\n",
       "    <tr>\n",
       "      <th>4</th>\n",
       "      <td>61.705354</td>\n",
       "    </tr>\n",
       "    <tr>\n",
       "      <th>...</th>\n",
       "      <td>...</td>\n",
       "    </tr>\n",
       "    <tr>\n",
       "      <th>240</th>\n",
       "      <td>61.671259</td>\n",
       "    </tr>\n",
       "    <tr>\n",
       "      <th>241</th>\n",
       "      <td>61.654924</td>\n",
       "    </tr>\n",
       "    <tr>\n",
       "      <th>242</th>\n",
       "      <td>61.671259</td>\n",
       "    </tr>\n",
       "    <tr>\n",
       "      <th>243</th>\n",
       "      <td>61.671259</td>\n",
       "    </tr>\n",
       "    <tr>\n",
       "      <th>244</th>\n",
       "      <td>61.671259</td>\n",
       "    </tr>\n",
       "  </tbody>\n",
       "</table>\n",
       "<p>225 rows × 1 columns</p>\n",
       "</div>"
      ],
      "text/plain": [
       "     Project organization\n",
       "0               61.705354\n",
       "1               61.705354\n",
       "2               61.705354\n",
       "3               61.705354\n",
       "4               61.705354\n",
       "..                    ...\n",
       "240             61.671259\n",
       "241             61.654924\n",
       "242             61.671259\n",
       "243             61.671259\n",
       "244             61.671259\n",
       "\n",
       "[225 rows x 1 columns]"
      ]
     },
     "metadata": {},
     "output_type": "display_data"
    }
   ],
   "source": [
    "y_pred5"
   ]
  },
  {
   "cell_type": "code",
   "execution_count": null,
   "id": "2f94ffcb",
   "metadata": {},
   "outputs": [
    {
     "name": "stderr",
     "output_type": "stream",
     "text": [
      "/var/folders/qg/1b6k32sd5_d2jr8q3bhrhg1r0000gn/T/ipykernel_10063/1332753339.py:1: UserWarning: color is redundantly defined by the 'color' keyword argument and the fmt string \"bo\" (-> color='b'). The keyword argument will take precedence.\n",
      "  plt.plot(x, y, 'bo', label=\"y-original\", color= \"blue\")\n",
      "/var/folders/qg/1b6k32sd5_d2jr8q3bhrhg1r0000gn/T/ipykernel_10063/1332753339.py:2: UserWarning: color is redundantly defined by the 'color' keyword argument and the fmt string \"bo\" (-> color='b'). The keyword argument will take precedence.\n",
      "  plt.plot(x, y_pred1,'bo', label=\"y-predecida con:\", color= \"red\")\n"
     ]
    },
    {
     "data": {
      "image/png": "[encoded data removed]",
      "text/plain": [
       "<Figure size 640x480 with 1 Axes>"
      ]
     },
     "metadata": {},
     "output_type": "display_data"
    }
   ],
   "source": [
    "plt.plot(x, y, 'bo', label=\"y-original\", color= \"blue\")\n",
    "plt.plot(x, y_pred5,'bo', label=\"y-predecida con:\", color= \"red\")\n",
    "plt.xlabel('x')\n",
    "plt.ylabel('y')\n",
    "plt.legend(loc='best', fancybox=True, shadow=True)\n",
    "plt.grid(True)\n",
    "plt.show() "
   ]
  },
  {
   "cell_type": "code",
   "execution_count": null,
   "id": "26858074",
   "metadata": {},
   "outputs": [
    {
     "data": {
      "text/plain": [
       "7.733091457629016e-06"
      ]
     },
     "metadata": {},
     "output_type": "display_data"
    }
   ],
   "source": [
    "R2_Modelo5 = r2_score(y, y_pred5) \n",
    "R2_Modelo5"
   ]
  },
  {
   "cell_type": "code",
   "execution_count": null,
   "id": "745a4fee",
   "metadata": {},
   "outputs": [
    {
     "data": {
      "text/plain": [
       "np.float64(0.0027808436593287685)"
      ]
     },
     "metadata": {},
     "output_type": "display_data"
    }
   ],
   "source": [
    "R = np.sqrt(R2_Modelo5)\n",
    "R"
   ]
  }
 ],
 "metadata": {
  "language_info": {
   "name": "python"
  }
 },
 "nbformat": 4,
 "nbformat_minor": 5
}
