{
 "cells": [
  {
   "cell_type": "markdown",
   "id": "ed389986",
   "metadata": {},
   "source": [
    "### Actividad AG_1.2\n",
    "\n",
    "Ivanna Maldonado Cervantes \n",
    "\n",
    "Paula Simonetta Madrid Pérez\n",
    "\n",
    "Ania Diaz Gonzalez \n",
    "\n",
    "Miranda Eugenia Colorado Arróniz\n"
   ]
  },
  {
   "cell_type": "code",
   "execution_count": 1,
   "id": "52d0ab6d",
   "metadata": {},
   "outputs": [],
   "source": [
    "import pandas as pd\n",
    "import numpy as np\n",
    "import matplotlib.pyplot as plt"
   ]
  },
  {
   "cell_type": "code",
   "execution_count": 2,
   "id": "1f1dbaca",
   "metadata": {},
   "outputs": [],
   "source": [
    "df = pd.read_csv('projectos_forvia.csv')"
   ]
  },
  {
   "cell_type": "code",
   "execution_count": 3,
   "id": "3f26eb5d",
   "metadata": {},
   "outputs": [],
   "source": [
    "df = df.drop(df.index[245]).reset_index(drop=True)"
   ]
  },
  {
   "cell_type": "code",
   "execution_count": 4,
   "id": "7a3618e4",
   "metadata": {},
   "outputs": [
    {
     "name": "stdout",
     "output_type": "stream",
     "text": [
      "<class 'pandas.core.frame.DataFrame'>\n",
      "RangeIndex: 245 entries, 0 to 244\n",
      "Data columns (total 25 columns):\n",
      " #   Column                Non-Null Count  Dtype  \n",
      "---  ------                --------------  -----  \n",
      " 0   Number                245 non-null    object \n",
      " 1   Active                245 non-null    object \n",
      " 2   Project Name          245 non-null    object \n",
      " 3   Project Type          245 non-null    object \n",
      " 4   Geographical scope    245 non-null    object \n",
      " 5   Project manager       245 non-null    object \n",
      " 6   State                 245 non-null    object \n",
      " 7   Percent complete      245 non-null    float64\n",
      " 8   Project size          245 non-null    object \n",
      " 9   Project organization  245 non-null    object \n",
      " 10  Planned Go Live date  245 non-null    object \n",
      " 11  Project target phase  72 non-null     object \n",
      " 12  Actual Go Live date   48 non-null     object \n",
      " 13  Actual end date       0 non-null      float64\n",
      " 14  BG                    245 non-null    object \n",
      " 15  Closed                1 non-null      object \n",
      " 16  Domain                245 non-null    object \n",
      " 17  Domain Path           245 non-null    object \n",
      " 18  Last WAR              232 non-null    object \n",
      " 19  Project Health        232 non-null    object \n",
      " 20  Project type          245 non-null    object \n",
      " 21  Recurrent activity    245 non-null    object \n",
      " 22  Planned start date    245 non-null    object \n",
      " 23  Actual start date     227 non-null    object \n",
      " 24  On-hold               245 non-null    object \n",
      "dtypes: float64(2), object(23)\n",
      "memory usage: 48.0+ KB\n"
     ]
    },
    {
     "data": {
      "text/plain": [
       "Number                    0\n",
       "Active                    0\n",
       "Project Name              0\n",
       "Project Type              0\n",
       "Geographical scope        0\n",
       "Project manager           0\n",
       "State                     0\n",
       "Percent complete          0\n",
       "Project size              0\n",
       "Project organization      0\n",
       "Planned Go Live date      0\n",
       "Project target phase    173\n",
       "Actual Go Live date     197\n",
       "Actual end date         245\n",
       "BG                        0\n",
       "Closed                  244\n",
       "Domain                    0\n",
       "Domain Path               0\n",
       "Last WAR                 13\n",
       "Project Health           13\n",
       "Project type              0\n",
       "Recurrent activity        0\n",
       "Planned start date        0\n",
       "Actual start date        18\n",
       "On-hold                   0\n",
       "dtype: int64"
      ]
     },
     "execution_count": 4,
     "metadata": {},
     "output_type": "execute_result"
    }
   ],
   "source": [
    "df.info()\n",
    "df.isnull().sum()"
   ]
  },
  {
   "cell_type": "code",
   "execution_count": 5,
   "id": "87b162b8",
   "metadata": {},
   "outputs": [],
   "source": [
    "df[\"Percent complete\"] = df[\"Percent complete\"].astype(str).str.replace(\"%\", \"\", regex=False)\n",
    "df[\"Percent complete\"] = pd.to_numeric(df[\"Percent complete\"], errors=\"coerce\")"
   ]
  },
  {
   "cell_type": "code",
   "execution_count": 6,
   "id": "519f3150",
   "metadata": {},
   "outputs": [
    {
     "name": "stdout",
     "output_type": "stream",
     "text": [
      "<class 'pandas.core.frame.DataFrame'>\n",
      "RangeIndex: 245 entries, 0 to 244\n",
      "Data columns (total 21 columns):\n",
      " #   Column                Non-Null Count  Dtype  \n",
      "---  ------                --------------  -----  \n",
      " 0   Number                245 non-null    object \n",
      " 1   Active                245 non-null    object \n",
      " 2   Project Name          245 non-null    object \n",
      " 3   Project Type          245 non-null    object \n",
      " 4   Geographical scope    245 non-null    object \n",
      " 5   Project manager       245 non-null    object \n",
      " 6   State                 245 non-null    object \n",
      " 7   Percent complete      245 non-null    float64\n",
      " 8   Project size          245 non-null    object \n",
      " 9   Project organization  245 non-null    object \n",
      " 10  Planned Go Live date  245 non-null    object \n",
      " 11  Project target phase  72 non-null     object \n",
      " 12  BG                    245 non-null    object \n",
      " 13  Domain                245 non-null    object \n",
      " 14  Last WAR              232 non-null    object \n",
      " 15  Project Health        232 non-null    object \n",
      " 16  Project type          245 non-null    object \n",
      " 17  Recurrent activity    245 non-null    object \n",
      " 18  Planned start date    245 non-null    object \n",
      " 19  Actual start date     227 non-null    object \n",
      " 20  On-hold               245 non-null    object \n",
      "dtypes: float64(1), object(20)\n",
      "memory usage: 40.3+ KB\n"
     ]
    }
   ],
   "source": [
    "df = df.drop(columns=[\"Actual end date\", \"Closed\", \"Domain Path\", \"Actual Go Live date\"])\n",
    "df.info()"
   ]
  },
  {
   "cell_type": "markdown",
   "id": "9211e6fb",
   "metadata": {},
   "source": [
    "#### **Procesamos outliers y nulos** "
   ]
  },
  {
   "cell_type": "code",
   "execution_count": 7,
   "id": "7fd20b1f",
   "metadata": {},
   "outputs": [],
   "source": [
    "df[\"Planned start date 2\"] = pd.to_datetime(df[\"Planned start date\"], dayfirst=True, errors='coerce')"
   ]
  },
  {
   "cell_type": "code",
   "execution_count": 8,
   "id": "c3b19ed2",
   "metadata": {},
   "outputs": [
    {
     "data": {
      "text/plain": [
       "133"
      ]
     },
     "execution_count": 8,
     "metadata": {},
     "output_type": "execute_result"
    }
   ],
   "source": [
    "sum = int(df[\"Planned start date 2\"].isnull().sum())\n",
    "sum"
   ]
  },
  {
   "cell_type": "code",
   "execution_count": 9,
   "id": "3162a810",
   "metadata": {},
   "outputs": [],
   "source": [
    "df[\"Planned start date 3\"] = df[\"Planned start date\"].str.extract(r'(\\d{1,2}/\\d{1,2}/\\d{4})')"
   ]
  },
  {
   "cell_type": "code",
   "execution_count": 10,
   "id": "2bb64ef3",
   "metadata": {},
   "outputs": [
    {
     "data": {
      "text/plain": [
       "0"
      ]
     },
     "execution_count": 10,
     "metadata": {},
     "output_type": "execute_result"
    }
   ],
   "source": [
    "sum = int(df[\"Planned start date 3\"].isnull().sum())\n",
    "sum"
   ]
  },
  {
   "cell_type": "code",
   "execution_count": 11,
   "id": "491c3eed",
   "metadata": {},
   "outputs": [
    {
     "data": {
      "text/html": [
       "<div>\n",
       "<style scoped>\n",
       "    .dataframe tbody tr th:only-of-type {\n",
       "        vertical-align: middle;\n",
       "    }\n",
       "\n",
       "    .dataframe tbody tr th {\n",
       "        vertical-align: top;\n",
       "    }\n",
       "\n",
       "    .dataframe thead th {\n",
       "        text-align: right;\n",
       "    }\n",
       "</style>\n",
       "<table border=\"1\" class=\"dataframe\">\n",
       "  <thead>\n",
       "    <tr style=\"text-align: right;\">\n",
       "      <th></th>\n",
       "      <th>Planned start date</th>\n",
       "      <th>Planned start date 2</th>\n",
       "      <th>Planned start date 3</th>\n",
       "    </tr>\n",
       "  </thead>\n",
       "  <tbody>\n",
       "    <tr>\n",
       "      <th>1</th>\n",
       "      <td>18/01/2024 08:00:00</td>\n",
       "      <td>NaT</td>\n",
       "      <td>18/01/2024</td>\n",
       "    </tr>\n",
       "    <tr>\n",
       "      <th>7</th>\n",
       "      <td>14/10/2024 08:00:00</td>\n",
       "      <td>NaT</td>\n",
       "      <td>14/10/2024</td>\n",
       "    </tr>\n",
       "    <tr>\n",
       "      <th>8</th>\n",
       "      <td>14/02/2025 08:00:00</td>\n",
       "      <td>NaT</td>\n",
       "      <td>14/02/2025</td>\n",
       "    </tr>\n",
       "    <tr>\n",
       "      <th>9</th>\n",
       "      <td>19/09/2024 08:00:00</td>\n",
       "      <td>NaT</td>\n",
       "      <td>19/09/2024</td>\n",
       "    </tr>\n",
       "    <tr>\n",
       "      <th>10</th>\n",
       "      <td>21/10/2024 14:00:00</td>\n",
       "      <td>NaT</td>\n",
       "      <td>21/10/2024</td>\n",
       "    </tr>\n",
       "    <tr>\n",
       "      <th>...</th>\n",
       "      <td>...</td>\n",
       "      <td>...</td>\n",
       "      <td>...</td>\n",
       "    </tr>\n",
       "    <tr>\n",
       "      <th>235</th>\n",
       "      <td>28/03/2025 06:00:00</td>\n",
       "      <td>NaT</td>\n",
       "      <td>28/03/2025</td>\n",
       "    </tr>\n",
       "    <tr>\n",
       "      <th>238</th>\n",
       "      <td>28/10/2024 08:00:00</td>\n",
       "      <td>NaT</td>\n",
       "      <td>28/10/2024</td>\n",
       "    </tr>\n",
       "    <tr>\n",
       "      <th>239</th>\n",
       "      <td>21/01/2025 08:00:00</td>\n",
       "      <td>NaT</td>\n",
       "      <td>21/01/2025</td>\n",
       "    </tr>\n",
       "    <tr>\n",
       "      <th>240</th>\n",
       "      <td>25/03/2025 08:00:00</td>\n",
       "      <td>NaT</td>\n",
       "      <td>25/03/2025</td>\n",
       "    </tr>\n",
       "    <tr>\n",
       "      <th>241</th>\n",
       "      <td>23/04/2024 08:00:00</td>\n",
       "      <td>NaT</td>\n",
       "      <td>23/04/2024</td>\n",
       "    </tr>\n",
       "  </tbody>\n",
       "</table>\n",
       "<p>133 rows × 3 columns</p>\n",
       "</div>"
      ],
      "text/plain": [
       "      Planned start date Planned start date 2 Planned start date 3\n",
       "1    18/01/2024 08:00:00                  NaT           18/01/2024\n",
       "7    14/10/2024 08:00:00                  NaT           14/10/2024\n",
       "8    14/02/2025 08:00:00                  NaT           14/02/2025\n",
       "9    19/09/2024 08:00:00                  NaT           19/09/2024\n",
       "10   21/10/2024 14:00:00                  NaT           21/10/2024\n",
       "..                   ...                  ...                  ...\n",
       "235  28/03/2025 06:00:00                  NaT           28/03/2025\n",
       "238  28/10/2024 08:00:00                  NaT           28/10/2024\n",
       "239  21/01/2025 08:00:00                  NaT           21/01/2025\n",
       "240  25/03/2025 08:00:00                  NaT           25/03/2025\n",
       "241  23/04/2024 08:00:00                  NaT           23/04/2024\n",
       "\n",
       "[133 rows x 3 columns]"
      ]
     },
     "execution_count": 11,
     "metadata": {},
     "output_type": "execute_result"
    }
   ],
   "source": [
    "df[df[\"Planned start date 2\"].isnull()][[\"Planned start date\", \"Planned start date 2\", \"Planned start date 3\"]]"
   ]
  },
  {
   "cell_type": "code",
   "execution_count": 12,
   "id": "490786df",
   "metadata": {},
   "outputs": [],
   "source": [
    "df['Planned start date'] = pd.to_datetime(df['Planned start date 3'], format='%d/%m/%Y', dayfirst=True, errors='coerce')"
   ]
  },
  {
   "cell_type": "code",
   "execution_count": 13,
   "id": "12484aa8",
   "metadata": {},
   "outputs": [
    {
     "data": {
      "text/html": [
       "<div>\n",
       "<style scoped>\n",
       "    .dataframe tbody tr th:only-of-type {\n",
       "        vertical-align: middle;\n",
       "    }\n",
       "\n",
       "    .dataframe tbody tr th {\n",
       "        vertical-align: top;\n",
       "    }\n",
       "\n",
       "    .dataframe thead th {\n",
       "        text-align: right;\n",
       "    }\n",
       "</style>\n",
       "<table border=\"1\" class=\"dataframe\">\n",
       "  <thead>\n",
       "    <tr style=\"text-align: right;\">\n",
       "      <th></th>\n",
       "      <th>Planned start date</th>\n",
       "      <th>Planned start date 2</th>\n",
       "      <th>Planned start date 3</th>\n",
       "    </tr>\n",
       "  </thead>\n",
       "  <tbody>\n",
       "    <tr>\n",
       "      <th>1</th>\n",
       "      <td>2024-01-18</td>\n",
       "      <td>NaT</td>\n",
       "      <td>18/01/2024</td>\n",
       "    </tr>\n",
       "    <tr>\n",
       "      <th>7</th>\n",
       "      <td>2024-10-14</td>\n",
       "      <td>NaT</td>\n",
       "      <td>14/10/2024</td>\n",
       "    </tr>\n",
       "    <tr>\n",
       "      <th>8</th>\n",
       "      <td>2025-02-14</td>\n",
       "      <td>NaT</td>\n",
       "      <td>14/02/2025</td>\n",
       "    </tr>\n",
       "    <tr>\n",
       "      <th>9</th>\n",
       "      <td>2024-09-19</td>\n",
       "      <td>NaT</td>\n",
       "      <td>19/09/2024</td>\n",
       "    </tr>\n",
       "    <tr>\n",
       "      <th>10</th>\n",
       "      <td>2024-10-21</td>\n",
       "      <td>NaT</td>\n",
       "      <td>21/10/2024</td>\n",
       "    </tr>\n",
       "    <tr>\n",
       "      <th>...</th>\n",
       "      <td>...</td>\n",
       "      <td>...</td>\n",
       "      <td>...</td>\n",
       "    </tr>\n",
       "    <tr>\n",
       "      <th>235</th>\n",
       "      <td>2025-03-28</td>\n",
       "      <td>NaT</td>\n",
       "      <td>28/03/2025</td>\n",
       "    </tr>\n",
       "    <tr>\n",
       "      <th>238</th>\n",
       "      <td>2024-10-28</td>\n",
       "      <td>NaT</td>\n",
       "      <td>28/10/2024</td>\n",
       "    </tr>\n",
       "    <tr>\n",
       "      <th>239</th>\n",
       "      <td>2025-01-21</td>\n",
       "      <td>NaT</td>\n",
       "      <td>21/01/2025</td>\n",
       "    </tr>\n",
       "    <tr>\n",
       "      <th>240</th>\n",
       "      <td>2025-03-25</td>\n",
       "      <td>NaT</td>\n",
       "      <td>25/03/2025</td>\n",
       "    </tr>\n",
       "    <tr>\n",
       "      <th>241</th>\n",
       "      <td>2024-04-23</td>\n",
       "      <td>NaT</td>\n",
       "      <td>23/04/2024</td>\n",
       "    </tr>\n",
       "  </tbody>\n",
       "</table>\n",
       "<p>133 rows × 3 columns</p>\n",
       "</div>"
      ],
      "text/plain": [
       "    Planned start date Planned start date 2 Planned start date 3\n",
       "1           2024-01-18                  NaT           18/01/2024\n",
       "7           2024-10-14                  NaT           14/10/2024\n",
       "8           2025-02-14                  NaT           14/02/2025\n",
       "9           2024-09-19                  NaT           19/09/2024\n",
       "10          2024-10-21                  NaT           21/10/2024\n",
       "..                 ...                  ...                  ...\n",
       "235         2025-03-28                  NaT           28/03/2025\n",
       "238         2024-10-28                  NaT           28/10/2024\n",
       "239         2025-01-21                  NaT           21/01/2025\n",
       "240         2025-03-25                  NaT           25/03/2025\n",
       "241         2024-04-23                  NaT           23/04/2024\n",
       "\n",
       "[133 rows x 3 columns]"
      ]
     },
     "execution_count": 13,
     "metadata": {},
     "output_type": "execute_result"
    }
   ],
   "source": [
    "df[df[\"Planned start date 2\"].isnull()][[\"Planned start date\", \"Planned start date 2\", \"Planned start date 3\"]]"
   ]
  },
  {
   "cell_type": "code",
   "execution_count": 14,
   "id": "10d2b523",
   "metadata": {},
   "outputs": [
    {
     "name": "stdout",
     "output_type": "stream",
     "text": [
      "<class 'pandas.core.frame.DataFrame'>\n",
      "RangeIndex: 245 entries, 0 to 244\n",
      "Data columns (total 21 columns):\n",
      " #   Column                Non-Null Count  Dtype         \n",
      "---  ------                --------------  -----         \n",
      " 0   Number                245 non-null    object        \n",
      " 1   Active                245 non-null    object        \n",
      " 2   Project Name          245 non-null    object        \n",
      " 3   Project Type          245 non-null    object        \n",
      " 4   Geographical scope    245 non-null    object        \n",
      " 5   Project manager       245 non-null    object        \n",
      " 6   State                 245 non-null    object        \n",
      " 7   Percent complete      245 non-null    float64       \n",
      " 8   Project size          245 non-null    object        \n",
      " 9   Project organization  245 non-null    object        \n",
      " 10  Planned Go Live date  245 non-null    object        \n",
      " 11  Project target phase  72 non-null     object        \n",
      " 12  BG                    245 non-null    object        \n",
      " 13  Domain                245 non-null    object        \n",
      " 14  Last WAR              232 non-null    object        \n",
      " 15  Project Health        232 non-null    object        \n",
      " 16  Project type          245 non-null    object        \n",
      " 17  Recurrent activity    245 non-null    object        \n",
      " 18  Planned start date    245 non-null    datetime64[ns]\n",
      " 19  Actual start date     227 non-null    object        \n",
      " 20  On-hold               245 non-null    object        \n",
      "dtypes: datetime64[ns](1), float64(1), object(19)\n",
      "memory usage: 40.3+ KB\n"
     ]
    }
   ],
   "source": [
    "df.drop(columns=[\"Planned start date 2\", \"Planned start date 3\"], inplace=True)\n",
    "df.info()"
   ]
  },
  {
   "cell_type": "code",
   "execution_count": 15,
   "id": "e641d920",
   "metadata": {},
   "outputs": [
    {
     "data": {
      "text/plain": [
       "Number                    0\n",
       "Active                    0\n",
       "Project Name              0\n",
       "Project Type              0\n",
       "Geographical scope        0\n",
       "Project manager           0\n",
       "State                     0\n",
       "Percent complete          0\n",
       "Project size              0\n",
       "Project organization      0\n",
       "Planned Go Live date      0\n",
       "Project target phase    173\n",
       "BG                        0\n",
       "Domain                    0\n",
       "Last WAR                 13\n",
       "Project Health           13\n",
       "Project type              0\n",
       "Recurrent activity        0\n",
       "Planned start date        0\n",
       "Actual start date        18\n",
       "On-hold                   0\n",
       "dtype: int64"
      ]
     },
     "execution_count": 15,
     "metadata": {},
     "output_type": "execute_result"
    }
   ],
   "source": [
    "df.isnull().sum()"
   ]
  },
  {
   "cell_type": "markdown",
   "id": "b7dda60d",
   "metadata": {},
   "source": [
    "### project target phase, last war, project health, actual start day (str)"
   ]
  },
  {
   "cell_type": "code",
   "execution_count": 16,
   "id": "0efad953",
   "metadata": {},
   "outputs": [],
   "source": [
    "df[\"Project target phase\"] =df[\"Project target phase\"].fillna(\"NA\") \n",
    "df[\"Last WAR\"] =df[\"Last WAR\"].fillna(\"NA\")\n",
    "df[\"Actual start date\"] =df[\"Actual start date\"].fillna(\"NA\")\n"
   ]
  },
  {
   "cell_type": "code",
   "execution_count": 17,
   "id": "460085bd",
   "metadata": {},
   "outputs": [],
   "source": [
    "df[\"Project Health\"] =df[\"Project Health\"].fillna('Red')"
   ]
  },
  {
   "cell_type": "code",
   "execution_count": 18,
   "id": "8ddc9290",
   "metadata": {},
   "outputs": [
    {
     "data": {
      "text/plain": [
       "Number                  0\n",
       "Active                  0\n",
       "Project Name            0\n",
       "Project Type            0\n",
       "Geographical scope      0\n",
       "Project manager         0\n",
       "State                   0\n",
       "Percent complete        0\n",
       "Project size            0\n",
       "Project organization    0\n",
       "Planned Go Live date    0\n",
       "Project target phase    0\n",
       "BG                      0\n",
       "Domain                  0\n",
       "Last WAR                0\n",
       "Project Health          0\n",
       "Project type            0\n",
       "Recurrent activity      0\n",
       "Planned start date      0\n",
       "Actual start date       0\n",
       "On-hold                 0\n",
       "dtype: int64"
      ]
     },
     "execution_count": 18,
     "metadata": {},
     "output_type": "execute_result"
    }
   ],
   "source": [
    "df.isnull().sum()"
   ]
  },
  {
   "cell_type": "markdown",
   "id": "dc17f765",
   "metadata": {},
   "source": [
    "#### **Project Type**"
   ]
  },
  {
   "cell_type": "code",
   "execution_count": 19,
   "id": "23ef7146",
   "metadata": {},
   "outputs": [
    {
     "data": {
      "text/html": [
       "<div>\n",
       "<style scoped>\n",
       "    .dataframe tbody tr th:only-of-type {\n",
       "        vertical-align: middle;\n",
       "    }\n",
       "\n",
       "    .dataframe tbody tr th {\n",
       "        vertical-align: top;\n",
       "    }\n",
       "\n",
       "    .dataframe thead th {\n",
       "        text-align: right;\n",
       "    }\n",
       "</style>\n",
       "<table border=\"1\" class=\"dataframe\">\n",
       "  <thead>\n",
       "    <tr style=\"text-align: right;\">\n",
       "      <th></th>\n",
       "      <th>Project Type</th>\n",
       "      <th>count</th>\n",
       "    </tr>\n",
       "  </thead>\n",
       "  <tbody>\n",
       "    <tr>\n",
       "      <th>0</th>\n",
       "      <td>Shopfloor JIT/TCO</td>\n",
       "      <td>80</td>\n",
       "    </tr>\n",
       "    <tr>\n",
       "      <th>1</th>\n",
       "      <td>FCS roll-outs</td>\n",
       "      <td>75</td>\n",
       "    </tr>\n",
       "    <tr>\n",
       "      <th>2</th>\n",
       "      <td>New software or release</td>\n",
       "      <td>46</td>\n",
       "    </tr>\n",
       "    <tr>\n",
       "      <th>3</th>\n",
       "      <td>Shopfloor LES/NEO</td>\n",
       "      <td>13</td>\n",
       "    </tr>\n",
       "    <tr>\n",
       "      <th>4</th>\n",
       "      <td>Studies / Moves / Solution Selection / Other</td>\n",
       "      <td>8</td>\n",
       "    </tr>\n",
       "    <tr>\n",
       "      <th>5</th>\n",
       "      <td>New Site infrastructure</td>\n",
       "      <td>7</td>\n",
       "    </tr>\n",
       "    <tr>\n",
       "      <th>6</th>\n",
       "      <td>Overall Project Coordination</td>\n",
       "      <td>6</td>\n",
       "    </tr>\n",
       "    <tr>\n",
       "      <th>7</th>\n",
       "      <td>Shopfloor DMC/SPC</td>\n",
       "      <td>5</td>\n",
       "    </tr>\n",
       "    <tr>\n",
       "      <th>8</th>\n",
       "      <td>New infrastructure</td>\n",
       "      <td>3</td>\n",
       "    </tr>\n",
       "    <tr>\n",
       "      <th>9</th>\n",
       "      <td>ITAC</td>\n",
       "      <td>1</td>\n",
       "    </tr>\n",
       "    <tr>\n",
       "      <th>10</th>\n",
       "      <td>Carve-out/in</td>\n",
       "      <td>1</td>\n",
       "    </tr>\n",
       "  </tbody>\n",
       "</table>\n",
       "</div>"
      ],
      "text/plain": [
       "                                    Project Type  count\n",
       "0                              Shopfloor JIT/TCO     80\n",
       "1                                  FCS roll-outs     75\n",
       "2                        New software or release     46\n",
       "3                              Shopfloor LES/NEO     13\n",
       "4   Studies / Moves / Solution Selection / Other      8\n",
       "5                        New Site infrastructure      7\n",
       "6                   Overall Project Coordination      6\n",
       "7                              Shopfloor DMC/SPC      5\n",
       "8                             New infrastructure      3\n",
       "9                                           ITAC      1\n",
       "10                                  Carve-out/in      1"
      ]
     },
     "execution_count": 19,
     "metadata": {},
     "output_type": "execute_result"
    }
   ],
   "source": [
    "tabla_freq = df['Project Type'].value_counts().reset_index()\n",
    "tabla_freq"
   ]
  },
  {
   "cell_type": "code",
   "execution_count": 20,
   "id": "c24db9a9",
   "metadata": {},
   "outputs": [
    {
     "data": {
      "text/html": [
       "<div>\n",
       "<style scoped>\n",
       "    .dataframe tbody tr th:only-of-type {\n",
       "        vertical-align: middle;\n",
       "    }\n",
       "\n",
       "    .dataframe tbody tr th {\n",
       "        vertical-align: top;\n",
       "    }\n",
       "\n",
       "    .dataframe thead th {\n",
       "        text-align: right;\n",
       "    }\n",
       "</style>\n",
       "<table border=\"1\" class=\"dataframe\">\n",
       "  <thead>\n",
       "    <tr style=\"text-align: right;\">\n",
       "      <th></th>\n",
       "      <th>Project Type</th>\n",
       "      <th>count</th>\n",
       "    </tr>\n",
       "  </thead>\n",
       "  <tbody>\n",
       "    <tr>\n",
       "      <th>0</th>\n",
       "      <td>Shopfloor JIT/TCO</td>\n",
       "      <td>80</td>\n",
       "    </tr>\n",
       "    <tr>\n",
       "      <th>1</th>\n",
       "      <td>FCS roll-outs</td>\n",
       "      <td>75</td>\n",
       "    </tr>\n",
       "    <tr>\n",
       "      <th>2</th>\n",
       "      <td>New software or release</td>\n",
       "      <td>46</td>\n",
       "    </tr>\n",
       "    <tr>\n",
       "      <th>3</th>\n",
       "      <td>Shopfloor LES/NEO</td>\n",
       "      <td>13</td>\n",
       "    </tr>\n",
       "    <tr>\n",
       "      <th>4</th>\n",
       "      <td>Studies / Moves / Solution Selection / Other</td>\n",
       "      <td>8</td>\n",
       "    </tr>\n",
       "    <tr>\n",
       "      <th>5</th>\n",
       "      <td>New Site infrastructure</td>\n",
       "      <td>7</td>\n",
       "    </tr>\n",
       "    <tr>\n",
       "      <th>6</th>\n",
       "      <td>Overall Project Coordination</td>\n",
       "      <td>6</td>\n",
       "    </tr>\n",
       "    <tr>\n",
       "      <th>7</th>\n",
       "      <td>Shopfloor DMC/SPC</td>\n",
       "      <td>5</td>\n",
       "    </tr>\n",
       "    <tr>\n",
       "      <th>8</th>\n",
       "      <td>New infrastructure</td>\n",
       "      <td>3</td>\n",
       "    </tr>\n",
       "  </tbody>\n",
       "</table>\n",
       "</div>"
      ],
      "text/plain": [
       "                                   Project Type  count\n",
       "0                             Shopfloor JIT/TCO     80\n",
       "1                                 FCS roll-outs     75\n",
       "2                       New software or release     46\n",
       "3                             Shopfloor LES/NEO     13\n",
       "4  Studies / Moves / Solution Selection / Other      8\n",
       "5                       New Site infrastructure      7\n",
       "6                  Overall Project Coordination      6\n",
       "7                             Shopfloor DMC/SPC      5\n",
       "8                            New infrastructure      3"
      ]
     },
     "execution_count": 20,
     "metadata": {},
     "output_type": "execute_result"
    }
   ],
   "source": [
    "# filtro con los valores más relevantes de la variable \n",
    "filtro = tabla_freq[tabla_freq['count']>1]\n",
    "filtro"
   ]
  },
  {
   "cell_type": "code",
   "execution_count": 21,
   "id": "5c891262",
   "metadata": {},
   "outputs": [
    {
     "data": {
      "text/html": [
       "<div>\n",
       "<style scoped>\n",
       "    .dataframe tbody tr th:only-of-type {\n",
       "        vertical-align: middle;\n",
       "    }\n",
       "\n",
       "    .dataframe tbody tr th {\n",
       "        vertical-align: top;\n",
       "    }\n",
       "\n",
       "    .dataframe thead th {\n",
       "        text-align: right;\n",
       "    }\n",
       "</style>\n",
       "<table border=\"1\" class=\"dataframe\">\n",
       "  <thead>\n",
       "    <tr style=\"text-align: right;\">\n",
       "      <th></th>\n",
       "      <th>count</th>\n",
       "    </tr>\n",
       "    <tr>\n",
       "      <th>Project Type</th>\n",
       "      <th></th>\n",
       "    </tr>\n",
       "  </thead>\n",
       "  <tbody>\n",
       "    <tr>\n",
       "      <th>Shopfloor JIT/TCO</th>\n",
       "      <td>80</td>\n",
       "    </tr>\n",
       "    <tr>\n",
       "      <th>FCS roll-outs</th>\n",
       "      <td>75</td>\n",
       "    </tr>\n",
       "    <tr>\n",
       "      <th>New software or release</th>\n",
       "      <td>46</td>\n",
       "    </tr>\n",
       "    <tr>\n",
       "      <th>Shopfloor LES/NEO</th>\n",
       "      <td>13</td>\n",
       "    </tr>\n",
       "    <tr>\n",
       "      <th>Studies / Moves / Solution Selection / Other</th>\n",
       "      <td>8</td>\n",
       "    </tr>\n",
       "    <tr>\n",
       "      <th>New Site infrastructure</th>\n",
       "      <td>7</td>\n",
       "    </tr>\n",
       "    <tr>\n",
       "      <th>Overall Project Coordination</th>\n",
       "      <td>6</td>\n",
       "    </tr>\n",
       "    <tr>\n",
       "      <th>Shopfloor DMC/SPC</th>\n",
       "      <td>5</td>\n",
       "    </tr>\n",
       "    <tr>\n",
       "      <th>New infrastructure</th>\n",
       "      <td>3</td>\n",
       "    </tr>\n",
       "  </tbody>\n",
       "</table>\n",
       "</div>"
      ],
      "text/plain": [
       "                                              count\n",
       "Project Type                                       \n",
       "Shopfloor JIT/TCO                                80\n",
       "FCS roll-outs                                    75\n",
       "New software or release                          46\n",
       "Shopfloor LES/NEO                                13\n",
       "Studies / Moves / Solution Selection / Other      8\n",
       "New Site infrastructure                           7\n",
       "Overall Project Coordination                      6\n",
       "Shopfloor DMC/SPC                                 5\n",
       "New infrastructure                                3"
      ]
     },
     "execution_count": 21,
     "metadata": {},
     "output_type": "execute_result"
    }
   ],
   "source": [
    "# ajusto el index el df (variables categoricas de tipo string y numericas)\n",
    "filtro_index = filtro.set_index('Project Type')\n",
    "filtro_index"
   ]
  },
  {
   "cell_type": "code",
   "execution_count": 22,
   "id": "b51ddf6d",
   "metadata": {},
   "outputs": [
    {
     "data": {
      "text/plain": [
       "Text(0, 0.5, 'Frecuencia')"
      ]
     },
     "execution_count": 22,
     "metadata": {},
     "output_type": "execute_result"
    },
    {
     "data": {
      "image/png": "[encoded data removed]",
      "text/plain": [
       "<Figure size 800x300 with 1 Axes>"
      ]
     },
     "metadata": {},
     "output_type": "display_data"
    }
   ],
   "source": [
    "# realizamos gráfico de barras\n",
    "filtro_index.plot(kind = 'bar', width = 0.8, figsize=(8,3), color = \"orchid\")\n",
    "plt. title('Project Type')\n",
    "plt.xlabel('Tipo')\n",
    "plt.ylabel('Frecuencia')"
   ]
  },
  {
   "cell_type": "markdown",
   "id": "528f6e0c",
   "metadata": {},
   "source": [
    "#### **Geographical Scope**"
   ]
  },
  {
   "cell_type": "code",
   "execution_count": 23,
   "id": "7f085044",
   "metadata": {},
   "outputs": [
    {
     "data": {
      "text/html": [
       "<div>\n",
       "<style scoped>\n",
       "    .dataframe tbody tr th:only-of-type {\n",
       "        vertical-align: middle;\n",
       "    }\n",
       "\n",
       "    .dataframe tbody tr th {\n",
       "        vertical-align: top;\n",
       "    }\n",
       "\n",
       "    .dataframe thead th {\n",
       "        text-align: right;\n",
       "    }\n",
       "</style>\n",
       "<table border=\"1\" class=\"dataframe\">\n",
       "  <thead>\n",
       "    <tr style=\"text-align: right;\">\n",
       "      <th></th>\n",
       "      <th>Geographical scope</th>\n",
       "      <th>count</th>\n",
       "    </tr>\n",
       "  </thead>\n",
       "  <tbody>\n",
       "    <tr>\n",
       "      <th>0</th>\n",
       "      <td>WORLD WIDE</td>\n",
       "      <td>20</td>\n",
       "    </tr>\n",
       "    <tr>\n",
       "      <th>1</th>\n",
       "      <td>BRAZIL</td>\n",
       "      <td>9</td>\n",
       "    </tr>\n",
       "    <tr>\n",
       "      <th>2</th>\n",
       "      <td>PUEBLA HQ</td>\n",
       "      <td>7</td>\n",
       "    </tr>\n",
       "    <tr>\n",
       "      <th>3</th>\n",
       "      <td>BRAGANCA</td>\n",
       "      <td>6</td>\n",
       "    </tr>\n",
       "    <tr>\n",
       "      <th>4</th>\n",
       "      <td>PARIS TECH CENTER</td>\n",
       "      <td>5</td>\n",
       "    </tr>\n",
       "    <tr>\n",
       "      <th>...</th>\n",
       "      <td>...</td>\n",
       "      <td>...</td>\n",
       "    </tr>\n",
       "    <tr>\n",
       "      <th>121</th>\n",
       "      <td>JAPAN</td>\n",
       "      <td>1</td>\n",
       "    </tr>\n",
       "    <tr>\n",
       "      <th>122</th>\n",
       "      <td>JANGAN FHS</td>\n",
       "      <td>1</td>\n",
       "    </tr>\n",
       "    <tr>\n",
       "      <th>123</th>\n",
       "      <td>JANGAN</td>\n",
       "      <td>1</td>\n",
       "    </tr>\n",
       "    <tr>\n",
       "      <th>124</th>\n",
       "      <td>HERRENBERG</td>\n",
       "      <td>1</td>\n",
       "    </tr>\n",
       "    <tr>\n",
       "      <th>125</th>\n",
       "      <td>NANTERRE HQ</td>\n",
       "      <td>1</td>\n",
       "    </tr>\n",
       "  </tbody>\n",
       "</table>\n",
       "<p>126 rows × 2 columns</p>\n",
       "</div>"
      ],
      "text/plain": [
       "    Geographical scope  count\n",
       "0           WORLD WIDE     20\n",
       "1               BRAZIL      9\n",
       "2            PUEBLA HQ      7\n",
       "3             BRAGANCA      6\n",
       "4    PARIS TECH CENTER      5\n",
       "..                 ...    ...\n",
       "121              JAPAN      1\n",
       "122        JANGAN FHS       1\n",
       "123             JANGAN      1\n",
       "124         HERRENBERG      1\n",
       "125        NANTERRE HQ      1\n",
       "\n",
       "[126 rows x 2 columns]"
      ]
     },
     "execution_count": 23,
     "metadata": {},
     "output_type": "execute_result"
    }
   ],
   "source": [
    "tabla_freq1 = df['Geographical scope'].value_counts().reset_index()\n",
    "tabla_freq1"
   ]
  },
  {
   "cell_type": "code",
   "execution_count": 24,
   "id": "3942b86f",
   "metadata": {},
   "outputs": [
    {
     "data": {
      "text/html": [
       "<div>\n",
       "<style scoped>\n",
       "    .dataframe tbody tr th:only-of-type {\n",
       "        vertical-align: middle;\n",
       "    }\n",
       "\n",
       "    .dataframe tbody tr th {\n",
       "        vertical-align: top;\n",
       "    }\n",
       "\n",
       "    .dataframe thead th {\n",
       "        text-align: right;\n",
       "    }\n",
       "</style>\n",
       "<table border=\"1\" class=\"dataframe\">\n",
       "  <thead>\n",
       "    <tr style=\"text-align: right;\">\n",
       "      <th></th>\n",
       "      <th>Geographical scope</th>\n",
       "      <th>count</th>\n",
       "    </tr>\n",
       "  </thead>\n",
       "  <tbody>\n",
       "    <tr>\n",
       "      <th>0</th>\n",
       "      <td>WORLD WIDE</td>\n",
       "      <td>20</td>\n",
       "    </tr>\n",
       "    <tr>\n",
       "      <th>1</th>\n",
       "      <td>BRAZIL</td>\n",
       "      <td>9</td>\n",
       "    </tr>\n",
       "    <tr>\n",
       "      <th>2</th>\n",
       "      <td>PUEBLA HQ</td>\n",
       "      <td>7</td>\n",
       "    </tr>\n",
       "    <tr>\n",
       "      <th>3</th>\n",
       "      <td>BRAGANCA</td>\n",
       "      <td>6</td>\n",
       "    </tr>\n",
       "    <tr>\n",
       "      <th>4</th>\n",
       "      <td>PARIS TECH CENTER</td>\n",
       "      <td>5</td>\n",
       "    </tr>\n",
       "    <tr>\n",
       "      <th>5</th>\n",
       "      <td>MLADA BOLESLAV FCM Bezdecin</td>\n",
       "      <td>5</td>\n",
       "    </tr>\n",
       "    <tr>\n",
       "      <th>6</th>\n",
       "      <td>LIPPSTADT 2 HQH &amp; FES R&amp;D</td>\n",
       "      <td>5</td>\n",
       "    </tr>\n",
       "    <tr>\n",
       "      <th>7</th>\n",
       "      <td>GOIANA</td>\n",
       "      <td>4</td>\n",
       "    </tr>\n",
       "    <tr>\n",
       "      <th>8</th>\n",
       "      <td>NAO</td>\n",
       "      <td>4</td>\n",
       "    </tr>\n",
       "    <tr>\n",
       "      <th>9</th>\n",
       "      <td>MLADA BOLESLAV FIS</td>\n",
       "      <td>4</td>\n",
       "    </tr>\n",
       "    <tr>\n",
       "      <th>10</th>\n",
       "      <td>LIPPSTADT 1</td>\n",
       "      <td>4</td>\n",
       "    </tr>\n",
       "  </tbody>\n",
       "</table>\n",
       "</div>"
      ],
      "text/plain": [
       "             Geographical scope  count\n",
       "0                    WORLD WIDE     20\n",
       "1                        BRAZIL      9\n",
       "2                     PUEBLA HQ      7\n",
       "3                      BRAGANCA      6\n",
       "4             PARIS TECH CENTER      5\n",
       "5   MLADA BOLESLAV FCM Bezdecin      5\n",
       "6     LIPPSTADT 2 HQH & FES R&D      5\n",
       "7                        GOIANA      4\n",
       "8                           NAO      4\n",
       "9            MLADA BOLESLAV FIS      4\n",
       "10                  LIPPSTADT 1      4"
      ]
     },
     "execution_count": 24,
     "metadata": {},
     "output_type": "execute_result"
    }
   ],
   "source": [
    "# filtro con los valores más relevantes de la variable \n",
    "filtro1 = tabla_freq1[tabla_freq1['count']>3]\n",
    "filtro1"
   ]
  },
  {
   "cell_type": "code",
   "execution_count": 25,
   "id": "677860bf",
   "metadata": {},
   "outputs": [
    {
     "data": {
      "text/html": [
       "<div>\n",
       "<style scoped>\n",
       "    .dataframe tbody tr th:only-of-type {\n",
       "        vertical-align: middle;\n",
       "    }\n",
       "\n",
       "    .dataframe tbody tr th {\n",
       "        vertical-align: top;\n",
       "    }\n",
       "\n",
       "    .dataframe thead th {\n",
       "        text-align: right;\n",
       "    }\n",
       "</style>\n",
       "<table border=\"1\" class=\"dataframe\">\n",
       "  <thead>\n",
       "    <tr style=\"text-align: right;\">\n",
       "      <th></th>\n",
       "      <th>count</th>\n",
       "    </tr>\n",
       "    <tr>\n",
       "      <th>Geographical scope</th>\n",
       "      <th></th>\n",
       "    </tr>\n",
       "  </thead>\n",
       "  <tbody>\n",
       "    <tr>\n",
       "      <th>WORLD WIDE</th>\n",
       "      <td>20</td>\n",
       "    </tr>\n",
       "    <tr>\n",
       "      <th>BRAZIL</th>\n",
       "      <td>9</td>\n",
       "    </tr>\n",
       "    <tr>\n",
       "      <th>PUEBLA HQ</th>\n",
       "      <td>7</td>\n",
       "    </tr>\n",
       "    <tr>\n",
       "      <th>BRAGANCA</th>\n",
       "      <td>6</td>\n",
       "    </tr>\n",
       "    <tr>\n",
       "      <th>PARIS TECH CENTER</th>\n",
       "      <td>5</td>\n",
       "    </tr>\n",
       "    <tr>\n",
       "      <th>MLADA BOLESLAV FCM Bezdecin</th>\n",
       "      <td>5</td>\n",
       "    </tr>\n",
       "    <tr>\n",
       "      <th>LIPPSTADT 2 HQH &amp; FES R&amp;D</th>\n",
       "      <td>5</td>\n",
       "    </tr>\n",
       "    <tr>\n",
       "      <th>GOIANA</th>\n",
       "      <td>4</td>\n",
       "    </tr>\n",
       "    <tr>\n",
       "      <th>NAO</th>\n",
       "      <td>4</td>\n",
       "    </tr>\n",
       "    <tr>\n",
       "      <th>MLADA BOLESLAV FIS</th>\n",
       "      <td>4</td>\n",
       "    </tr>\n",
       "    <tr>\n",
       "      <th>LIPPSTADT 1</th>\n",
       "      <td>4</td>\n",
       "    </tr>\n",
       "  </tbody>\n",
       "</table>\n",
       "</div>"
      ],
      "text/plain": [
       "                             count\n",
       "Geographical scope                \n",
       "WORLD WIDE                      20\n",
       "BRAZIL                           9\n",
       "PUEBLA HQ                        7\n",
       "BRAGANCA                         6\n",
       "PARIS TECH CENTER                5\n",
       "MLADA BOLESLAV FCM Bezdecin      5\n",
       "LIPPSTADT 2 HQH & FES R&D        5\n",
       "GOIANA                           4\n",
       "NAO                              4\n",
       "MLADA BOLESLAV FIS               4\n",
       "LIPPSTADT 1                      4"
      ]
     },
     "execution_count": 25,
     "metadata": {},
     "output_type": "execute_result"
    }
   ],
   "source": [
    "# ajusto el index el df (variables categoricas de tipo string y numericas)\n",
    "filtro_index1 = filtro1.set_index('Geographical scope')\n",
    "filtro_index1"
   ]
  },
  {
   "cell_type": "code",
   "execution_count": 26,
   "id": "313ac96f",
   "metadata": {},
   "outputs": [
    {
     "data": {
      "text/plain": [
       "Text(0, 0.5, 'Frecuencia')"
      ]
     },
     "execution_count": 26,
     "metadata": {},
     "output_type": "execute_result"
    },
    {
     "data": {
      "image/png": "[encoded data removed]",
      "text/plain": [
       "<Figure size 800x300 with 1 Axes>"
      ]
     },
     "metadata": {},
     "output_type": "display_data"
    }
   ],
   "source": [
    "# realizamos gráfico de barras\n",
    "filtro_index1.plot(kind = 'bar', width = 0.8, figsize=(8,3), color = \"orchid\")\n",
    "plt. title('Geographical Scope')\n",
    "plt.xlabel('Scope')\n",
    "plt.ylabel('Frecuencia')"
   ]
  },
  {
   "cell_type": "code",
   "execution_count": 27,
   "id": "ab1b410d",
   "metadata": {},
   "outputs": [],
   "source": [
    "idx = df[df[\"Geographical scope\"] == \"WORLD WIDE\"].index\n",
    "df = df.drop(idx)"
   ]
  },
  {
   "cell_type": "code",
   "execution_count": 28,
   "id": "e53fa32e",
   "metadata": {},
   "outputs": [
    {
     "data": {
      "text/html": [
       "<div>\n",
       "<style scoped>\n",
       "    .dataframe tbody tr th:only-of-type {\n",
       "        vertical-align: middle;\n",
       "    }\n",
       "\n",
       "    .dataframe tbody tr th {\n",
       "        vertical-align: top;\n",
       "    }\n",
       "\n",
       "    .dataframe thead th {\n",
       "        text-align: right;\n",
       "    }\n",
       "</style>\n",
       "<table border=\"1\" class=\"dataframe\">\n",
       "  <thead>\n",
       "    <tr style=\"text-align: right;\">\n",
       "      <th></th>\n",
       "      <th>Geographical scope</th>\n",
       "      <th>count</th>\n",
       "    </tr>\n",
       "  </thead>\n",
       "  <tbody>\n",
       "    <tr>\n",
       "      <th>0</th>\n",
       "      <td>BRAZIL</td>\n",
       "      <td>9</td>\n",
       "    </tr>\n",
       "    <tr>\n",
       "      <th>1</th>\n",
       "      <td>PUEBLA HQ</td>\n",
       "      <td>7</td>\n",
       "    </tr>\n",
       "    <tr>\n",
       "      <th>2</th>\n",
       "      <td>BRAGANCA</td>\n",
       "      <td>6</td>\n",
       "    </tr>\n",
       "    <tr>\n",
       "      <th>3</th>\n",
       "      <td>LIPPSTADT 2 HQH &amp; FES R&amp;D</td>\n",
       "      <td>5</td>\n",
       "    </tr>\n",
       "    <tr>\n",
       "      <th>4</th>\n",
       "      <td>MLADA BOLESLAV FCM Bezdecin</td>\n",
       "      <td>5</td>\n",
       "    </tr>\n",
       "    <tr>\n",
       "      <th>...</th>\n",
       "      <td>...</td>\n",
       "      <td>...</td>\n",
       "    </tr>\n",
       "    <tr>\n",
       "      <th>120</th>\n",
       "      <td>JANGAN FHS</td>\n",
       "      <td>1</td>\n",
       "    </tr>\n",
       "    <tr>\n",
       "      <th>121</th>\n",
       "      <td>JANGAN</td>\n",
       "      <td>1</td>\n",
       "    </tr>\n",
       "    <tr>\n",
       "      <th>122</th>\n",
       "      <td>HERRENBERG</td>\n",
       "      <td>1</td>\n",
       "    </tr>\n",
       "    <tr>\n",
       "      <th>123</th>\n",
       "      <td>GIARMATA HQ</td>\n",
       "      <td>1</td>\n",
       "    </tr>\n",
       "    <tr>\n",
       "      <th>124</th>\n",
       "      <td>MONTERREY FIS</td>\n",
       "      <td>1</td>\n",
       "    </tr>\n",
       "  </tbody>\n",
       "</table>\n",
       "<p>125 rows × 2 columns</p>\n",
       "</div>"
      ],
      "text/plain": [
       "              Geographical scope  count\n",
       "0                         BRAZIL      9\n",
       "1                      PUEBLA HQ      7\n",
       "2                       BRAGANCA      6\n",
       "3      LIPPSTADT 2 HQH & FES R&D      5\n",
       "4    MLADA BOLESLAV FCM Bezdecin      5\n",
       "..                           ...    ...\n",
       "120                  JANGAN FHS       1\n",
       "121                       JANGAN      1\n",
       "122                   HERRENBERG      1\n",
       "123                  GIARMATA HQ      1\n",
       "124                MONTERREY FIS      1\n",
       "\n",
       "[125 rows x 2 columns]"
      ]
     },
     "execution_count": 28,
     "metadata": {},
     "output_type": "execute_result"
    }
   ],
   "source": [
    "tabla_freq1 = df['Geographical scope'].value_counts().reset_index()\n",
    "tabla_freq1"
   ]
  },
  {
   "cell_type": "code",
   "execution_count": 29,
   "id": "9bce0014",
   "metadata": {},
   "outputs": [
    {
     "data": {
      "text/html": [
       "<div>\n",
       "<style scoped>\n",
       "    .dataframe tbody tr th:only-of-type {\n",
       "        vertical-align: middle;\n",
       "    }\n",
       "\n",
       "    .dataframe tbody tr th {\n",
       "        vertical-align: top;\n",
       "    }\n",
       "\n",
       "    .dataframe thead th {\n",
       "        text-align: right;\n",
       "    }\n",
       "</style>\n",
       "<table border=\"1\" class=\"dataframe\">\n",
       "  <thead>\n",
       "    <tr style=\"text-align: right;\">\n",
       "      <th></th>\n",
       "      <th>Geographical scope</th>\n",
       "      <th>count</th>\n",
       "    </tr>\n",
       "  </thead>\n",
       "  <tbody>\n",
       "    <tr>\n",
       "      <th>0</th>\n",
       "      <td>BRAZIL</td>\n",
       "      <td>9</td>\n",
       "    </tr>\n",
       "    <tr>\n",
       "      <th>1</th>\n",
       "      <td>PUEBLA HQ</td>\n",
       "      <td>7</td>\n",
       "    </tr>\n",
       "    <tr>\n",
       "      <th>2</th>\n",
       "      <td>BRAGANCA</td>\n",
       "      <td>6</td>\n",
       "    </tr>\n",
       "    <tr>\n",
       "      <th>3</th>\n",
       "      <td>LIPPSTADT 2 HQH &amp; FES R&amp;D</td>\n",
       "      <td>5</td>\n",
       "    </tr>\n",
       "    <tr>\n",
       "      <th>4</th>\n",
       "      <td>MLADA BOLESLAV FCM Bezdecin</td>\n",
       "      <td>5</td>\n",
       "    </tr>\n",
       "    <tr>\n",
       "      <th>5</th>\n",
       "      <td>PARIS TECH CENTER</td>\n",
       "      <td>5</td>\n",
       "    </tr>\n",
       "    <tr>\n",
       "      <th>6</th>\n",
       "      <td>LIPPSTADT 1</td>\n",
       "      <td>4</td>\n",
       "    </tr>\n",
       "    <tr>\n",
       "      <th>7</th>\n",
       "      <td>MLADA BOLESLAV FIS</td>\n",
       "      <td>4</td>\n",
       "    </tr>\n",
       "    <tr>\n",
       "      <th>8</th>\n",
       "      <td>NAO</td>\n",
       "      <td>4</td>\n",
       "    </tr>\n",
       "    <tr>\n",
       "      <th>9</th>\n",
       "      <td>GOIANA</td>\n",
       "      <td>4</td>\n",
       "    </tr>\n",
       "  </tbody>\n",
       "</table>\n",
       "</div>"
      ],
      "text/plain": [
       "            Geographical scope  count\n",
       "0                       BRAZIL      9\n",
       "1                    PUEBLA HQ      7\n",
       "2                     BRAGANCA      6\n",
       "3    LIPPSTADT 2 HQH & FES R&D      5\n",
       "4  MLADA BOLESLAV FCM Bezdecin      5\n",
       "5            PARIS TECH CENTER      5\n",
       "6                  LIPPSTADT 1      4\n",
       "7           MLADA BOLESLAV FIS      4\n",
       "8                          NAO      4\n",
       "9                       GOIANA      4"
      ]
     },
     "execution_count": 29,
     "metadata": {},
     "output_type": "execute_result"
    }
   ],
   "source": [
    "# filtro con los valores más relevantes de la variable \n",
    "filtro1 = tabla_freq1[tabla_freq1['count']>3]\n",
    "filtro1"
   ]
  },
  {
   "cell_type": "code",
   "execution_count": 30,
   "id": "d80d7f1c",
   "metadata": {},
   "outputs": [
    {
     "data": {
      "text/html": [
       "<div>\n",
       "<style scoped>\n",
       "    .dataframe tbody tr th:only-of-type {\n",
       "        vertical-align: middle;\n",
       "    }\n",
       "\n",
       "    .dataframe tbody tr th {\n",
       "        vertical-align: top;\n",
       "    }\n",
       "\n",
       "    .dataframe thead th {\n",
       "        text-align: right;\n",
       "    }\n",
       "</style>\n",
       "<table border=\"1\" class=\"dataframe\">\n",
       "  <thead>\n",
       "    <tr style=\"text-align: right;\">\n",
       "      <th></th>\n",
       "      <th>count</th>\n",
       "    </tr>\n",
       "    <tr>\n",
       "      <th>Geographical scope</th>\n",
       "      <th></th>\n",
       "    </tr>\n",
       "  </thead>\n",
       "  <tbody>\n",
       "    <tr>\n",
       "      <th>BRAZIL</th>\n",
       "      <td>9</td>\n",
       "    </tr>\n",
       "    <tr>\n",
       "      <th>PUEBLA HQ</th>\n",
       "      <td>7</td>\n",
       "    </tr>\n",
       "    <tr>\n",
       "      <th>BRAGANCA</th>\n",
       "      <td>6</td>\n",
       "    </tr>\n",
       "    <tr>\n",
       "      <th>LIPPSTADT 2 HQH &amp; FES R&amp;D</th>\n",
       "      <td>5</td>\n",
       "    </tr>\n",
       "    <tr>\n",
       "      <th>MLADA BOLESLAV FCM Bezdecin</th>\n",
       "      <td>5</td>\n",
       "    </tr>\n",
       "    <tr>\n",
       "      <th>PARIS TECH CENTER</th>\n",
       "      <td>5</td>\n",
       "    </tr>\n",
       "    <tr>\n",
       "      <th>LIPPSTADT 1</th>\n",
       "      <td>4</td>\n",
       "    </tr>\n",
       "    <tr>\n",
       "      <th>MLADA BOLESLAV FIS</th>\n",
       "      <td>4</td>\n",
       "    </tr>\n",
       "    <tr>\n",
       "      <th>NAO</th>\n",
       "      <td>4</td>\n",
       "    </tr>\n",
       "    <tr>\n",
       "      <th>GOIANA</th>\n",
       "      <td>4</td>\n",
       "    </tr>\n",
       "  </tbody>\n",
       "</table>\n",
       "</div>"
      ],
      "text/plain": [
       "                             count\n",
       "Geographical scope                \n",
       "BRAZIL                           9\n",
       "PUEBLA HQ                        7\n",
       "BRAGANCA                         6\n",
       "LIPPSTADT 2 HQH & FES R&D        5\n",
       "MLADA BOLESLAV FCM Bezdecin      5\n",
       "PARIS TECH CENTER                5\n",
       "LIPPSTADT 1                      4\n",
       "MLADA BOLESLAV FIS               4\n",
       "NAO                              4\n",
       "GOIANA                           4"
      ]
     },
     "execution_count": 30,
     "metadata": {},
     "output_type": "execute_result"
    }
   ],
   "source": [
    "# ajusto el index el df (variables categoricas de tipo string y numericas)\n",
    "filtro_index1 = filtro1.set_index('Geographical scope')\n",
    "filtro_index1"
   ]
  },
  {
   "cell_type": "code",
   "execution_count": 31,
   "id": "d6de9c09",
   "metadata": {},
   "outputs": [
    {
     "data": {
      "text/plain": [
       "Text(0, 0.5, 'Frecuencia')"
      ]
     },
     "execution_count": 31,
     "metadata": {},
     "output_type": "execute_result"
    },
    {
     "data": {
      "image/png": "[encoded data removed]",
      "text/plain": [
       "<Figure size 800x300 with 1 Axes>"
      ]
     },
     "metadata": {},
     "output_type": "display_data"
    }
   ],
   "source": [
    "filtro_index1.plot(kind = 'bar', width = 0.8, figsize=(8,3), color = \"orchid\")\n",
    "plt. title('Geographical Scope')\n",
    "plt.xlabel('Scope')\n",
    "plt.ylabel('Frecuencia')"
   ]
  },
  {
   "cell_type": "markdown",
   "id": "d0d00d78",
   "metadata": {},
   "source": [
    "#### **Project manager**"
   ]
  },
  {
   "cell_type": "code",
   "execution_count": 32,
   "id": "8e21b9d1",
   "metadata": {},
   "outputs": [
    {
     "data": {
      "text/html": [
       "<div>\n",
       "<style scoped>\n",
       "    .dataframe tbody tr th:only-of-type {\n",
       "        vertical-align: middle;\n",
       "    }\n",
       "\n",
       "    .dataframe tbody tr th {\n",
       "        vertical-align: top;\n",
       "    }\n",
       "\n",
       "    .dataframe thead th {\n",
       "        text-align: right;\n",
       "    }\n",
       "</style>\n",
       "<table border=\"1\" class=\"dataframe\">\n",
       "  <thead>\n",
       "    <tr style=\"text-align: right;\">\n",
       "      <th></th>\n",
       "      <th>Project manager</th>\n",
       "      <th>count</th>\n",
       "    </tr>\n",
       "  </thead>\n",
       "  <tbody>\n",
       "    <tr>\n",
       "      <th>0</th>\n",
       "      <td>SOUZA Alexandre</td>\n",
       "      <td>15</td>\n",
       "    </tr>\n",
       "    <tr>\n",
       "      <th>1</th>\n",
       "      <td>BENAVENT Pablo</td>\n",
       "      <td>12</td>\n",
       "    </tr>\n",
       "    <tr>\n",
       "      <th>2</th>\n",
       "      <td>LOUBET Diana</td>\n",
       "      <td>9</td>\n",
       "    </tr>\n",
       "    <tr>\n",
       "      <th>3</th>\n",
       "      <td>SVARICEK Dan</td>\n",
       "      <td>9</td>\n",
       "    </tr>\n",
       "    <tr>\n",
       "      <th>4</th>\n",
       "      <td>MALTER Karsten</td>\n",
       "      <td>7</td>\n",
       "    </tr>\n",
       "    <tr>\n",
       "      <th>...</th>\n",
       "      <td>...</td>\n",
       "      <td>...</td>\n",
       "    </tr>\n",
       "    <tr>\n",
       "      <th>105</th>\n",
       "      <td>AYEVA Djanwari Talata</td>\n",
       "      <td>1</td>\n",
       "    </tr>\n",
       "    <tr>\n",
       "      <th>106</th>\n",
       "      <td>WISCHMANN Imke</td>\n",
       "      <td>1</td>\n",
       "    </tr>\n",
       "    <tr>\n",
       "      <th>107</th>\n",
       "      <td>GOMEZ Tomas</td>\n",
       "      <td>1</td>\n",
       "    </tr>\n",
       "    <tr>\n",
       "      <th>108</th>\n",
       "      <td>GOIAN Floriana Simona</td>\n",
       "      <td>1</td>\n",
       "    </tr>\n",
       "    <tr>\n",
       "      <th>109</th>\n",
       "      <td>ZHANG Jack</td>\n",
       "      <td>1</td>\n",
       "    </tr>\n",
       "  </tbody>\n",
       "</table>\n",
       "<p>110 rows × 2 columns</p>\n",
       "</div>"
      ],
      "text/plain": [
       "           Project manager  count\n",
       "0          SOUZA Alexandre     15\n",
       "1           BENAVENT Pablo     12\n",
       "2             LOUBET Diana      9\n",
       "3             SVARICEK Dan      9\n",
       "4           MALTER Karsten      7\n",
       "..                     ...    ...\n",
       "105  AYEVA Djanwari Talata      1\n",
       "106         WISCHMANN Imke      1\n",
       "107            GOMEZ Tomas      1\n",
       "108  GOIAN Floriana Simona      1\n",
       "109             ZHANG Jack      1\n",
       "\n",
       "[110 rows x 2 columns]"
      ]
     },
     "execution_count": 32,
     "metadata": {},
     "output_type": "execute_result"
    }
   ],
   "source": [
    "tabla_freq2 = df['Project manager'].value_counts().reset_index()\n",
    "tabla_freq2"
   ]
  },
  {
   "cell_type": "code",
   "execution_count": 33,
   "id": "eddb870e",
   "metadata": {},
   "outputs": [
    {
     "data": {
      "text/html": [
       "<div>\n",
       "<style scoped>\n",
       "    .dataframe tbody tr th:only-of-type {\n",
       "        vertical-align: middle;\n",
       "    }\n",
       "\n",
       "    .dataframe tbody tr th {\n",
       "        vertical-align: top;\n",
       "    }\n",
       "\n",
       "    .dataframe thead th {\n",
       "        text-align: right;\n",
       "    }\n",
       "</style>\n",
       "<table border=\"1\" class=\"dataframe\">\n",
       "  <thead>\n",
       "    <tr style=\"text-align: right;\">\n",
       "      <th></th>\n",
       "      <th>Project manager</th>\n",
       "      <th>count</th>\n",
       "    </tr>\n",
       "  </thead>\n",
       "  <tbody>\n",
       "    <tr>\n",
       "      <th>0</th>\n",
       "      <td>SOUZA Alexandre</td>\n",
       "      <td>15</td>\n",
       "    </tr>\n",
       "    <tr>\n",
       "      <th>1</th>\n",
       "      <td>BENAVENT Pablo</td>\n",
       "      <td>12</td>\n",
       "    </tr>\n",
       "    <tr>\n",
       "      <th>2</th>\n",
       "      <td>LOUBET Diana</td>\n",
       "      <td>9</td>\n",
       "    </tr>\n",
       "    <tr>\n",
       "      <th>3</th>\n",
       "      <td>SVARICEK Dan</td>\n",
       "      <td>9</td>\n",
       "    </tr>\n",
       "    <tr>\n",
       "      <th>4</th>\n",
       "      <td>MALTER Karsten</td>\n",
       "      <td>7</td>\n",
       "    </tr>\n",
       "    <tr>\n",
       "      <th>5</th>\n",
       "      <td>LOURENCO Douglas</td>\n",
       "      <td>6</td>\n",
       "    </tr>\n",
       "    <tr>\n",
       "      <th>6</th>\n",
       "      <td>CAEIRO Helder</td>\n",
       "      <td>6</td>\n",
       "    </tr>\n",
       "    <tr>\n",
       "      <th>7</th>\n",
       "      <td>FENETRE Teddy</td>\n",
       "      <td>5</td>\n",
       "    </tr>\n",
       "    <tr>\n",
       "      <th>8</th>\n",
       "      <td>NITSCKIE Jade</td>\n",
       "      <td>5</td>\n",
       "    </tr>\n",
       "    <tr>\n",
       "      <th>9</th>\n",
       "      <td>ATTOF Mohamed</td>\n",
       "      <td>4</td>\n",
       "    </tr>\n",
       "    <tr>\n",
       "      <th>10</th>\n",
       "      <td>FRENZ Ingo</td>\n",
       "      <td>4</td>\n",
       "    </tr>\n",
       "    <tr>\n",
       "      <th>11</th>\n",
       "      <td>SANZ Ana</td>\n",
       "      <td>4</td>\n",
       "    </tr>\n",
       "  </tbody>\n",
       "</table>\n",
       "</div>"
      ],
      "text/plain": [
       "     Project manager  count\n",
       "0    SOUZA Alexandre     15\n",
       "1     BENAVENT Pablo     12\n",
       "2       LOUBET Diana      9\n",
       "3       SVARICEK Dan      9\n",
       "4     MALTER Karsten      7\n",
       "5   LOURENCO Douglas      6\n",
       "6      CAEIRO Helder      6\n",
       "7      FENETRE Teddy      5\n",
       "8      NITSCKIE Jade      5\n",
       "9      ATTOF Mohamed      4\n",
       "10        FRENZ Ingo      4\n",
       "11          SANZ Ana      4"
      ]
     },
     "execution_count": 33,
     "metadata": {},
     "output_type": "execute_result"
    }
   ],
   "source": [
    "# filtro con los valores más relevantes de la variable \n",
    "filtro2 = tabla_freq2[tabla_freq2['count']>3]\n",
    "filtro2"
   ]
  },
  {
   "cell_type": "code",
   "execution_count": 34,
   "id": "666e4a6c",
   "metadata": {},
   "outputs": [
    {
     "data": {
      "text/html": [
       "<div>\n",
       "<style scoped>\n",
       "    .dataframe tbody tr th:only-of-type {\n",
       "        vertical-align: middle;\n",
       "    }\n",
       "\n",
       "    .dataframe tbody tr th {\n",
       "        vertical-align: top;\n",
       "    }\n",
       "\n",
       "    .dataframe thead th {\n",
       "        text-align: right;\n",
       "    }\n",
       "</style>\n",
       "<table border=\"1\" class=\"dataframe\">\n",
       "  <thead>\n",
       "    <tr style=\"text-align: right;\">\n",
       "      <th></th>\n",
       "      <th>count</th>\n",
       "    </tr>\n",
       "    <tr>\n",
       "      <th>Project manager</th>\n",
       "      <th></th>\n",
       "    </tr>\n",
       "  </thead>\n",
       "  <tbody>\n",
       "    <tr>\n",
       "      <th>SOUZA Alexandre</th>\n",
       "      <td>15</td>\n",
       "    </tr>\n",
       "    <tr>\n",
       "      <th>BENAVENT Pablo</th>\n",
       "      <td>12</td>\n",
       "    </tr>\n",
       "    <tr>\n",
       "      <th>LOUBET Diana</th>\n",
       "      <td>9</td>\n",
       "    </tr>\n",
       "    <tr>\n",
       "      <th>SVARICEK Dan</th>\n",
       "      <td>9</td>\n",
       "    </tr>\n",
       "    <tr>\n",
       "      <th>MALTER Karsten</th>\n",
       "      <td>7</td>\n",
       "    </tr>\n",
       "    <tr>\n",
       "      <th>LOURENCO Douglas</th>\n",
       "      <td>6</td>\n",
       "    </tr>\n",
       "    <tr>\n",
       "      <th>CAEIRO Helder</th>\n",
       "      <td>6</td>\n",
       "    </tr>\n",
       "    <tr>\n",
       "      <th>FENETRE Teddy</th>\n",
       "      <td>5</td>\n",
       "    </tr>\n",
       "    <tr>\n",
       "      <th>NITSCKIE Jade</th>\n",
       "      <td>5</td>\n",
       "    </tr>\n",
       "    <tr>\n",
       "      <th>ATTOF Mohamed</th>\n",
       "      <td>4</td>\n",
       "    </tr>\n",
       "    <tr>\n",
       "      <th>FRENZ Ingo</th>\n",
       "      <td>4</td>\n",
       "    </tr>\n",
       "    <tr>\n",
       "      <th>SANZ Ana</th>\n",
       "      <td>4</td>\n",
       "    </tr>\n",
       "  </tbody>\n",
       "</table>\n",
       "</div>"
      ],
      "text/plain": [
       "                  count\n",
       "Project manager        \n",
       "SOUZA Alexandre      15\n",
       "BENAVENT Pablo       12\n",
       "LOUBET Diana          9\n",
       "SVARICEK Dan          9\n",
       "MALTER Karsten        7\n",
       "LOURENCO Douglas      6\n",
       "CAEIRO Helder         6\n",
       "FENETRE Teddy         5\n",
       "NITSCKIE Jade         5\n",
       "ATTOF Mohamed         4\n",
       "FRENZ Ingo            4\n",
       "SANZ Ana              4"
      ]
     },
     "execution_count": 34,
     "metadata": {},
     "output_type": "execute_result"
    }
   ],
   "source": [
    "# ajusto el index el df (variables categoricas de tipo string y numericas)\n",
    "filtro_index2 = filtro2.set_index('Project manager')\n",
    "filtro_index2"
   ]
  },
  {
   "cell_type": "code",
   "execution_count": 35,
   "id": "cd04e7ef",
   "metadata": {},
   "outputs": [
    {
     "data": {
      "text/plain": [
       "Text(0, 0.5, 'Frecuencia')"
      ]
     },
     "execution_count": 35,
     "metadata": {},
     "output_type": "execute_result"
    },
    {
     "data": {
      "image/png": "[encoded data removed]",
      "text/plain": [
       "<Figure size 800x300 with 1 Axes>"
      ]
     },
     "metadata": {},
     "output_type": "display_data"
    }
   ],
   "source": [
    "# realizamos gráfico de barras\n",
    "filtro_index2.plot(kind = 'bar', width = 0.8, figsize=(8,3), color = \"orchid\")\n",
    "plt. title('Project Manager')\n",
    "plt.xlabel('Nombre')\n",
    "plt.ylabel('Frecuencia')"
   ]
  },
  {
   "cell_type": "markdown",
   "id": "1f69225b",
   "metadata": {},
   "source": [
    "#### **State**"
   ]
  },
  {
   "cell_type": "code",
   "execution_count": 36,
   "id": "0e8054f8",
   "metadata": {},
   "outputs": [
    {
     "data": {
      "text/html": [
       "<div>\n",
       "<style scoped>\n",
       "    .dataframe tbody tr th:only-of-type {\n",
       "        vertical-align: middle;\n",
       "    }\n",
       "\n",
       "    .dataframe tbody tr th {\n",
       "        vertical-align: top;\n",
       "    }\n",
       "\n",
       "    .dataframe thead th {\n",
       "        text-align: right;\n",
       "    }\n",
       "</style>\n",
       "<table border=\"1\" class=\"dataframe\">\n",
       "  <thead>\n",
       "    <tr style=\"text-align: right;\">\n",
       "      <th></th>\n",
       "      <th>State</th>\n",
       "      <th>count</th>\n",
       "    </tr>\n",
       "  </thead>\n",
       "  <tbody>\n",
       "    <tr>\n",
       "      <th>0</th>\n",
       "      <td>Work in progress</td>\n",
       "      <td>213</td>\n",
       "    </tr>\n",
       "    <tr>\n",
       "      <th>1</th>\n",
       "      <td>Pending</td>\n",
       "      <td>11</td>\n",
       "    </tr>\n",
       "    <tr>\n",
       "      <th>2</th>\n",
       "      <td>Open</td>\n",
       "      <td>1</td>\n",
       "    </tr>\n",
       "  </tbody>\n",
       "</table>\n",
       "</div>"
      ],
      "text/plain": [
       "              State  count\n",
       "0  Work in progress    213\n",
       "1           Pending     11\n",
       "2              Open      1"
      ]
     },
     "execution_count": 36,
     "metadata": {},
     "output_type": "execute_result"
    }
   ],
   "source": [
    "tabla_freq3 = df['State'].value_counts().reset_index()\n",
    "tabla_freq3"
   ]
  },
  {
   "cell_type": "code",
   "execution_count": 37,
   "id": "e80b3f24",
   "metadata": {},
   "outputs": [
    {
     "data": {
      "text/html": [
       "<div>\n",
       "<style scoped>\n",
       "    .dataframe tbody tr th:only-of-type {\n",
       "        vertical-align: middle;\n",
       "    }\n",
       "\n",
       "    .dataframe tbody tr th {\n",
       "        vertical-align: top;\n",
       "    }\n",
       "\n",
       "    .dataframe thead th {\n",
       "        text-align: right;\n",
       "    }\n",
       "</style>\n",
       "<table border=\"1\" class=\"dataframe\">\n",
       "  <thead>\n",
       "    <tr style=\"text-align: right;\">\n",
       "      <th></th>\n",
       "      <th>State</th>\n",
       "      <th>count</th>\n",
       "    </tr>\n",
       "  </thead>\n",
       "  <tbody>\n",
       "    <tr>\n",
       "      <th>0</th>\n",
       "      <td>Work in progress</td>\n",
       "      <td>213</td>\n",
       "    </tr>\n",
       "    <tr>\n",
       "      <th>1</th>\n",
       "      <td>Pending</td>\n",
       "      <td>11</td>\n",
       "    </tr>\n",
       "    <tr>\n",
       "      <th>2</th>\n",
       "      <td>Open</td>\n",
       "      <td>1</td>\n",
       "    </tr>\n",
       "  </tbody>\n",
       "</table>\n",
       "</div>"
      ],
      "text/plain": [
       "              State  count\n",
       "0  Work in progress    213\n",
       "1           Pending     11\n",
       "2              Open      1"
      ]
     },
     "execution_count": 37,
     "metadata": {},
     "output_type": "execute_result"
    }
   ],
   "source": [
    "# filtro con los valores más relevantes de la variable \n",
    "filtro3 = tabla_freq3[tabla_freq3['count']>0]\n",
    "filtro3"
   ]
  },
  {
   "cell_type": "code",
   "execution_count": 38,
   "id": "41b6860a",
   "metadata": {},
   "outputs": [
    {
     "data": {
      "text/html": [
       "<div>\n",
       "<style scoped>\n",
       "    .dataframe tbody tr th:only-of-type {\n",
       "        vertical-align: middle;\n",
       "    }\n",
       "\n",
       "    .dataframe tbody tr th {\n",
       "        vertical-align: top;\n",
       "    }\n",
       "\n",
       "    .dataframe thead th {\n",
       "        text-align: right;\n",
       "    }\n",
       "</style>\n",
       "<table border=\"1\" class=\"dataframe\">\n",
       "  <thead>\n",
       "    <tr style=\"text-align: right;\">\n",
       "      <th></th>\n",
       "      <th>count</th>\n",
       "    </tr>\n",
       "    <tr>\n",
       "      <th>State</th>\n",
       "      <th></th>\n",
       "    </tr>\n",
       "  </thead>\n",
       "  <tbody>\n",
       "    <tr>\n",
       "      <th>Work in progress</th>\n",
       "      <td>213</td>\n",
       "    </tr>\n",
       "    <tr>\n",
       "      <th>Pending</th>\n",
       "      <td>11</td>\n",
       "    </tr>\n",
       "    <tr>\n",
       "      <th>Open</th>\n",
       "      <td>1</td>\n",
       "    </tr>\n",
       "  </tbody>\n",
       "</table>\n",
       "</div>"
      ],
      "text/plain": [
       "                  count\n",
       "State                  \n",
       "Work in progress    213\n",
       "Pending              11\n",
       "Open                  1"
      ]
     },
     "execution_count": 38,
     "metadata": {},
     "output_type": "execute_result"
    }
   ],
   "source": [
    "# ajusto el index el df (variables categoricas de tipo string y numericas)\n",
    "filtro_index3 = filtro3.set_index('State')\n",
    "filtro_index3"
   ]
  },
  {
   "cell_type": "code",
   "execution_count": 39,
   "id": "7c1bc16b",
   "metadata": {},
   "outputs": [
    {
     "data": {
      "text/plain": [
       "Text(0, 0.5, 'Frecuencia')"
      ]
     },
     "execution_count": 39,
     "metadata": {},
     "output_type": "execute_result"
    },
    {
     "data": {
      "image/png": "[encoded data removed]",
      "text/plain": [
       "<Figure size 800x300 with 1 Axes>"
      ]
     },
     "metadata": {},
     "output_type": "display_data"
    }
   ],
   "source": [
    "# realizamos gráfico de barras\n",
    "filtro_index3.plot(kind = 'bar', width = 0.8, figsize=(8,3), color = \"orchid\")\n",
    "plt. title('Project State')\n",
    "plt.xlabel('Estado')\n",
    "plt.ylabel('Frecuencia')"
   ]
  },
  {
   "cell_type": "code",
   "execution_count": 40,
   "id": "8af93642",
   "metadata": {},
   "outputs": [
    {
     "data": {
      "text/plain": [
       "<Axes: ylabel='count'>"
      ]
     },
     "execution_count": 40,
     "metadata": {},
     "output_type": "execute_result"
    },
    {
     "data": {
      "image/png": "[encoded data removed]",
      "text/plain": [
       "<Figure size 1000x400 with 1 Axes>"
      ]
     },
     "metadata": {},
     "output_type": "display_data"
    }
   ],
   "source": [
    "filtro_index3[\"count\"].plot(kind = 'pie', figsize=(10,4), shadow = True, autopct=\"%0.1f %%\", colormap ='Pastel1')"
   ]
  },
  {
   "cell_type": "markdown",
   "id": "ccab5ccd",
   "metadata": {},
   "source": [
    "#### **Projects Size**"
   ]
  },
  {
   "cell_type": "code",
   "execution_count": 41,
   "id": "81c86416",
   "metadata": {},
   "outputs": [
    {
     "data": {
      "text/html": [
       "<div>\n",
       "<style scoped>\n",
       "    .dataframe tbody tr th:only-of-type {\n",
       "        vertical-align: middle;\n",
       "    }\n",
       "\n",
       "    .dataframe tbody tr th {\n",
       "        vertical-align: top;\n",
       "    }\n",
       "\n",
       "    .dataframe thead th {\n",
       "        text-align: right;\n",
       "    }\n",
       "</style>\n",
       "<table border=\"1\" class=\"dataframe\">\n",
       "  <thead>\n",
       "    <tr style=\"text-align: right;\">\n",
       "      <th></th>\n",
       "      <th>Project size</th>\n",
       "      <th>count</th>\n",
       "    </tr>\n",
       "  </thead>\n",
       "  <tbody>\n",
       "    <tr>\n",
       "      <th>0</th>\n",
       "      <td>MEDIUM</td>\n",
       "      <td>96</td>\n",
       "    </tr>\n",
       "    <tr>\n",
       "      <th>1</th>\n",
       "      <td>LARGE</td>\n",
       "      <td>71</td>\n",
       "    </tr>\n",
       "    <tr>\n",
       "      <th>2</th>\n",
       "      <td>SMALL</td>\n",
       "      <td>58</td>\n",
       "    </tr>\n",
       "  </tbody>\n",
       "</table>\n",
       "</div>"
      ],
      "text/plain": [
       "  Project size  count\n",
       "0       MEDIUM     96\n",
       "1        LARGE     71\n",
       "2        SMALL     58"
      ]
     },
     "execution_count": 41,
     "metadata": {},
     "output_type": "execute_result"
    }
   ],
   "source": [
    "tabla_freq4 = df['Project size'].value_counts().reset_index()\n",
    "tabla_freq4"
   ]
  },
  {
   "cell_type": "code",
   "execution_count": 42,
   "id": "8b22ee0b",
   "metadata": {},
   "outputs": [
    {
     "data": {
      "text/html": [
       "<div>\n",
       "<style scoped>\n",
       "    .dataframe tbody tr th:only-of-type {\n",
       "        vertical-align: middle;\n",
       "    }\n",
       "\n",
       "    .dataframe tbody tr th {\n",
       "        vertical-align: top;\n",
       "    }\n",
       "\n",
       "    .dataframe thead th {\n",
       "        text-align: right;\n",
       "    }\n",
       "</style>\n",
       "<table border=\"1\" class=\"dataframe\">\n",
       "  <thead>\n",
       "    <tr style=\"text-align: right;\">\n",
       "      <th></th>\n",
       "      <th>Project size</th>\n",
       "      <th>count</th>\n",
       "    </tr>\n",
       "  </thead>\n",
       "  <tbody>\n",
       "    <tr>\n",
       "      <th>0</th>\n",
       "      <td>MEDIUM</td>\n",
       "      <td>96</td>\n",
       "    </tr>\n",
       "    <tr>\n",
       "      <th>1</th>\n",
       "      <td>LARGE</td>\n",
       "      <td>71</td>\n",
       "    </tr>\n",
       "    <tr>\n",
       "      <th>2</th>\n",
       "      <td>SMALL</td>\n",
       "      <td>58</td>\n",
       "    </tr>\n",
       "  </tbody>\n",
       "</table>\n",
       "</div>"
      ],
      "text/plain": [
       "  Project size  count\n",
       "0       MEDIUM     96\n",
       "1        LARGE     71\n",
       "2        SMALL     58"
      ]
     },
     "execution_count": 42,
     "metadata": {},
     "output_type": "execute_result"
    }
   ],
   "source": [
    "# filtro con los valores más relevantes de la variable \n",
    "filtro4 = tabla_freq4[tabla_freq4['count']>1]\n",
    "filtro4"
   ]
  },
  {
   "cell_type": "code",
   "execution_count": 43,
   "id": "212cd45c",
   "metadata": {},
   "outputs": [
    {
     "data": {
      "text/html": [
       "<div>\n",
       "<style scoped>\n",
       "    .dataframe tbody tr th:only-of-type {\n",
       "        vertical-align: middle;\n",
       "    }\n",
       "\n",
       "    .dataframe tbody tr th {\n",
       "        vertical-align: top;\n",
       "    }\n",
       "\n",
       "    .dataframe thead th {\n",
       "        text-align: right;\n",
       "    }\n",
       "</style>\n",
       "<table border=\"1\" class=\"dataframe\">\n",
       "  <thead>\n",
       "    <tr style=\"text-align: right;\">\n",
       "      <th></th>\n",
       "      <th>count</th>\n",
       "    </tr>\n",
       "    <tr>\n",
       "      <th>Project size</th>\n",
       "      <th></th>\n",
       "    </tr>\n",
       "  </thead>\n",
       "  <tbody>\n",
       "    <tr>\n",
       "      <th>MEDIUM</th>\n",
       "      <td>96</td>\n",
       "    </tr>\n",
       "    <tr>\n",
       "      <th>LARGE</th>\n",
       "      <td>71</td>\n",
       "    </tr>\n",
       "    <tr>\n",
       "      <th>SMALL</th>\n",
       "      <td>58</td>\n",
       "    </tr>\n",
       "  </tbody>\n",
       "</table>\n",
       "</div>"
      ],
      "text/plain": [
       "              count\n",
       "Project size       \n",
       "MEDIUM           96\n",
       "LARGE            71\n",
       "SMALL            58"
      ]
     },
     "execution_count": 43,
     "metadata": {},
     "output_type": "execute_result"
    }
   ],
   "source": [
    "# ajusto el index el df (variables categoricas de tipo string y numericas)\n",
    "filtro_index4 = filtro4.set_index('Project size')\n",
    "filtro_index4"
   ]
  },
  {
   "cell_type": "code",
   "execution_count": 44,
   "id": "726fbc2a",
   "metadata": {},
   "outputs": [
    {
     "data": {
      "text/plain": [
       "Text(0, 0.5, 'Frecuencia')"
      ]
     },
     "execution_count": 44,
     "metadata": {},
     "output_type": "execute_result"
    },
    {
     "data": {
      "image/png": "[encoded data removed]",
      "text/plain": [
       "<Figure size 800x300 with 1 Axes>"
      ]
     },
     "metadata": {},
     "output_type": "display_data"
    }
   ],
   "source": [
    "# realizamos gráfico de barras\n",
    "filtro_index4.plot(kind = 'bar', width = 0.8, figsize=(8,3), color = \"orchid\", rot=45)\n",
    "plt. title('Project Size')\n",
    "plt.xlabel('Tamaño')\n",
    "plt.ylabel('Frecuencia')"
   ]
  },
  {
   "cell_type": "code",
   "execution_count": 45,
   "id": "bcc36a60",
   "metadata": {},
   "outputs": [
    {
     "data": {
      "text/plain": [
       "<Axes: ylabel='count'>"
      ]
     },
     "execution_count": 45,
     "metadata": {},
     "output_type": "execute_result"
    },
    {
     "data": {
      "image/png": "[encoded data removed]",
      "text/plain": [
       "<Figure size 1000x400 with 1 Axes>"
      ]
     },
     "metadata": {},
     "output_type": "display_data"
    }
   ],
   "source": [
    "filtro_index4[\"count\"].plot(kind = 'pie', figsize=(10,4), shadow = True, autopct=\"%0.1f %%\", colormap ='Pastel1')"
   ]
  },
  {
   "cell_type": "markdown",
   "id": "e8390cd7",
   "metadata": {},
   "source": [
    "#### **Project Organization**"
   ]
  },
  {
   "cell_type": "code",
   "execution_count": 46,
   "id": "5fe8581e",
   "metadata": {},
   "outputs": [
    {
     "data": {
      "text/html": [
       "<div>\n",
       "<style scoped>\n",
       "    .dataframe tbody tr th:only-of-type {\n",
       "        vertical-align: middle;\n",
       "    }\n",
       "\n",
       "    .dataframe tbody tr th {\n",
       "        vertical-align: top;\n",
       "    }\n",
       "\n",
       "    .dataframe thead th {\n",
       "        text-align: right;\n",
       "    }\n",
       "</style>\n",
       "<table border=\"1\" class=\"dataframe\">\n",
       "  <thead>\n",
       "    <tr style=\"text-align: right;\">\n",
       "      <th></th>\n",
       "      <th>Project organization</th>\n",
       "      <th>count</th>\n",
       "    </tr>\n",
       "  </thead>\n",
       "  <tbody>\n",
       "    <tr>\n",
       "      <th>0</th>\n",
       "      <td>GIT/IT EMEA/MES &amp; Digital Shopfloor projects</td>\n",
       "      <td>61</td>\n",
       "    </tr>\n",
       "    <tr>\n",
       "      <th>1</th>\n",
       "      <td>GIT/IT EMEA/Applications rollouts &amp; Level 2 Su...</td>\n",
       "      <td>42</td>\n",
       "    </tr>\n",
       "    <tr>\n",
       "      <th>2</th>\n",
       "      <td>GIS/ITOP SAO./IT OP SAO shared/ITOP SAO FCS &amp; ...</td>\n",
       "      <td>15</td>\n",
       "    </tr>\n",
       "    <tr>\n",
       "      <th>3</th>\n",
       "      <td>GIS/ITOP ASIA/IT OP Asia Shared/ITOP ASIA MES ...</td>\n",
       "      <td>14</td>\n",
       "    </tr>\n",
       "    <tr>\n",
       "      <th>4</th>\n",
       "      <td>GIT/IT NAO/MES Applications &amp; DT/Mexico MES</td>\n",
       "      <td>13</td>\n",
       "    </tr>\n",
       "    <tr>\n",
       "      <th>5</th>\n",
       "      <td>GIT/IT NAO/NAO Applications/FCS</td>\n",
       "      <td>9</td>\n",
       "    </tr>\n",
       "    <tr>\n",
       "      <th>6</th>\n",
       "      <td>GIS/ITOP ASIA/IT OP Asia Shared/ITOP ASIA Infr...</td>\n",
       "      <td>8</td>\n",
       "    </tr>\n",
       "    <tr>\n",
       "      <th>7</th>\n",
       "      <td>GIT/IT NAO</td>\n",
       "      <td>8</td>\n",
       "    </tr>\n",
       "    <tr>\n",
       "      <th>8</th>\n",
       "      <td>GIT/Applications</td>\n",
       "      <td>8</td>\n",
       "    </tr>\n",
       "    <tr>\n",
       "      <th>9</th>\n",
       "      <td>GIT/IT NAO/MES Applications &amp; DT/US MES</td>\n",
       "      <td>6</td>\n",
       "    </tr>\n",
       "    <tr>\n",
       "      <th>10</th>\n",
       "      <td>GIS/ITOP SAO/IT OP SAO shared/ITOP SAO MES &amp; S...</td>\n",
       "      <td>6</td>\n",
       "    </tr>\n",
       "    <tr>\n",
       "      <th>11</th>\n",
       "      <td>GIT/Applications/Engineering / R&amp;D Domain</td>\n",
       "      <td>4</td>\n",
       "    </tr>\n",
       "    <tr>\n",
       "      <th>12</th>\n",
       "      <td>GIS/ITOP ASIA/IT OP Asia Shared/ITOP ASIA FCS ...</td>\n",
       "      <td>4</td>\n",
       "    </tr>\n",
       "    <tr>\n",
       "      <th>13</th>\n",
       "      <td>GIT/Applications/Production Control &amp; Logistic...</td>\n",
       "      <td>3</td>\n",
       "    </tr>\n",
       "    <tr>\n",
       "      <th>14</th>\n",
       "      <td>GIT/Applications/Business Services IT Function...</td>\n",
       "      <td>3</td>\n",
       "    </tr>\n",
       "    <tr>\n",
       "      <th>15</th>\n",
       "      <td>GIT/IT NAO/PMO</td>\n",
       "      <td>3</td>\n",
       "    </tr>\n",
       "    <tr>\n",
       "      <th>16</th>\n",
       "      <td>GIT/Applications/Applications Integration Serv...</td>\n",
       "      <td>2</td>\n",
       "    </tr>\n",
       "    <tr>\n",
       "      <th>17</th>\n",
       "      <td>GIS/APPLICATIONS./APPL PC&amp;L, core JIT &amp; TCO</td>\n",
       "      <td>2</td>\n",
       "    </tr>\n",
       "    <tr>\n",
       "      <th>18</th>\n",
       "      <td>GIT/Applications/Data Integration &amp; Platforms</td>\n",
       "      <td>2</td>\n",
       "    </tr>\n",
       "    <tr>\n",
       "      <th>19</th>\n",
       "      <td>GIS/ITOP EMEA/IT OP EMEA Shared/ITOP EMEA Infr...</td>\n",
       "      <td>1</td>\n",
       "    </tr>\n",
       "    <tr>\n",
       "      <th>20</th>\n",
       "      <td>GIT/IT NAO/MES Applications &amp; DT/MES DT</td>\n",
       "      <td>1</td>\n",
       "    </tr>\n",
       "    <tr>\n",
       "      <th>21</th>\n",
       "      <td>GIT/Applications/Manufacturing Execution Syste...</td>\n",
       "      <td>1</td>\n",
       "    </tr>\n",
       "    <tr>\n",
       "      <th>22</th>\n",
       "      <td>GIT/System Operations/Operations Services &amp; Go...</td>\n",
       "      <td>1</td>\n",
       "    </tr>\n",
       "    <tr>\n",
       "      <th>23</th>\n",
       "      <td>GIT/IT NAO/IT Operations NAO/US Local IT Opera...</td>\n",
       "      <td>1</td>\n",
       "    </tr>\n",
       "    <tr>\n",
       "      <th>24</th>\n",
       "      <td>GIS/APPLICATIONS./APPL Core Business Services</td>\n",
       "      <td>1</td>\n",
       "    </tr>\n",
       "    <tr>\n",
       "      <th>25</th>\n",
       "      <td>GIT/Central IT/Governance</td>\n",
       "      <td>1</td>\n",
       "    </tr>\n",
       "    <tr>\n",
       "      <th>26</th>\n",
       "      <td>GIT/IT NAO/IT Operations NAO/Regional L2 Infra...</td>\n",
       "      <td>1</td>\n",
       "    </tr>\n",
       "    <tr>\n",
       "      <th>27</th>\n",
       "      <td>GIT/IT NAO/IT Operations NAO</td>\n",
       "      <td>1</td>\n",
       "    </tr>\n",
       "    <tr>\n",
       "      <th>28</th>\n",
       "      <td>GIS/ITOP ASIA/IT OP Asia Shared/ITOP ASIA Regi...</td>\n",
       "      <td>1</td>\n",
       "    </tr>\n",
       "    <tr>\n",
       "      <th>29</th>\n",
       "      <td>GIS/APPLICATIONS./APPL PMO &amp; M&amp;A</td>\n",
       "      <td>1</td>\n",
       "    </tr>\n",
       "    <tr>\n",
       "      <th>30</th>\n",
       "      <td>GIS/ITOP EMEA/IT OP EMEA Shared/ITOP EMEA MES ...</td>\n",
       "      <td>1</td>\n",
       "    </tr>\n",
       "  </tbody>\n",
       "</table>\n",
       "</div>"
      ],
      "text/plain": [
       "                                 Project organization  count\n",
       "0        GIT/IT EMEA/MES & Digital Shopfloor projects     61\n",
       "1   GIT/IT EMEA/Applications rollouts & Level 2 Su...     42\n",
       "2   GIS/ITOP SAO./IT OP SAO shared/ITOP SAO FCS & ...     15\n",
       "3   GIS/ITOP ASIA/IT OP Asia Shared/ITOP ASIA MES ...     14\n",
       "4        GIT/IT NAO/MES Applications & DT/Mexico MES      13\n",
       "5                     GIT/IT NAO/NAO Applications/FCS      9\n",
       "6   GIS/ITOP ASIA/IT OP Asia Shared/ITOP ASIA Infr...      8\n",
       "7                                          GIT/IT NAO      8\n",
       "8                                    GIT/Applications      8\n",
       "9            GIT/IT NAO/MES Applications & DT/US MES       6\n",
       "10  GIS/ITOP SAO/IT OP SAO shared/ITOP SAO MES & S...      6\n",
       "11          GIT/Applications/Engineering / R&D Domain      4\n",
       "12  GIS/ITOP ASIA/IT OP Asia Shared/ITOP ASIA FCS ...      4\n",
       "13  GIT/Applications/Production Control & Logistic...      3\n",
       "14  GIT/Applications/Business Services IT Function...      3\n",
       "15                                     GIT/IT NAO/PMO      3\n",
       "16  GIT/Applications/Applications Integration Serv...      2\n",
       "17        GIS/APPLICATIONS./APPL PC&L, core JIT & TCO      2\n",
       "18      GIT/Applications/Data Integration & Platforms      2\n",
       "19  GIS/ITOP EMEA/IT OP EMEA Shared/ITOP EMEA Infr...      1\n",
       "20            GIT/IT NAO/MES Applications & DT/MES DT      1\n",
       "21  GIT/Applications/Manufacturing Execution Syste...      1\n",
       "22  GIT/System Operations/Operations Services & Go...      1\n",
       "23  GIT/IT NAO/IT Operations NAO/US Local IT Opera...      1\n",
       "24      GIS/APPLICATIONS./APPL Core Business Services      1\n",
       "25                          GIT/Central IT/Governance      1\n",
       "26  GIT/IT NAO/IT Operations NAO/Regional L2 Infra...      1\n",
       "27                       GIT/IT NAO/IT Operations NAO      1\n",
       "28  GIS/ITOP ASIA/IT OP Asia Shared/ITOP ASIA Regi...      1\n",
       "29                   GIS/APPLICATIONS./APPL PMO & M&A      1\n",
       "30  GIS/ITOP EMEA/IT OP EMEA Shared/ITOP EMEA MES ...      1"
      ]
     },
     "execution_count": 46,
     "metadata": {},
     "output_type": "execute_result"
    }
   ],
   "source": [
    "tabla_freq5 = df['Project organization'].value_counts().reset_index()\n",
    "tabla_freq5"
   ]
  },
  {
   "cell_type": "code",
   "execution_count": 47,
   "id": "6b0d3e61",
   "metadata": {},
   "outputs": [
    {
     "data": {
      "text/html": [
       "<div>\n",
       "<style scoped>\n",
       "    .dataframe tbody tr th:only-of-type {\n",
       "        vertical-align: middle;\n",
       "    }\n",
       "\n",
       "    .dataframe tbody tr th {\n",
       "        vertical-align: top;\n",
       "    }\n",
       "\n",
       "    .dataframe thead th {\n",
       "        text-align: right;\n",
       "    }\n",
       "</style>\n",
       "<table border=\"1\" class=\"dataframe\">\n",
       "  <thead>\n",
       "    <tr style=\"text-align: right;\">\n",
       "      <th></th>\n",
       "      <th>Project organization</th>\n",
       "      <th>count</th>\n",
       "    </tr>\n",
       "  </thead>\n",
       "  <tbody>\n",
       "    <tr>\n",
       "      <th>0</th>\n",
       "      <td>GIT/IT EMEA/MES &amp; Digital Shopfloor projects</td>\n",
       "      <td>61</td>\n",
       "    </tr>\n",
       "    <tr>\n",
       "      <th>1</th>\n",
       "      <td>GIT/IT EMEA/Applications rollouts &amp; Level 2 Su...</td>\n",
       "      <td>42</td>\n",
       "    </tr>\n",
       "    <tr>\n",
       "      <th>2</th>\n",
       "      <td>GIS/ITOP SAO./IT OP SAO shared/ITOP SAO FCS &amp; ...</td>\n",
       "      <td>15</td>\n",
       "    </tr>\n",
       "    <tr>\n",
       "      <th>3</th>\n",
       "      <td>GIS/ITOP ASIA/IT OP Asia Shared/ITOP ASIA MES ...</td>\n",
       "      <td>14</td>\n",
       "    </tr>\n",
       "    <tr>\n",
       "      <th>4</th>\n",
       "      <td>GIT/IT NAO/MES Applications &amp; DT/Mexico MES</td>\n",
       "      <td>13</td>\n",
       "    </tr>\n",
       "    <tr>\n",
       "      <th>5</th>\n",
       "      <td>GIT/IT NAO/NAO Applications/FCS</td>\n",
       "      <td>9</td>\n",
       "    </tr>\n",
       "    <tr>\n",
       "      <th>6</th>\n",
       "      <td>GIS/ITOP ASIA/IT OP Asia Shared/ITOP ASIA Infr...</td>\n",
       "      <td>8</td>\n",
       "    </tr>\n",
       "    <tr>\n",
       "      <th>7</th>\n",
       "      <td>GIT/IT NAO</td>\n",
       "      <td>8</td>\n",
       "    </tr>\n",
       "    <tr>\n",
       "      <th>8</th>\n",
       "      <td>GIT/Applications</td>\n",
       "      <td>8</td>\n",
       "    </tr>\n",
       "    <tr>\n",
       "      <th>9</th>\n",
       "      <td>GIT/IT NAO/MES Applications &amp; DT/US MES</td>\n",
       "      <td>6</td>\n",
       "    </tr>\n",
       "    <tr>\n",
       "      <th>10</th>\n",
       "      <td>GIS/ITOP SAO/IT OP SAO shared/ITOP SAO MES &amp; S...</td>\n",
       "      <td>6</td>\n",
       "    </tr>\n",
       "  </tbody>\n",
       "</table>\n",
       "</div>"
      ],
      "text/plain": [
       "                                 Project organization  count\n",
       "0        GIT/IT EMEA/MES & Digital Shopfloor projects     61\n",
       "1   GIT/IT EMEA/Applications rollouts & Level 2 Su...     42\n",
       "2   GIS/ITOP SAO./IT OP SAO shared/ITOP SAO FCS & ...     15\n",
       "3   GIS/ITOP ASIA/IT OP Asia Shared/ITOP ASIA MES ...     14\n",
       "4        GIT/IT NAO/MES Applications & DT/Mexico MES      13\n",
       "5                     GIT/IT NAO/NAO Applications/FCS      9\n",
       "6   GIS/ITOP ASIA/IT OP Asia Shared/ITOP ASIA Infr...      8\n",
       "7                                          GIT/IT NAO      8\n",
       "8                                    GIT/Applications      8\n",
       "9            GIT/IT NAO/MES Applications & DT/US MES       6\n",
       "10  GIS/ITOP SAO/IT OP SAO shared/ITOP SAO MES & S...      6"
      ]
     },
     "execution_count": 47,
     "metadata": {},
     "output_type": "execute_result"
    }
   ],
   "source": [
    "# filtro con los valores más relevantes de la variable \n",
    "filtro5 = tabla_freq5[tabla_freq5['count']>4]\n",
    "filtro5"
   ]
  },
  {
   "cell_type": "code",
   "execution_count": 48,
   "id": "b2645f52",
   "metadata": {},
   "outputs": [
    {
     "data": {
      "text/html": [
       "<div>\n",
       "<style scoped>\n",
       "    .dataframe tbody tr th:only-of-type {\n",
       "        vertical-align: middle;\n",
       "    }\n",
       "\n",
       "    .dataframe tbody tr th {\n",
       "        vertical-align: top;\n",
       "    }\n",
       "\n",
       "    .dataframe thead th {\n",
       "        text-align: right;\n",
       "    }\n",
       "</style>\n",
       "<table border=\"1\" class=\"dataframe\">\n",
       "  <thead>\n",
       "    <tr style=\"text-align: right;\">\n",
       "      <th></th>\n",
       "      <th>count</th>\n",
       "    </tr>\n",
       "    <tr>\n",
       "      <th>Project organization</th>\n",
       "      <th></th>\n",
       "    </tr>\n",
       "  </thead>\n",
       "  <tbody>\n",
       "    <tr>\n",
       "      <th>GIT/IT EMEA/MES &amp; Digital Shopfloor projects</th>\n",
       "      <td>61</td>\n",
       "    </tr>\n",
       "    <tr>\n",
       "      <th>GIT/IT EMEA/Applications rollouts &amp; Level 2 Support</th>\n",
       "      <td>42</td>\n",
       "    </tr>\n",
       "    <tr>\n",
       "      <th>GIS/ITOP SAO./IT OP SAO shared/ITOP SAO FCS &amp; BPA.</th>\n",
       "      <td>15</td>\n",
       "    </tr>\n",
       "    <tr>\n",
       "      <th>GIS/ITOP ASIA/IT OP Asia Shared/ITOP ASIA MES &amp; Digital Transformation</th>\n",
       "      <td>14</td>\n",
       "    </tr>\n",
       "    <tr>\n",
       "      <th>GIT/IT NAO/MES Applications &amp; DT/Mexico MES</th>\n",
       "      <td>13</td>\n",
       "    </tr>\n",
       "    <tr>\n",
       "      <th>GIT/IT NAO/NAO Applications/FCS</th>\n",
       "      <td>9</td>\n",
       "    </tr>\n",
       "    <tr>\n",
       "      <th>GIS/ITOP ASIA/IT OP Asia Shared/ITOP ASIA Infrastructure</th>\n",
       "      <td>8</td>\n",
       "    </tr>\n",
       "    <tr>\n",
       "      <th>GIT/IT NAO</th>\n",
       "      <td>8</td>\n",
       "    </tr>\n",
       "    <tr>\n",
       "      <th>GIT/Applications</th>\n",
       "      <td>8</td>\n",
       "    </tr>\n",
       "    <tr>\n",
       "      <th>GIT/IT NAO/MES Applications &amp; DT/US MES</th>\n",
       "      <td>6</td>\n",
       "    </tr>\n",
       "    <tr>\n",
       "      <th>GIS/ITOP SAO/IT OP SAO shared/ITOP SAO MES &amp; Shopfloor projects</th>\n",
       "      <td>6</td>\n",
       "    </tr>\n",
       "  </tbody>\n",
       "</table>\n",
       "</div>"
      ],
      "text/plain": [
       "                                                    count\n",
       "Project organization                                     \n",
       "GIT/IT EMEA/MES & Digital Shopfloor projects           61\n",
       "GIT/IT EMEA/Applications rollouts & Level 2 Sup...     42\n",
       "GIS/ITOP SAO./IT OP SAO shared/ITOP SAO FCS & BPA.     15\n",
       "GIS/ITOP ASIA/IT OP Asia Shared/ITOP ASIA MES &...     14\n",
       "GIT/IT NAO/MES Applications & DT/Mexico MES            13\n",
       "GIT/IT NAO/NAO Applications/FCS                         9\n",
       "GIS/ITOP ASIA/IT OP Asia Shared/ITOP ASIA Infra...      8\n",
       "GIT/IT NAO                                              8\n",
       "GIT/Applications                                        8\n",
       "GIT/IT NAO/MES Applications & DT/US MES                 6\n",
       "GIS/ITOP SAO/IT OP SAO shared/ITOP SAO MES & Sh...      6"
      ]
     },
     "execution_count": 48,
     "metadata": {},
     "output_type": "execute_result"
    }
   ],
   "source": [
    "# ajusto el index el df (variables categoricas de tipo string y numericas)\n",
    "filtro_index5 = filtro5.set_index('Project organization')\n",
    "filtro_index5"
   ]
  },
  {
   "cell_type": "code",
   "execution_count": 49,
   "id": "efb84ffa",
   "metadata": {},
   "outputs": [
    {
     "data": {
      "text/plain": [
       "Text(0, 0.5, 'Frecuencia')"
      ]
     },
     "execution_count": 49,
     "metadata": {},
     "output_type": "execute_result"
    },
    {
     "data": {
      "image/png": "[encoded data removed]",
      "text/plain": [
       "<Figure size 800x300 with 1 Axes>"
      ]
     },
     "metadata": {},
     "output_type": "display_data"
    }
   ],
   "source": [
    "# realizamos gráfico de barras\n",
    "filtro_index5.plot(kind = 'bar', width = 0.8, figsize=(8,3), color = \"orchid\")\n",
    "plt. title('Project Organization')\n",
    "plt.xlabel('Organización')\n",
    "plt.ylabel('Frecuencia')"
   ]
  },
  {
   "cell_type": "markdown",
   "id": "81a708fc",
   "metadata": {},
   "source": [
    "#### **BG**"
   ]
  },
  {
   "cell_type": "code",
   "execution_count": 50,
   "id": "3b4c72ca",
   "metadata": {},
   "outputs": [
    {
     "data": {
      "text/html": [
       "<div>\n",
       "<style scoped>\n",
       "    .dataframe tbody tr th:only-of-type {\n",
       "        vertical-align: middle;\n",
       "    }\n",
       "\n",
       "    .dataframe tbody tr th {\n",
       "        vertical-align: top;\n",
       "    }\n",
       "\n",
       "    .dataframe thead th {\n",
       "        text-align: right;\n",
       "    }\n",
       "</style>\n",
       "<table border=\"1\" class=\"dataframe\">\n",
       "  <thead>\n",
       "    <tr style=\"text-align: right;\">\n",
       "      <th></th>\n",
       "      <th>BG</th>\n",
       "      <th>count</th>\n",
       "    </tr>\n",
       "  </thead>\n",
       "  <tbody>\n",
       "    <tr>\n",
       "      <th>0</th>\n",
       "      <td>FIS</td>\n",
       "      <td>66</td>\n",
       "    </tr>\n",
       "    <tr>\n",
       "      <th>1</th>\n",
       "      <td>FCM</td>\n",
       "      <td>57</td>\n",
       "    </tr>\n",
       "    <tr>\n",
       "      <th>2</th>\n",
       "      <td>FAS</td>\n",
       "      <td>43</td>\n",
       "    </tr>\n",
       "    <tr>\n",
       "      <th>3</th>\n",
       "      <td>GROUP</td>\n",
       "      <td>29</td>\n",
       "    </tr>\n",
       "    <tr>\n",
       "      <th>4</th>\n",
       "      <td>FCE</td>\n",
       "      <td>8</td>\n",
       "    </tr>\n",
       "    <tr>\n",
       "      <th>5</th>\n",
       "      <td>FES</td>\n",
       "      <td>6</td>\n",
       "    </tr>\n",
       "    <tr>\n",
       "      <th>6</th>\n",
       "      <td>FLG</td>\n",
       "      <td>6</td>\n",
       "    </tr>\n",
       "    <tr>\n",
       "      <th>7</th>\n",
       "      <td>FLV</td>\n",
       "      <td>5</td>\n",
       "    </tr>\n",
       "    <tr>\n",
       "      <th>8</th>\n",
       "      <td>HQH</td>\n",
       "      <td>4</td>\n",
       "    </tr>\n",
       "    <tr>\n",
       "      <th>9</th>\n",
       "      <td>SAS</td>\n",
       "      <td>1</td>\n",
       "    </tr>\n",
       "  </tbody>\n",
       "</table>\n",
       "</div>"
      ],
      "text/plain": [
       "      BG  count\n",
       "0    FIS     66\n",
       "1    FCM     57\n",
       "2    FAS     43\n",
       "3  GROUP     29\n",
       "4    FCE      8\n",
       "5    FES      6\n",
       "6    FLG      6\n",
       "7    FLV      5\n",
       "8    HQH      4\n",
       "9    SAS      1"
      ]
     },
     "execution_count": 50,
     "metadata": {},
     "output_type": "execute_result"
    }
   ],
   "source": [
    "tabla_freq6 = df['BG'].value_counts().reset_index()\n",
    "tabla_freq6"
   ]
  },
  {
   "cell_type": "code",
   "execution_count": 51,
   "id": "c6a06e3e",
   "metadata": {},
   "outputs": [
    {
     "data": {
      "text/html": [
       "<div>\n",
       "<style scoped>\n",
       "    .dataframe tbody tr th:only-of-type {\n",
       "        vertical-align: middle;\n",
       "    }\n",
       "\n",
       "    .dataframe tbody tr th {\n",
       "        vertical-align: top;\n",
       "    }\n",
       "\n",
       "    .dataframe thead th {\n",
       "        text-align: right;\n",
       "    }\n",
       "</style>\n",
       "<table border=\"1\" class=\"dataframe\">\n",
       "  <thead>\n",
       "    <tr style=\"text-align: right;\">\n",
       "      <th></th>\n",
       "      <th>BG</th>\n",
       "      <th>count</th>\n",
       "    </tr>\n",
       "  </thead>\n",
       "  <tbody>\n",
       "    <tr>\n",
       "      <th>0</th>\n",
       "      <td>FIS</td>\n",
       "      <td>66</td>\n",
       "    </tr>\n",
       "    <tr>\n",
       "      <th>1</th>\n",
       "      <td>FCM</td>\n",
       "      <td>57</td>\n",
       "    </tr>\n",
       "    <tr>\n",
       "      <th>2</th>\n",
       "      <td>FAS</td>\n",
       "      <td>43</td>\n",
       "    </tr>\n",
       "    <tr>\n",
       "      <th>3</th>\n",
       "      <td>GROUP</td>\n",
       "      <td>29</td>\n",
       "    </tr>\n",
       "    <tr>\n",
       "      <th>4</th>\n",
       "      <td>FCE</td>\n",
       "      <td>8</td>\n",
       "    </tr>\n",
       "    <tr>\n",
       "      <th>5</th>\n",
       "      <td>FES</td>\n",
       "      <td>6</td>\n",
       "    </tr>\n",
       "    <tr>\n",
       "      <th>6</th>\n",
       "      <td>FLG</td>\n",
       "      <td>6</td>\n",
       "    </tr>\n",
       "  </tbody>\n",
       "</table>\n",
       "</div>"
      ],
      "text/plain": [
       "      BG  count\n",
       "0    FIS     66\n",
       "1    FCM     57\n",
       "2    FAS     43\n",
       "3  GROUP     29\n",
       "4    FCE      8\n",
       "5    FES      6\n",
       "6    FLG      6"
      ]
     },
     "execution_count": 51,
     "metadata": {},
     "output_type": "execute_result"
    }
   ],
   "source": [
    "# filtro con los valores más relevantes de la variable \n",
    "filtro6 = tabla_freq6[tabla_freq6['count']>5]\n",
    "filtro6"
   ]
  },
  {
   "cell_type": "code",
   "execution_count": 52,
   "id": "d1941213",
   "metadata": {},
   "outputs": [
    {
     "data": {
      "text/html": [
       "<div>\n",
       "<style scoped>\n",
       "    .dataframe tbody tr th:only-of-type {\n",
       "        vertical-align: middle;\n",
       "    }\n",
       "\n",
       "    .dataframe tbody tr th {\n",
       "        vertical-align: top;\n",
       "    }\n",
       "\n",
       "    .dataframe thead th {\n",
       "        text-align: right;\n",
       "    }\n",
       "</style>\n",
       "<table border=\"1\" class=\"dataframe\">\n",
       "  <thead>\n",
       "    <tr style=\"text-align: right;\">\n",
       "      <th></th>\n",
       "      <th>count</th>\n",
       "    </tr>\n",
       "    <tr>\n",
       "      <th>BG</th>\n",
       "      <th></th>\n",
       "    </tr>\n",
       "  </thead>\n",
       "  <tbody>\n",
       "    <tr>\n",
       "      <th>FIS</th>\n",
       "      <td>66</td>\n",
       "    </tr>\n",
       "    <tr>\n",
       "      <th>FCM</th>\n",
       "      <td>57</td>\n",
       "    </tr>\n",
       "    <tr>\n",
       "      <th>FAS</th>\n",
       "      <td>43</td>\n",
       "    </tr>\n",
       "    <tr>\n",
       "      <th>GROUP</th>\n",
       "      <td>29</td>\n",
       "    </tr>\n",
       "    <tr>\n",
       "      <th>FCE</th>\n",
       "      <td>8</td>\n",
       "    </tr>\n",
       "    <tr>\n",
       "      <th>FES</th>\n",
       "      <td>6</td>\n",
       "    </tr>\n",
       "    <tr>\n",
       "      <th>FLG</th>\n",
       "      <td>6</td>\n",
       "    </tr>\n",
       "  </tbody>\n",
       "</table>\n",
       "</div>"
      ],
      "text/plain": [
       "       count\n",
       "BG          \n",
       "FIS       66\n",
       "FCM       57\n",
       "FAS       43\n",
       "GROUP     29\n",
       "FCE        8\n",
       "FES        6\n",
       "FLG        6"
      ]
     },
     "execution_count": 52,
     "metadata": {},
     "output_type": "execute_result"
    }
   ],
   "source": [
    "# ajusto el index el df (variables categoricas de tipo string y numericas)\n",
    "filtro_index6 = filtro6.set_index('BG')\n",
    "filtro_index6"
   ]
  },
  {
   "cell_type": "code",
   "execution_count": 53,
   "id": "2baf463b",
   "metadata": {},
   "outputs": [
    {
     "data": {
      "text/plain": [
       "Text(0, 0.5, 'Frecuencia')"
      ]
     },
     "execution_count": 53,
     "metadata": {},
     "output_type": "execute_result"
    },
    {
     "data": {
      "image/png": "[encoded data removed]",
      "text/plain": [
       "<Figure size 800x300 with 1 Axes>"
      ]
     },
     "metadata": {},
     "output_type": "display_data"
    }
   ],
   "source": [
    "# realizamos gráfico de barras\n",
    "filtro_index6.plot(kind = 'bar', width = 0.8, figsize=(8,3), color = \"orchid\")\n",
    "plt. title('BG')\n",
    "plt.xlabel('Name')\n",
    "plt.ylabel('Frecuencia')"
   ]
  },
  {
   "cell_type": "markdown",
   "id": "55abbd06",
   "metadata": {},
   "source": [
    "#### **Project Health**"
   ]
  },
  {
   "cell_type": "code",
   "execution_count": 54,
   "id": "42e3ba6d",
   "metadata": {},
   "outputs": [
    {
     "data": {
      "text/html": [
       "<div>\n",
       "<style scoped>\n",
       "    .dataframe tbody tr th:only-of-type {\n",
       "        vertical-align: middle;\n",
       "    }\n",
       "\n",
       "    .dataframe tbody tr th {\n",
       "        vertical-align: top;\n",
       "    }\n",
       "\n",
       "    .dataframe thead th {\n",
       "        text-align: right;\n",
       "    }\n",
       "</style>\n",
       "<table border=\"1\" class=\"dataframe\">\n",
       "  <thead>\n",
       "    <tr style=\"text-align: right;\">\n",
       "      <th></th>\n",
       "      <th>Project Health</th>\n",
       "      <th>count</th>\n",
       "    </tr>\n",
       "  </thead>\n",
       "  <tbody>\n",
       "    <tr>\n",
       "      <th>0</th>\n",
       "      <td>Green</td>\n",
       "      <td>166</td>\n",
       "    </tr>\n",
       "    <tr>\n",
       "      <th>1</th>\n",
       "      <td>Yellow</td>\n",
       "      <td>46</td>\n",
       "    </tr>\n",
       "    <tr>\n",
       "      <th>2</th>\n",
       "      <td>Red</td>\n",
       "      <td>13</td>\n",
       "    </tr>\n",
       "  </tbody>\n",
       "</table>\n",
       "</div>"
      ],
      "text/plain": [
       "  Project Health  count\n",
       "0          Green    166\n",
       "1         Yellow     46\n",
       "2            Red     13"
      ]
     },
     "execution_count": 54,
     "metadata": {},
     "output_type": "execute_result"
    }
   ],
   "source": [
    "tabla_freq7 = df['Project Health'].value_counts().reset_index()\n",
    "tabla_freq7"
   ]
  },
  {
   "cell_type": "code",
   "execution_count": 55,
   "id": "8586d542",
   "metadata": {},
   "outputs": [
    {
     "data": {
      "text/html": [
       "<div>\n",
       "<style scoped>\n",
       "    .dataframe tbody tr th:only-of-type {\n",
       "        vertical-align: middle;\n",
       "    }\n",
       "\n",
       "    .dataframe tbody tr th {\n",
       "        vertical-align: top;\n",
       "    }\n",
       "\n",
       "    .dataframe thead th {\n",
       "        text-align: right;\n",
       "    }\n",
       "</style>\n",
       "<table border=\"1\" class=\"dataframe\">\n",
       "  <thead>\n",
       "    <tr style=\"text-align: right;\">\n",
       "      <th></th>\n",
       "      <th>Project Health</th>\n",
       "      <th>count</th>\n",
       "    </tr>\n",
       "  </thead>\n",
       "  <tbody>\n",
       "    <tr>\n",
       "      <th>0</th>\n",
       "      <td>Green</td>\n",
       "      <td>166</td>\n",
       "    </tr>\n",
       "    <tr>\n",
       "      <th>1</th>\n",
       "      <td>Yellow</td>\n",
       "      <td>46</td>\n",
       "    </tr>\n",
       "    <tr>\n",
       "      <th>2</th>\n",
       "      <td>Red</td>\n",
       "      <td>13</td>\n",
       "    </tr>\n",
       "  </tbody>\n",
       "</table>\n",
       "</div>"
      ],
      "text/plain": [
       "  Project Health  count\n",
       "0          Green    166\n",
       "1         Yellow     46\n",
       "2            Red     13"
      ]
     },
     "execution_count": 55,
     "metadata": {},
     "output_type": "execute_result"
    }
   ],
   "source": [
    "# filtro con los valores más relevantes de la variable \n",
    "filtro7 = tabla_freq7[tabla_freq7['count']>1]\n",
    "filtro7"
   ]
  },
  {
   "cell_type": "code",
   "execution_count": 56,
   "id": "1d43de9e",
   "metadata": {},
   "outputs": [
    {
     "data": {
      "text/html": [
       "<div>\n",
       "<style scoped>\n",
       "    .dataframe tbody tr th:only-of-type {\n",
       "        vertical-align: middle;\n",
       "    }\n",
       "\n",
       "    .dataframe tbody tr th {\n",
       "        vertical-align: top;\n",
       "    }\n",
       "\n",
       "    .dataframe thead th {\n",
       "        text-align: right;\n",
       "    }\n",
       "</style>\n",
       "<table border=\"1\" class=\"dataframe\">\n",
       "  <thead>\n",
       "    <tr style=\"text-align: right;\">\n",
       "      <th></th>\n",
       "      <th>count</th>\n",
       "    </tr>\n",
       "    <tr>\n",
       "      <th>Project Health</th>\n",
       "      <th></th>\n",
       "    </tr>\n",
       "  </thead>\n",
       "  <tbody>\n",
       "    <tr>\n",
       "      <th>Green</th>\n",
       "      <td>166</td>\n",
       "    </tr>\n",
       "    <tr>\n",
       "      <th>Yellow</th>\n",
       "      <td>46</td>\n",
       "    </tr>\n",
       "    <tr>\n",
       "      <th>Red</th>\n",
       "      <td>13</td>\n",
       "    </tr>\n",
       "  </tbody>\n",
       "</table>\n",
       "</div>"
      ],
      "text/plain": [
       "                count\n",
       "Project Health       \n",
       "Green             166\n",
       "Yellow             46\n",
       "Red                13"
      ]
     },
     "execution_count": 56,
     "metadata": {},
     "output_type": "execute_result"
    }
   ],
   "source": [
    "# ajusto el index el df (variables categoricas de tipo string y numericas)\n",
    "filtro_index7 = filtro7.set_index('Project Health')\n",
    "filtro_index7"
   ]
  },
  {
   "cell_type": "code",
   "execution_count": 57,
   "id": "c628f8eb",
   "metadata": {},
   "outputs": [
    {
     "data": {
      "text/plain": [
       "<Axes: ylabel='count'>"
      ]
     },
     "execution_count": 57,
     "metadata": {},
     "output_type": "execute_result"
    },
    {
     "data": {
      "image/png": "[encoded data removed]",
      "text/plain": [
       "<Figure size 1000x400 with 1 Axes>"
      ]
     },
     "metadata": {},
     "output_type": "display_data"
    }
   ],
   "source": [
    "filtro_index7[\"count\"].plot(kind = 'pie', figsize=(10,4), shadow = True, autopct=\"%0.1f %%\", colormap ='Pastel1')"
   ]
  },
  {
   "cell_type": "markdown",
   "id": "15f2e305",
   "metadata": {},
   "source": [
    "#### **On-Hold**"
   ]
  },
  {
   "cell_type": "code",
   "execution_count": 58,
   "id": "096320df",
   "metadata": {},
   "outputs": [
    {
     "data": {
      "text/html": [
       "<div>\n",
       "<style scoped>\n",
       "    .dataframe tbody tr th:only-of-type {\n",
       "        vertical-align: middle;\n",
       "    }\n",
       "\n",
       "    .dataframe tbody tr th {\n",
       "        vertical-align: top;\n",
       "    }\n",
       "\n",
       "    .dataframe thead th {\n",
       "        text-align: right;\n",
       "    }\n",
       "</style>\n",
       "<table border=\"1\" class=\"dataframe\">\n",
       "  <thead>\n",
       "    <tr style=\"text-align: right;\">\n",
       "      <th></th>\n",
       "      <th>On-hold</th>\n",
       "      <th>count</th>\n",
       "    </tr>\n",
       "  </thead>\n",
       "  <tbody>\n",
       "    <tr>\n",
       "      <th>0</th>\n",
       "      <td>FALSO</td>\n",
       "      <td>176</td>\n",
       "    </tr>\n",
       "    <tr>\n",
       "      <th>1</th>\n",
       "      <td>VERDADERO</td>\n",
       "      <td>49</td>\n",
       "    </tr>\n",
       "  </tbody>\n",
       "</table>\n",
       "</div>"
      ],
      "text/plain": [
       "     On-hold  count\n",
       "0      FALSO    176\n",
       "1  VERDADERO     49"
      ]
     },
     "execution_count": 58,
     "metadata": {},
     "output_type": "execute_result"
    }
   ],
   "source": [
    "tabla_freq8 = df['On-hold'].value_counts().reset_index()\n",
    "tabla_freq8"
   ]
  },
  {
   "cell_type": "code",
   "execution_count": 59,
   "id": "91d2721a",
   "metadata": {},
   "outputs": [
    {
     "data": {
      "text/html": [
       "<div>\n",
       "<style scoped>\n",
       "    .dataframe tbody tr th:only-of-type {\n",
       "        vertical-align: middle;\n",
       "    }\n",
       "\n",
       "    .dataframe tbody tr th {\n",
       "        vertical-align: top;\n",
       "    }\n",
       "\n",
       "    .dataframe thead th {\n",
       "        text-align: right;\n",
       "    }\n",
       "</style>\n",
       "<table border=\"1\" class=\"dataframe\">\n",
       "  <thead>\n",
       "    <tr style=\"text-align: right;\">\n",
       "      <th></th>\n",
       "      <th>On-hold</th>\n",
       "      <th>count</th>\n",
       "    </tr>\n",
       "  </thead>\n",
       "  <tbody>\n",
       "    <tr>\n",
       "      <th>0</th>\n",
       "      <td>FALSO</td>\n",
       "      <td>176</td>\n",
       "    </tr>\n",
       "    <tr>\n",
       "      <th>1</th>\n",
       "      <td>VERDADERO</td>\n",
       "      <td>49</td>\n",
       "    </tr>\n",
       "  </tbody>\n",
       "</table>\n",
       "</div>"
      ],
      "text/plain": [
       "     On-hold  count\n",
       "0      FALSO    176\n",
       "1  VERDADERO     49"
      ]
     },
     "execution_count": 59,
     "metadata": {},
     "output_type": "execute_result"
    }
   ],
   "source": [
    "# filtro con los valores más relevantes de la variable \n",
    "filtro8 = tabla_freq8[tabla_freq8['count']>1]\n",
    "filtro8"
   ]
  },
  {
   "cell_type": "code",
   "execution_count": 60,
   "id": "159289bb",
   "metadata": {},
   "outputs": [
    {
     "data": {
      "text/html": [
       "<div>\n",
       "<style scoped>\n",
       "    .dataframe tbody tr th:only-of-type {\n",
       "        vertical-align: middle;\n",
       "    }\n",
       "\n",
       "    .dataframe tbody tr th {\n",
       "        vertical-align: top;\n",
       "    }\n",
       "\n",
       "    .dataframe thead th {\n",
       "        text-align: right;\n",
       "    }\n",
       "</style>\n",
       "<table border=\"1\" class=\"dataframe\">\n",
       "  <thead>\n",
       "    <tr style=\"text-align: right;\">\n",
       "      <th></th>\n",
       "      <th>count</th>\n",
       "    </tr>\n",
       "    <tr>\n",
       "      <th>On-hold</th>\n",
       "      <th></th>\n",
       "    </tr>\n",
       "  </thead>\n",
       "  <tbody>\n",
       "    <tr>\n",
       "      <th>FALSO</th>\n",
       "      <td>176</td>\n",
       "    </tr>\n",
       "    <tr>\n",
       "      <th>VERDADERO</th>\n",
       "      <td>49</td>\n",
       "    </tr>\n",
       "  </tbody>\n",
       "</table>\n",
       "</div>"
      ],
      "text/plain": [
       "           count\n",
       "On-hold         \n",
       "FALSO        176\n",
       "VERDADERO     49"
      ]
     },
     "execution_count": 60,
     "metadata": {},
     "output_type": "execute_result"
    }
   ],
   "source": [
    "# ajusto el index el df (variables categoricas de tipo string y numericas)\n",
    "filtro_index8 = filtro8.set_index('On-hold')\n",
    "filtro_index8"
   ]
  },
  {
   "cell_type": "code",
   "execution_count": 61,
   "id": "413bc97d",
   "metadata": {},
   "outputs": [
    {
     "data": {
      "text/plain": [
       "<Axes: ylabel='count'>"
      ]
     },
     "execution_count": 61,
     "metadata": {},
     "output_type": "execute_result"
    },
    {
     "data": {
      "image/png": "[encoded data removed]",
      "text/plain": [
       "<Figure size 1000x400 with 1 Axes>"
      ]
     },
     "metadata": {},
     "output_type": "display_data"
    }
   ],
   "source": [
    "# realizamos gráfico de barras\n",
    "filtro_index8[\"count\"].plot(kind = 'pie', figsize=(10,4), shadow = True, autopct=\"%0.1f %%\", colormap ='Pastel1')"
   ]
  },
  {
   "cell_type": "markdown",
   "id": "cb75d412",
   "metadata": {},
   "source": [
    "#### **Categorizar la variable \"Percent complete\" aplicando la regla de Sturges y desplegar en un gráfico las frecuencias de las categorías obtenidas**"
   ]
  },
  {
   "cell_type": "code",
   "execution_count": 62,
   "id": "126820f8",
   "metadata": {},
   "outputs": [
    {
     "name": "stdout",
     "output_type": "stream",
     "text": [
      "<class 'pandas.core.series.Series'>\n",
      "Index: 225 entries, 0 to 244\n",
      "Series name: Percent complete\n",
      "Non-Null Count  Dtype  \n",
      "--------------  -----  \n",
      "225 non-null    float64\n",
      "dtypes: float64(1)\n",
      "memory usage: 3.5 KB\n"
     ]
    }
   ],
   "source": [
    "df['Percent complete'].info() # Número total de la población \"n\"\n",
    "n = 225"
   ]
  },
  {
   "cell_type": "code",
   "execution_count": 63,
   "id": "091913c3",
   "metadata": {},
   "outputs": [
    {
     "data": {
      "text/plain": [
       "[0.0, 99.92]"
      ]
     },
     "execution_count": 63,
     "metadata": {},
     "output_type": "execute_result"
    }
   ],
   "source": [
    "max = df['Percent complete'].max()\n",
    "min = df['Percent complete'].min()\n",
    "limites = [min, max]\n",
    "limites"
   ]
  },
  {
   "cell_type": "code",
   "execution_count": 64,
   "id": "fcf7241e",
   "metadata": {},
   "outputs": [
    {
     "data": {
      "text/plain": [
       "99.92"
      ]
     },
     "execution_count": 64,
     "metadata": {},
     "output_type": "execute_result"
    }
   ],
   "source": [
    "R = max - min\n",
    "R"
   ]
  },
  {
   "cell_type": "code",
   "execution_count": 65,
   "id": "fc056fb8",
   "metadata": {},
   "outputs": [
    {
     "data": {
      "text/plain": [
       "np.float64(8.809245960129724)"
      ]
     },
     "execution_count": 65,
     "metadata": {},
     "output_type": "execute_result"
    }
   ],
   "source": [
    "ni = 1 + 3.32 * np.log10(n)\n",
    "ni  "
   ]
  },
  {
   "cell_type": "markdown",
   "id": "3768dd88",
   "metadata": {},
   "source": [
    "Tomaremos el número redondeado como el correcto ni = 9"
   ]
  },
  {
   "cell_type": "code",
   "execution_count": 66,
   "id": "0f089dcd",
   "metadata": {},
   "outputs": [
    {
     "data": {
      "text/plain": [
       "np.float64(11.342628012912083)"
      ]
     },
     "execution_count": 66,
     "metadata": {},
     "output_type": "execute_result"
    }
   ],
   "source": [
    "i = R / ni\n",
    "i"
   ]
  },
  {
   "cell_type": "code",
   "execution_count": 67,
   "id": "d0979d72",
   "metadata": {},
   "outputs": [
    {
     "data": {
      "text/plain": [
       "array([-0.1       , 11.00222222, 22.10444444, 33.20666667, 44.30888889,\n",
       "       55.41111111, 66.51333333, 77.61555556, 88.71777778, 99.82      ])"
      ]
     },
     "execution_count": 67,
     "metadata": {},
     "output_type": "execute_result"
    }
   ],
   "source": [
    "intervalos = np.linspace(-0.1, 99.82, 10)\n",
    "intervalos"
   ]
  },
  {
   "cell_type": "code",
   "execution_count": 68,
   "id": "cb823ef4",
   "metadata": {},
   "outputs": [],
   "source": [
    "categorias = [\n",
    "    \"Categoría 1 (0.0 - 11.1)\",      \n",
    "    \"Categoría 2 (11.1 - 22.2)\",     \n",
    "    \"Categoría 3 (22.2 - 33.3)\",    \n",
    "    \"Categoría 4 (33.3 - 44.4)\",    \n",
    "    \"Categoría 5 (44.4 - 55.6)\",   \n",
    "    \"Categoría 6 (55.6 - 66.7)\", \n",
    "    \"Categoría 7 (66.7 - 77.8)\",  \n",
    "    \"Categoría 8 (77.8 - 88.9)\", \n",
    "    \"Categoría 9 (88.9 - 99.8)\"   \n",
    "]"
   ]
  },
  {
   "cell_type": "code",
   "execution_count": 69,
   "id": "edb859aa",
   "metadata": {},
   "outputs": [
    {
     "data": {
      "text/plain": [
       "0      Categoría 3 (22.2 - 33.3)\n",
       "1      Categoría 5 (44.4 - 55.6)\n",
       "2      Categoría 9 (88.9 - 99.8)\n",
       "3      Categoría 2 (11.1 - 22.2)\n",
       "4      Categoría 3 (22.2 - 33.3)\n",
       "                 ...            \n",
       "240     Categoría 1 (0.0 - 11.1)\n",
       "241    Categoría 9 (88.9 - 99.8)\n",
       "242     Categoría 1 (0.0 - 11.1)\n",
       "243    Categoría 8 (77.8 - 88.9)\n",
       "244     Categoría 1 (0.0 - 11.1)\n",
       "Name: Percent complete, Length: 225, dtype: category\n",
       "Categories (9, object): ['Categoría 1 (0.0 - 11.1)' < 'Categoría 2 (11.1 - 22.2)' < 'Categoría 3 (22.2 - 33.3)' < 'Categoría 4 (33.3 - 44.4)' ... 'Categoría 6 (55.6 - 66.7)' < 'Categoría 7 (66.7 - 77.8)' < 'Categoría 8 (77.8 - 88.9)' < 'Categoría 9 (88.9 - 99.8)']"
      ]
     },
     "execution_count": 69,
     "metadata": {},
     "output_type": "execute_result"
    }
   ],
   "source": [
    "df['Percent complete'] = pd.cut(x = df['Percent complete'], bins = intervalos, labels = categorias)\n",
    "df['Percent complete']"
   ]
  },
  {
   "cell_type": "code",
   "execution_count": 70,
   "id": "307566ff",
   "metadata": {},
   "outputs": [
    {
     "data": {
      "text/html": [
       "<div>\n",
       "<style scoped>\n",
       "    .dataframe tbody tr th:only-of-type {\n",
       "        vertical-align: middle;\n",
       "    }\n",
       "\n",
       "    .dataframe tbody tr th {\n",
       "        vertical-align: top;\n",
       "    }\n",
       "\n",
       "    .dataframe thead th {\n",
       "        text-align: right;\n",
       "    }\n",
       "</style>\n",
       "<table border=\"1\" class=\"dataframe\">\n",
       "  <thead>\n",
       "    <tr style=\"text-align: right;\">\n",
       "      <th></th>\n",
       "      <th>Percent complete</th>\n",
       "      <th>count</th>\n",
       "    </tr>\n",
       "  </thead>\n",
       "  <tbody>\n",
       "    <tr>\n",
       "      <th>0</th>\n",
       "      <td>Categoría 1 (0.0 - 11.1)</td>\n",
       "      <td>69</td>\n",
       "    </tr>\n",
       "    <tr>\n",
       "      <th>1</th>\n",
       "      <td>Categoría 9 (88.9 - 99.8)</td>\n",
       "      <td>41</td>\n",
       "    </tr>\n",
       "    <tr>\n",
       "      <th>2</th>\n",
       "      <td>Categoría 2 (11.1 - 22.2)</td>\n",
       "      <td>30</td>\n",
       "    </tr>\n",
       "    <tr>\n",
       "      <th>3</th>\n",
       "      <td>Categoría 3 (22.2 - 33.3)</td>\n",
       "      <td>22</td>\n",
       "    </tr>\n",
       "    <tr>\n",
       "      <th>4</th>\n",
       "      <td>Categoría 5 (44.4 - 55.6)</td>\n",
       "      <td>16</td>\n",
       "    </tr>\n",
       "    <tr>\n",
       "      <th>5</th>\n",
       "      <td>Categoría 4 (33.3 - 44.4)</td>\n",
       "      <td>15</td>\n",
       "    </tr>\n",
       "    <tr>\n",
       "      <th>6</th>\n",
       "      <td>Categoría 6 (55.6 - 66.7)</td>\n",
       "      <td>12</td>\n",
       "    </tr>\n",
       "    <tr>\n",
       "      <th>7</th>\n",
       "      <td>Categoría 8 (77.8 - 88.9)</td>\n",
       "      <td>12</td>\n",
       "    </tr>\n",
       "    <tr>\n",
       "      <th>8</th>\n",
       "      <td>Categoría 7 (66.7 - 77.8)</td>\n",
       "      <td>6</td>\n",
       "    </tr>\n",
       "  </tbody>\n",
       "</table>\n",
       "</div>"
      ],
      "text/plain": [
       "            Percent complete  count\n",
       "0   Categoría 1 (0.0 - 11.1)     69\n",
       "1  Categoría 9 (88.9 - 99.8)     41\n",
       "2  Categoría 2 (11.1 - 22.2)     30\n",
       "3  Categoría 3 (22.2 - 33.3)     22\n",
       "4  Categoría 5 (44.4 - 55.6)     16\n",
       "5  Categoría 4 (33.3 - 44.4)     15\n",
       "6  Categoría 6 (55.6 - 66.7)     12\n",
       "7  Categoría 8 (77.8 - 88.9)     12\n",
       "8  Categoría 7 (66.7 - 77.8)      6"
      ]
     },
     "execution_count": 70,
     "metadata": {},
     "output_type": "execute_result"
    }
   ],
   "source": [
    "tabla_freq9 = df['Percent complete'].value_counts().reset_index()\n",
    "tabla_freq9"
   ]
  },
  {
   "cell_type": "code",
   "execution_count": 71,
   "id": "3b705a9c",
   "metadata": {},
   "outputs": [
    {
     "data": {
      "text/html": [
       "<div>\n",
       "<style scoped>\n",
       "    .dataframe tbody tr th:only-of-type {\n",
       "        vertical-align: middle;\n",
       "    }\n",
       "\n",
       "    .dataframe tbody tr th {\n",
       "        vertical-align: top;\n",
       "    }\n",
       "\n",
       "    .dataframe thead th {\n",
       "        text-align: right;\n",
       "    }\n",
       "</style>\n",
       "<table border=\"1\" class=\"dataframe\">\n",
       "  <thead>\n",
       "    <tr style=\"text-align: right;\">\n",
       "      <th></th>\n",
       "      <th>Percent complete</th>\n",
       "      <th>count</th>\n",
       "    </tr>\n",
       "  </thead>\n",
       "  <tbody>\n",
       "    <tr>\n",
       "      <th>0</th>\n",
       "      <td>Categoría 1 (0.0 - 11.1)</td>\n",
       "      <td>69</td>\n",
       "    </tr>\n",
       "    <tr>\n",
       "      <th>1</th>\n",
       "      <td>Categoría 9 (88.9 - 99.8)</td>\n",
       "      <td>41</td>\n",
       "    </tr>\n",
       "    <tr>\n",
       "      <th>2</th>\n",
       "      <td>Categoría 2 (11.1 - 22.2)</td>\n",
       "      <td>30</td>\n",
       "    </tr>\n",
       "    <tr>\n",
       "      <th>3</th>\n",
       "      <td>Categoría 3 (22.2 - 33.3)</td>\n",
       "      <td>22</td>\n",
       "    </tr>\n",
       "    <tr>\n",
       "      <th>4</th>\n",
       "      <td>Categoría 5 (44.4 - 55.6)</td>\n",
       "      <td>16</td>\n",
       "    </tr>\n",
       "    <tr>\n",
       "      <th>5</th>\n",
       "      <td>Categoría 4 (33.3 - 44.4)</td>\n",
       "      <td>15</td>\n",
       "    </tr>\n",
       "    <tr>\n",
       "      <th>6</th>\n",
       "      <td>Categoría 6 (55.6 - 66.7)</td>\n",
       "      <td>12</td>\n",
       "    </tr>\n",
       "    <tr>\n",
       "      <th>7</th>\n",
       "      <td>Categoría 8 (77.8 - 88.9)</td>\n",
       "      <td>12</td>\n",
       "    </tr>\n",
       "    <tr>\n",
       "      <th>8</th>\n",
       "      <td>Categoría 7 (66.7 - 77.8)</td>\n",
       "      <td>6</td>\n",
       "    </tr>\n",
       "  </tbody>\n",
       "</table>\n",
       "</div>"
      ],
      "text/plain": [
       "            Percent complete  count\n",
       "0   Categoría 1 (0.0 - 11.1)     69\n",
       "1  Categoría 9 (88.9 - 99.8)     41\n",
       "2  Categoría 2 (11.1 - 22.2)     30\n",
       "3  Categoría 3 (22.2 - 33.3)     22\n",
       "4  Categoría 5 (44.4 - 55.6)     16\n",
       "5  Categoría 4 (33.3 - 44.4)     15\n",
       "6  Categoría 6 (55.6 - 66.7)     12\n",
       "7  Categoría 8 (77.8 - 88.9)     12\n",
       "8  Categoría 7 (66.7 - 77.8)      6"
      ]
     },
     "execution_count": 71,
     "metadata": {},
     "output_type": "execute_result"
    }
   ],
   "source": [
    "filtro9 = tabla_freq9[tabla_freq9['count']>0]\n",
    "filtro9"
   ]
  },
  {
   "cell_type": "code",
   "execution_count": 72,
   "id": "3f86b9e6",
   "metadata": {},
   "outputs": [
    {
     "data": {
      "text/html": [
       "<div>\n",
       "<style scoped>\n",
       "    .dataframe tbody tr th:only-of-type {\n",
       "        vertical-align: middle;\n",
       "    }\n",
       "\n",
       "    .dataframe tbody tr th {\n",
       "        vertical-align: top;\n",
       "    }\n",
       "\n",
       "    .dataframe thead th {\n",
       "        text-align: right;\n",
       "    }\n",
       "</style>\n",
       "<table border=\"1\" class=\"dataframe\">\n",
       "  <thead>\n",
       "    <tr style=\"text-align: right;\">\n",
       "      <th></th>\n",
       "      <th>count</th>\n",
       "    </tr>\n",
       "    <tr>\n",
       "      <th>Percent complete</th>\n",
       "      <th></th>\n",
       "    </tr>\n",
       "  </thead>\n",
       "  <tbody>\n",
       "    <tr>\n",
       "      <th>Categoría 1 (0.0 - 11.1)</th>\n",
       "      <td>69</td>\n",
       "    </tr>\n",
       "    <tr>\n",
       "      <th>Categoría 9 (88.9 - 99.8)</th>\n",
       "      <td>41</td>\n",
       "    </tr>\n",
       "    <tr>\n",
       "      <th>Categoría 2 (11.1 - 22.2)</th>\n",
       "      <td>30</td>\n",
       "    </tr>\n",
       "    <tr>\n",
       "      <th>Categoría 3 (22.2 - 33.3)</th>\n",
       "      <td>22</td>\n",
       "    </tr>\n",
       "    <tr>\n",
       "      <th>Categoría 5 (44.4 - 55.6)</th>\n",
       "      <td>16</td>\n",
       "    </tr>\n",
       "    <tr>\n",
       "      <th>Categoría 4 (33.3 - 44.4)</th>\n",
       "      <td>15</td>\n",
       "    </tr>\n",
       "    <tr>\n",
       "      <th>Categoría 6 (55.6 - 66.7)</th>\n",
       "      <td>12</td>\n",
       "    </tr>\n",
       "    <tr>\n",
       "      <th>Categoría 8 (77.8 - 88.9)</th>\n",
       "      <td>12</td>\n",
       "    </tr>\n",
       "    <tr>\n",
       "      <th>Categoría 7 (66.7 - 77.8)</th>\n",
       "      <td>6</td>\n",
       "    </tr>\n",
       "  </tbody>\n",
       "</table>\n",
       "</div>"
      ],
      "text/plain": [
       "                           count\n",
       "Percent complete                \n",
       "Categoría 1 (0.0 - 11.1)      69\n",
       "Categoría 9 (88.9 - 99.8)     41\n",
       "Categoría 2 (11.1 - 22.2)     30\n",
       "Categoría 3 (22.2 - 33.3)     22\n",
       "Categoría 5 (44.4 - 55.6)     16\n",
       "Categoría 4 (33.3 - 44.4)     15\n",
       "Categoría 6 (55.6 - 66.7)     12\n",
       "Categoría 8 (77.8 - 88.9)     12\n",
       "Categoría 7 (66.7 - 77.8)      6"
      ]
     },
     "execution_count": 72,
     "metadata": {},
     "output_type": "execute_result"
    }
   ],
   "source": [
    "filtro_index9 = filtro9.set_index('Percent complete')\n",
    "filtro_index9"
   ]
  },
  {
   "cell_type": "code",
   "execution_count": 73,
   "id": "8bc0e3f9",
   "metadata": {},
   "outputs": [
    {
     "data": {
      "text/plain": [
       "Text(0, 0.5, 'Frecuencia')"
      ]
     },
     "execution_count": 73,
     "metadata": {},
     "output_type": "execute_result"
    },
    {
     "data": {
      "image/png": "[encoded data removed]",
      "text/plain": [
       "<Figure size 1000x400 with 1 Axes>"
      ]
     },
     "metadata": {},
     "output_type": "display_data"
    }
   ],
   "source": [
    "filtro_index9.plot(kind = 'bar', width = 0.8, figsize = (10,4), color = \"orchid\", rot = 45)\n",
    "plt. title('Percent Complete')\n",
    "plt.xlabel('Categorías')\n",
    "plt.ylabel('Frecuencia')"
   ]
  },
  {
   "cell_type": "markdown",
   "id": "9c790705",
   "metadata": {},
   "source": [
    "La gráfica muestra una distribución descendente en la gestión de portfolios de proyectos.\n",
    "\n",
    "Vemos que hay muchos proyectos apenas empezando (78 en la primera categoría) y muy pocos que ya están casi listos o terminados (solo 12 en la última).\n",
    "\n",
    "Esto es normal es común que algunos proyectos se abandonen en el camino, otros tomen más tiempo del esperado, y solo unos cuantos logren terminarse correctamente."
   ]
  }
 ],
 "metadata": {
  "kernelspec": {
   "display_name": "base",
   "language": "python",
   "name": "python3"
  },
  "language_info": {
   "codemirror_mode": {
    "name": "ipython",
    "version": 3
   },
   "file_extension": ".py",
   "mimetype": "text/x-python",
   "name": "python",
   "nbconvert_exporter": "python",
   "pygments_lexer": "ipython3",
   "version": "3.13.5"
  }
 },
 "nbformat": 4,
 "nbformat_minor": 5
}
