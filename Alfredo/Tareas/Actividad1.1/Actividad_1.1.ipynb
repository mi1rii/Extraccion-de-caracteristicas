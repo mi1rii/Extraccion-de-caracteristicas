{
 "cells": [
  {
   "cell_type": "markdown",
   "id": "52b301fb",
   "metadata": {},
   "source": [
    "# Actividad 1.1 (Extracción de Características)\n",
    "- Miranda Eugenia Colorado Arróniz A01737027"
   ]
  },
  {
   "cell_type": "code",
   "execution_count": 3,
   "id": "5d3930b4",
   "metadata": {},
   "outputs": [
    {
     "name": "stdout",
     "output_type": "stream",
     "text": [
      "Dimensiones del dataset: (1643872, 8)\n"
     ]
    }
   ],
   "source": [
    "import pandas as pd\n",
    "import numpy as np\n",
    "import matplotlib.pyplot as plt\n",
    "\n",
    "df = pd.read_csv('01_DiatomInventories_GTstudentproject_B.csv')\n",
    "print(\"Dimensiones del dataset:\", df.shape)"
   ]
  },
  {
   "cell_type": "markdown",
   "id": "48e820f9",
   "metadata": {},
   "source": [
    "#### **1. Aplicar acciones de preprocesamiento para reemplazar valores nulos y outliers del dataframe**"
   ]
  },
  {
   "cell_type": "markdown",
   "id": "19fd7035",
   "metadata": {},
   "source": [
    "Vemos los primeros 5 registros del dataframe"
   ]
  },
  {
   "cell_type": "code",
   "execution_count": 4,
   "id": "9285aea0",
   "metadata": {},
   "outputs": [
    {
     "name": "stdout",
     "output_type": "stream",
     "text": [
      "\n",
      "Primeras filas del dataframe:\n"
     ]
    },
    {
     "data": {
      "text/html": [
       "<div>\n",
       "<style scoped>\n",
       "    .dataframe tbody tr th:only-of-type {\n",
       "        vertical-align: middle;\n",
       "    }\n",
       "\n",
       "    .dataframe tbody tr th {\n",
       "        vertical-align: top;\n",
       "    }\n",
       "\n",
       "    .dataframe thead th {\n",
       "        text-align: right;\n",
       "    }\n",
       "</style>\n",
       "<table border=\"1\" class=\"dataframe\">\n",
       "  <thead>\n",
       "    <tr style=\"text-align: right;\">\n",
       "      <th></th>\n",
       "      <th>TaxonName</th>\n",
       "      <th>TaxonCode</th>\n",
       "      <th>SamplingOperations_code</th>\n",
       "      <th>CodeSite_SamplingOperations</th>\n",
       "      <th>Date_SamplingOperation</th>\n",
       "      <th>Abundance_nbcell</th>\n",
       "      <th>TotalAbundance_SamplingOperation</th>\n",
       "      <th>Abundance_pm</th>\n",
       "    </tr>\n",
       "  </thead>\n",
       "  <tbody>\n",
       "    <tr>\n",
       "      <th>0</th>\n",
       "      <td>Achnanthes aapajaervensis</td>\n",
       "      <td>Achaa01</td>\n",
       "      <td>S04094200_20120910</td>\n",
       "      <td>S04094200</td>\n",
       "      <td>2012-09-10</td>\n",
       "      <td>8</td>\n",
       "      <td>420</td>\n",
       "      <td>19.047619</td>\n",
       "    </tr>\n",
       "    <tr>\n",
       "      <th>1</th>\n",
       "      <td>Achnanthes aapajaervensis</td>\n",
       "      <td>Achaa01</td>\n",
       "      <td>S05155300_20100728</td>\n",
       "      <td>S05155300</td>\n",
       "      <td>2010-07-28</td>\n",
       "      <td>1</td>\n",
       "      <td>404</td>\n",
       "      <td>2.475248</td>\n",
       "    </tr>\n",
       "    <tr>\n",
       "      <th>2</th>\n",
       "      <td>Achnanthes affinis</td>\n",
       "      <td>Achaf01</td>\n",
       "      <td>S02018780_20070808</td>\n",
       "      <td>S02018780</td>\n",
       "      <td>2007-08-08</td>\n",
       "      <td>1</td>\n",
       "      <td>400</td>\n",
       "      <td>2.500000</td>\n",
       "    </tr>\n",
       "    <tr>\n",
       "      <th>3</th>\n",
       "      <td>Achnanthes affinis</td>\n",
       "      <td>Achaf01</td>\n",
       "      <td>S02022675_20090803</td>\n",
       "      <td>S02022675</td>\n",
       "      <td>2009-08-03</td>\n",
       "      <td>2</td>\n",
       "      <td>400</td>\n",
       "      <td>5.000000</td>\n",
       "    </tr>\n",
       "    <tr>\n",
       "      <th>4</th>\n",
       "      <td>Achnanthes affinis</td>\n",
       "      <td>Achaf01</td>\n",
       "      <td>S02094920_20120726</td>\n",
       "      <td>S02094920</td>\n",
       "      <td>2012-07-26</td>\n",
       "      <td>1</td>\n",
       "      <td>400</td>\n",
       "      <td>2.500000</td>\n",
       "    </tr>\n",
       "  </tbody>\n",
       "</table>\n",
       "</div>"
      ],
      "text/plain": [
       "                   TaxonName TaxonCode SamplingOperations_code  \\\n",
       "0  Achnanthes aapajaervensis   Achaa01      S04094200_20120910   \n",
       "1  Achnanthes aapajaervensis   Achaa01      S05155300_20100728   \n",
       "2         Achnanthes affinis   Achaf01      S02018780_20070808   \n",
       "3         Achnanthes affinis   Achaf01      S02022675_20090803   \n",
       "4         Achnanthes affinis   Achaf01      S02094920_20120726   \n",
       "\n",
       "  CodeSite_SamplingOperations Date_SamplingOperation  Abundance_nbcell  \\\n",
       "0                   S04094200             2012-09-10                 8   \n",
       "1                   S05155300             2010-07-28                 1   \n",
       "2                   S02018780             2007-08-08                 1   \n",
       "3                   S02022675             2009-08-03                 2   \n",
       "4                   S02094920             2012-07-26                 1   \n",
       "\n",
       "   TotalAbundance_SamplingOperation  Abundance_pm  \n",
       "0                               420     19.047619  \n",
       "1                               404      2.475248  \n",
       "2                               400      2.500000  \n",
       "3                               400      5.000000  \n",
       "4                               400      2.500000  "
      ]
     },
     "execution_count": 4,
     "metadata": {},
     "output_type": "execute_result"
    }
   ],
   "source": [
    "print(\"\\nPrimeras filas del dataframe:\")\n",
    "df.head()"
   ]
  },
  {
   "cell_type": "markdown",
   "id": "65a4b540",
   "metadata": {},
   "source": [
    "Revisamos las columnas y sus tipos de datos"
   ]
  },
  {
   "cell_type": "code",
   "execution_count": null,
   "id": "c7076a42",
   "metadata": {},
   "outputs": [
    {
     "name": "stdout",
     "output_type": "stream",
     "text": [
      "\n",
      "Nombre de las columnas y sus tipos de datos:\n"
     ]
    },
    {
     "data": {
      "text/plain": [
       "TaxonName                            object\n",
       "TaxonCode                            object\n",
       "SamplingOperations_code              object\n",
       "CodeSite_SamplingOperations          object\n",
       "Date_SamplingOperation               object\n",
       "Abundance_nbcell                      int64\n",
       "TotalAbundance_SamplingOperation      int64\n",
       "Abundance_pm                        float64\n",
       "dtype: object"
      ]
     },
     "execution_count": 5,
     "metadata": {},
     "output_type": "execute_result"
    }
   ],
   "source": [
    "print(\"\\nNombre de las columnas y sus tipos de datos:\")\n",
    "df.dtypes"
   ]
  },
  {
   "cell_type": "markdown",
   "id": "2de92bb9",
   "metadata": {},
   "source": [
    "Revisamos si hay valores nulos en el dataframe"
   ]
  },
  {
   "cell_type": "code",
   "execution_count": 6,
   "id": "48bd6a0c",
   "metadata": {},
   "outputs": [
    {
     "name": "stdout",
     "output_type": "stream",
     "text": [
      "\n",
      "Número de valores nulos por columna:\n"
     ]
    },
    {
     "data": {
      "text/plain": [
       "TaxonName                           0\n",
       "TaxonCode                           0\n",
       "SamplingOperations_code             0\n",
       "CodeSite_SamplingOperations         0\n",
       "Date_SamplingOperation              0\n",
       "Abundance_nbcell                    0\n",
       "TotalAbundance_SamplingOperation    0\n",
       "Abundance_pm                        0\n",
       "dtype: int64"
      ]
     },
     "execution_count": 6,
     "metadata": {},
     "output_type": "execute_result"
    }
   ],
   "source": [
    "print(\"\\nNúmero de valores nulos por columna:\")\n",
    "df.isnull().sum()"
   ]
  },
  {
   "cell_type": "markdown",
   "id": "0033926d",
   "metadata": {},
   "source": [
    "Separamos columnas numéricas y categoricas"
   ]
  },
  {
   "cell_type": "code",
   "execution_count": 7,
   "id": "8f7301b8",
   "metadata": {},
   "outputs": [
    {
     "name": "stdout",
     "output_type": "stream",
     "text": [
      "Columnas numéricas: ['Abundance_nbcell', 'TotalAbundance_SamplingOperation', 'Abundance_pm']\n",
      "Columnas categóricas: ['TaxonName', 'TaxonCode', 'SamplingOperations_code', 'CodeSite_SamplingOperations', 'Date_SamplingOperation']\n"
     ]
    }
   ],
   "source": [
    "num_cols = df.select_dtypes(include=[np.number])\n",
    "cat_cols = df.select_dtypes(include=['object'])\n",
    "\n",
    "print(\"Columnas numéricas:\", num_cols.columns.tolist())\n",
    "print(\"Columnas categóricas:\", cat_cols.columns.tolist())"
   ]
  },
  {
   "cell_type": "markdown",
   "id": "c10359d6",
   "metadata": {},
   "source": [
    "Hacemos el procedimiento de IQR para eliminar valores atípicos"
   ]
  },
  {
   "cell_type": "code",
   "execution_count": 8,
   "id": "f07584dd",
   "metadata": {},
   "outputs": [
    {
     "name": "stdout",
     "output_type": "stream",
     "text": [
      "\n",
      "Valores nulos tras eliminar outliers (IQR):\n",
      "TaxonName                           0\n",
      "TaxonCode                           0\n",
      "SamplingOperations_code             0\n",
      "CodeSite_SamplingOperations         0\n",
      "Date_SamplingOperation              0\n",
      "Abundance_nbcell                    0\n",
      "TotalAbundance_SamplingOperation    0\n",
      "Abundance_pm                        0\n",
      "dtype: int64\n"
     ]
    },
    {
     "data": {
      "text/plain": [
       "<Figure size 1500x800 with 0 Axes>"
      ]
     },
     "metadata": {},
     "output_type": "display_data"
    },
    {
     "data": {
      "image/png": "[encoded data removed]",
      "text/plain": [
       "<Figure size 640x480 with 1 Axes>"
      ]
     },
     "metadata": {},
     "output_type": "display_data"
    }
   ],
   "source": [
    "# Aplicamos IQR solo a columnas numéricas\n",
    "Q1 = num_cols.quantile(0.25)\n",
    "Q3 = num_cols.quantile(0.75)\n",
    "IQR = Q3 - Q1\n",
    "\n",
    "limite_superior_iqr = Q3 + 1.5 * IQR\n",
    "limite_inferior_iqr = Q1 - 1.5 * IQR\n",
    "\n",
    "# Máscara para filas sin outliers\n",
    "mask = ((num_cols <= limite_superior_iqr) & (num_cols >= limite_inferior_iqr)).all(axis=1)\n",
    "\n",
    "# Aplicamos la máscara al dataframe completo\n",
    "df_clean = df[mask].copy()\n",
    "\n",
    "print(\"\\nValores nulos tras eliminar outliers (IQR):\")\n",
    "print(df_clean.isnull().sum())\n",
    "\n",
    "plt.figure(figsize=(15, 8))\n",
    "df_clean.plot(kind='box', vert=False)\n",
    "plt.title(\"Valores Atípicos eliminados por Rango Intercuartílico (IQR)\")\n",
    "plt.show()"
   ]
  },
  {
   "cell_type": "markdown",
   "id": "07263d9b",
   "metadata": {},
   "source": [
    "#### **2. Extraer características a partir de aplicar un análisis univariado, a diferentes variables categóricas: TaxonName, TaxonCode, SamplingOperations_code, Date_SamplingOperation. Mostrar los resultados obtenidos ,mediante gráficas y tablas**"
   ]
  },
  {
   "cell_type": "markdown",
   "id": "9da454bb",
   "metadata": {},
   "source": [
    "#### *Variable: \"TaxonName\"*"
   ]
  },
  {
   "cell_type": "markdown",
   "id": "96fa8fdb",
   "metadata": {},
   "source": [
    "Hacemos el análisis univariado de la variables categórica \"TaxonName\""
   ]
  },
  {
   "cell_type": "code",
   "execution_count": 9,
   "id": "ede560ff",
   "metadata": {},
   "outputs": [
    {
     "data": {
      "text/html": [
       "<div>\n",
       "<style scoped>\n",
       "    .dataframe tbody tr th:only-of-type {\n",
       "        vertical-align: middle;\n",
       "    }\n",
       "\n",
       "    .dataframe tbody tr th {\n",
       "        vertical-align: top;\n",
       "    }\n",
       "\n",
       "    .dataframe thead th {\n",
       "        text-align: right;\n",
       "    }\n",
       "</style>\n",
       "<table border=\"1\" class=\"dataframe\">\n",
       "  <thead>\n",
       "    <tr style=\"text-align: right;\">\n",
       "      <th></th>\n",
       "      <th>TaxonName</th>\n",
       "      <th>count</th>\n",
       "    </tr>\n",
       "  </thead>\n",
       "  <tbody>\n",
       "    <tr>\n",
       "      <th>0</th>\n",
       "      <td>Nitzschia dissipata</td>\n",
       "      <td>26458</td>\n",
       "    </tr>\n",
       "    <tr>\n",
       "      <th>1</th>\n",
       "      <td>Navicula permitis</td>\n",
       "      <td>23557</td>\n",
       "    </tr>\n",
       "    <tr>\n",
       "      <th>2</th>\n",
       "      <td>Achnanthes lanceolata</td>\n",
       "      <td>23285</td>\n",
       "    </tr>\n",
       "    <tr>\n",
       "      <th>3</th>\n",
       "      <td>Sellaphora nigri</td>\n",
       "      <td>23248</td>\n",
       "    </tr>\n",
       "    <tr>\n",
       "      <th>4</th>\n",
       "      <td>Cocconeis euglypta</td>\n",
       "      <td>22994</td>\n",
       "    </tr>\n",
       "    <tr>\n",
       "      <th>...</th>\n",
       "      <td>...</td>\n",
       "      <td>...</td>\n",
       "    </tr>\n",
       "    <tr>\n",
       "      <th>2242</th>\n",
       "      <td>Lindavia comta</td>\n",
       "      <td>1</td>\n",
       "    </tr>\n",
       "    <tr>\n",
       "      <th>2243</th>\n",
       "      <td>Nitzschia actinastroides</td>\n",
       "      <td>1</td>\n",
       "    </tr>\n",
       "    <tr>\n",
       "      <th>2244</th>\n",
       "      <td>Pinnularia thermalis</td>\n",
       "      <td>1</td>\n",
       "    </tr>\n",
       "    <tr>\n",
       "      <th>2245</th>\n",
       "      <td>Lindavia bodanica</td>\n",
       "      <td>1</td>\n",
       "    </tr>\n",
       "    <tr>\n",
       "      <th>2246</th>\n",
       "      <td>Pinnularia decrescens</td>\n",
       "      <td>1</td>\n",
       "    </tr>\n",
       "  </tbody>\n",
       "</table>\n",
       "<p>2247 rows × 2 columns</p>\n",
       "</div>"
      ],
      "text/plain": [
       "                     TaxonName  count\n",
       "0          Nitzschia dissipata  26458\n",
       "1            Navicula permitis  23557\n",
       "2        Achnanthes lanceolata  23285\n",
       "3             Sellaphora nigri  23248\n",
       "4           Cocconeis euglypta  22994\n",
       "...                        ...    ...\n",
       "2242            Lindavia comta      1\n",
       "2243  Nitzschia actinastroides      1\n",
       "2244      Pinnularia thermalis      1\n",
       "2245         Lindavia bodanica      1\n",
       "2246     Pinnularia decrescens      1\n",
       "\n",
       "[2247 rows x 2 columns]"
      ]
     },
     "execution_count": 9,
     "metadata": {},
     "output_type": "execute_result"
    }
   ],
   "source": [
    "Tabla_freq1 = df_clean['TaxonName'].value_counts().reset_index()\n",
    "Tabla_freq1"
   ]
  },
  {
   "cell_type": "markdown",
   "id": "2b8d084a",
   "metadata": {},
   "source": [
    "Hacemos un filtro de los valores más relevantes en los registros de \"TaxonName\""
   ]
  },
  {
   "cell_type": "code",
   "execution_count": 10,
   "id": "33653eec",
   "metadata": {},
   "outputs": [
    {
     "data": {
      "text/html": [
       "<div>\n",
       "<style scoped>\n",
       "    .dataframe tbody tr th:only-of-type {\n",
       "        vertical-align: middle;\n",
       "    }\n",
       "\n",
       "    .dataframe tbody tr th {\n",
       "        vertical-align: top;\n",
       "    }\n",
       "\n",
       "    .dataframe thead th {\n",
       "        text-align: right;\n",
       "    }\n",
       "</style>\n",
       "<table border=\"1\" class=\"dataframe\">\n",
       "  <thead>\n",
       "    <tr style=\"text-align: right;\">\n",
       "      <th></th>\n",
       "      <th>TaxonName</th>\n",
       "      <th>count</th>\n",
       "    </tr>\n",
       "  </thead>\n",
       "  <tbody>\n",
       "    <tr>\n",
       "      <th>0</th>\n",
       "      <td>Nitzschia dissipata</td>\n",
       "      <td>26458</td>\n",
       "    </tr>\n",
       "    <tr>\n",
       "      <th>1</th>\n",
       "      <td>Navicula permitis</td>\n",
       "      <td>23557</td>\n",
       "    </tr>\n",
       "    <tr>\n",
       "      <th>2</th>\n",
       "      <td>Achnanthes lanceolata</td>\n",
       "      <td>23285</td>\n",
       "    </tr>\n",
       "    <tr>\n",
       "      <th>3</th>\n",
       "      <td>Sellaphora nigri</td>\n",
       "      <td>23248</td>\n",
       "    </tr>\n",
       "    <tr>\n",
       "      <th>4</th>\n",
       "      <td>Cocconeis euglypta</td>\n",
       "      <td>22994</td>\n",
       "    </tr>\n",
       "    <tr>\n",
       "      <th>5</th>\n",
       "      <td>Nitzschia palea</td>\n",
       "      <td>22742</td>\n",
       "    </tr>\n",
       "    <tr>\n",
       "      <th>6</th>\n",
       "      <td>Gomphonema parvulum</td>\n",
       "      <td>22406</td>\n",
       "    </tr>\n",
       "    <tr>\n",
       "      <th>7</th>\n",
       "      <td>Vibrio tripunctatus</td>\n",
       "      <td>21705</td>\n",
       "    </tr>\n",
       "    <tr>\n",
       "      <th>8</th>\n",
       "      <td>Navicula gregaria</td>\n",
       "      <td>21140</td>\n",
       "    </tr>\n",
       "    <tr>\n",
       "      <th>9</th>\n",
       "      <td>Rhoicosphenia abbreviata</td>\n",
       "      <td>21036</td>\n",
       "    </tr>\n",
       "    <tr>\n",
       "      <th>10</th>\n",
       "      <td>Melosira varians</td>\n",
       "      <td>20013</td>\n",
       "    </tr>\n",
       "  </tbody>\n",
       "</table>\n",
       "</div>"
      ],
      "text/plain": [
       "                   TaxonName  count\n",
       "0        Nitzschia dissipata  26458\n",
       "1          Navicula permitis  23557\n",
       "2      Achnanthes lanceolata  23285\n",
       "3           Sellaphora nigri  23248\n",
       "4         Cocconeis euglypta  22994\n",
       "5            Nitzschia palea  22742\n",
       "6        Gomphonema parvulum  22406\n",
       "7        Vibrio tripunctatus  21705\n",
       "8          Navicula gregaria  21140\n",
       "9   Rhoicosphenia abbreviata  21036\n",
       "10          Melosira varians  20013"
      ]
     },
     "execution_count": 10,
     "metadata": {},
     "output_type": "execute_result"
    }
   ],
   "source": [
    "Filtro1 = Tabla_freq1[Tabla_freq1['count'] > 19650]\n",
    "Filtro1"
   ]
  },
  {
   "cell_type": "markdown",
   "id": "860b6ace",
   "metadata": {},
   "source": [
    "Ajustamos el indice del dataframe"
   ]
  },
  {
   "cell_type": "code",
   "execution_count": 11,
   "id": "b7d60069",
   "metadata": {},
   "outputs": [
    {
     "data": {
      "text/html": [
       "<div>\n",
       "<style scoped>\n",
       "    .dataframe tbody tr th:only-of-type {\n",
       "        vertical-align: middle;\n",
       "    }\n",
       "\n",
       "    .dataframe tbody tr th {\n",
       "        vertical-align: top;\n",
       "    }\n",
       "\n",
       "    .dataframe thead th {\n",
       "        text-align: right;\n",
       "    }\n",
       "</style>\n",
       "<table border=\"1\" class=\"dataframe\">\n",
       "  <thead>\n",
       "    <tr style=\"text-align: right;\">\n",
       "      <th></th>\n",
       "      <th>count</th>\n",
       "    </tr>\n",
       "    <tr>\n",
       "      <th>TaxonName</th>\n",
       "      <th></th>\n",
       "    </tr>\n",
       "  </thead>\n",
       "  <tbody>\n",
       "    <tr>\n",
       "      <th>Nitzschia dissipata</th>\n",
       "      <td>26458</td>\n",
       "    </tr>\n",
       "    <tr>\n",
       "      <th>Navicula permitis</th>\n",
       "      <td>23557</td>\n",
       "    </tr>\n",
       "    <tr>\n",
       "      <th>Achnanthes lanceolata</th>\n",
       "      <td>23285</td>\n",
       "    </tr>\n",
       "    <tr>\n",
       "      <th>Sellaphora nigri</th>\n",
       "      <td>23248</td>\n",
       "    </tr>\n",
       "    <tr>\n",
       "      <th>Cocconeis euglypta</th>\n",
       "      <td>22994</td>\n",
       "    </tr>\n",
       "    <tr>\n",
       "      <th>Nitzschia palea</th>\n",
       "      <td>22742</td>\n",
       "    </tr>\n",
       "    <tr>\n",
       "      <th>Gomphonema parvulum</th>\n",
       "      <td>22406</td>\n",
       "    </tr>\n",
       "    <tr>\n",
       "      <th>Vibrio tripunctatus</th>\n",
       "      <td>21705</td>\n",
       "    </tr>\n",
       "    <tr>\n",
       "      <th>Navicula gregaria</th>\n",
       "      <td>21140</td>\n",
       "    </tr>\n",
       "    <tr>\n",
       "      <th>Rhoicosphenia abbreviata</th>\n",
       "      <td>21036</td>\n",
       "    </tr>\n",
       "    <tr>\n",
       "      <th>Melosira varians</th>\n",
       "      <td>20013</td>\n",
       "    </tr>\n",
       "  </tbody>\n",
       "</table>\n",
       "</div>"
      ],
      "text/plain": [
       "                          count\n",
       "TaxonName                      \n",
       "Nitzschia dissipata       26458\n",
       "Navicula permitis         23557\n",
       "Achnanthes lanceolata     23285\n",
       "Sellaphora nigri          23248\n",
       "Cocconeis euglypta        22994\n",
       "Nitzschia palea           22742\n",
       "Gomphonema parvulum       22406\n",
       "Vibrio tripunctatus       21705\n",
       "Navicula gregaria         21140\n",
       "Rhoicosphenia abbreviata  21036\n",
       "Melosira varians          20013"
      ]
     },
     "execution_count": 11,
     "metadata": {},
     "output_type": "execute_result"
    }
   ],
   "source": [
    "Filtro_index1= Filtro1.set_index('TaxonName')\n",
    "Filtro_index1"
   ]
  },
  {
   "cell_type": "markdown",
   "id": "d51a2c29",
   "metadata": {},
   "source": [
    "#### *Variable: \"TaxonCode\"*"
   ]
  },
  {
   "cell_type": "markdown",
   "id": "d39fc011",
   "metadata": {},
   "source": [
    "Hacemos el análisis univariado de la variables categórica \"TaxonCode\""
   ]
  },
  {
   "cell_type": "code",
   "execution_count": 12,
   "id": "117e4d6d",
   "metadata": {},
   "outputs": [
    {
     "data": {
      "text/html": [
       "<div>\n",
       "<style scoped>\n",
       "    .dataframe tbody tr th:only-of-type {\n",
       "        vertical-align: middle;\n",
       "    }\n",
       "\n",
       "    .dataframe tbody tr th {\n",
       "        vertical-align: top;\n",
       "    }\n",
       "\n",
       "    .dataframe thead th {\n",
       "        text-align: right;\n",
       "    }\n",
       "</style>\n",
       "<table border=\"1\" class=\"dataframe\">\n",
       "  <thead>\n",
       "    <tr style=\"text-align: right;\">\n",
       "      <th></th>\n",
       "      <th>TaxonCode</th>\n",
       "      <th>count</th>\n",
       "    </tr>\n",
       "  </thead>\n",
       "  <tbody>\n",
       "    <tr>\n",
       "      <th>0</th>\n",
       "      <td>Nitdi04</td>\n",
       "      <td>26458</td>\n",
       "    </tr>\n",
       "    <tr>\n",
       "      <th>1</th>\n",
       "      <td>Navpe05</td>\n",
       "      <td>23557</td>\n",
       "    </tr>\n",
       "    <tr>\n",
       "      <th>2</th>\n",
       "      <td>Achla02</td>\n",
       "      <td>23285</td>\n",
       "    </tr>\n",
       "    <tr>\n",
       "      <th>3</th>\n",
       "      <td>Selni01</td>\n",
       "      <td>23248</td>\n",
       "    </tr>\n",
       "    <tr>\n",
       "      <th>4</th>\n",
       "      <td>Coceu01</td>\n",
       "      <td>22994</td>\n",
       "    </tr>\n",
       "    <tr>\n",
       "      <th>...</th>\n",
       "      <td>...</td>\n",
       "      <td>...</td>\n",
       "    </tr>\n",
       "    <tr>\n",
       "      <th>2242</th>\n",
       "      <td>Linco01</td>\n",
       "      <td>1</td>\n",
       "    </tr>\n",
       "    <tr>\n",
       "      <th>2243</th>\n",
       "      <td>Nitac06</td>\n",
       "      <td>1</td>\n",
       "    </tr>\n",
       "    <tr>\n",
       "      <th>2244</th>\n",
       "      <td>Pinth01</td>\n",
       "      <td>1</td>\n",
       "    </tr>\n",
       "    <tr>\n",
       "      <th>2245</th>\n",
       "      <td>Linbo01</td>\n",
       "      <td>1</td>\n",
       "    </tr>\n",
       "    <tr>\n",
       "      <th>2246</th>\n",
       "      <td>Pinde01</td>\n",
       "      <td>1</td>\n",
       "    </tr>\n",
       "  </tbody>\n",
       "</table>\n",
       "<p>2247 rows × 2 columns</p>\n",
       "</div>"
      ],
      "text/plain": [
       "     TaxonCode  count\n",
       "0      Nitdi04  26458\n",
       "1      Navpe05  23557\n",
       "2      Achla02  23285\n",
       "3      Selni01  23248\n",
       "4      Coceu01  22994\n",
       "...        ...    ...\n",
       "2242   Linco01      1\n",
       "2243   Nitac06      1\n",
       "2244   Pinth01      1\n",
       "2245   Linbo01      1\n",
       "2246   Pinde01      1\n",
       "\n",
       "[2247 rows x 2 columns]"
      ]
     },
     "execution_count": 12,
     "metadata": {},
     "output_type": "execute_result"
    }
   ],
   "source": [
    "Tabla_freq2 = df_clean['TaxonCode'].value_counts().reset_index()\n",
    "Tabla_freq2"
   ]
  },
  {
   "cell_type": "markdown",
   "id": "5e66e564",
   "metadata": {},
   "source": [
    "Hacemos un filtro de los valores más relevantes en los registros de \"TaxonCode\""
   ]
  },
  {
   "cell_type": "code",
   "execution_count": 13,
   "id": "85ea1202",
   "metadata": {},
   "outputs": [
    {
     "data": {
      "text/html": [
       "<div>\n",
       "<style scoped>\n",
       "    .dataframe tbody tr th:only-of-type {\n",
       "        vertical-align: middle;\n",
       "    }\n",
       "\n",
       "    .dataframe tbody tr th {\n",
       "        vertical-align: top;\n",
       "    }\n",
       "\n",
       "    .dataframe thead th {\n",
       "        text-align: right;\n",
       "    }\n",
       "</style>\n",
       "<table border=\"1\" class=\"dataframe\">\n",
       "  <thead>\n",
       "    <tr style=\"text-align: right;\">\n",
       "      <th></th>\n",
       "      <th>TaxonCode</th>\n",
       "      <th>count</th>\n",
       "    </tr>\n",
       "  </thead>\n",
       "  <tbody>\n",
       "    <tr>\n",
       "      <th>0</th>\n",
       "      <td>Nitdi04</td>\n",
       "      <td>26458</td>\n",
       "    </tr>\n",
       "    <tr>\n",
       "      <th>1</th>\n",
       "      <td>Navpe05</td>\n",
       "      <td>23557</td>\n",
       "    </tr>\n",
       "    <tr>\n",
       "      <th>2</th>\n",
       "      <td>Achla02</td>\n",
       "      <td>23285</td>\n",
       "    </tr>\n",
       "    <tr>\n",
       "      <th>3</th>\n",
       "      <td>Selni01</td>\n",
       "      <td>23248</td>\n",
       "    </tr>\n",
       "    <tr>\n",
       "      <th>4</th>\n",
       "      <td>Coceu01</td>\n",
       "      <td>22994</td>\n",
       "    </tr>\n",
       "    <tr>\n",
       "      <th>5</th>\n",
       "      <td>Nitpa01</td>\n",
       "      <td>22742</td>\n",
       "    </tr>\n",
       "    <tr>\n",
       "      <th>6</th>\n",
       "      <td>Gompa06</td>\n",
       "      <td>22406</td>\n",
       "    </tr>\n",
       "    <tr>\n",
       "      <th>7</th>\n",
       "      <td>Vibtr01</td>\n",
       "      <td>21705</td>\n",
       "    </tr>\n",
       "    <tr>\n",
       "      <th>8</th>\n",
       "      <td>Navgr01</td>\n",
       "      <td>21140</td>\n",
       "    </tr>\n",
       "    <tr>\n",
       "      <th>9</th>\n",
       "      <td>Rhoab01</td>\n",
       "      <td>21036</td>\n",
       "    </tr>\n",
       "    <tr>\n",
       "      <th>10</th>\n",
       "      <td>Melva01</td>\n",
       "      <td>20013</td>\n",
       "    </tr>\n",
       "  </tbody>\n",
       "</table>\n",
       "</div>"
      ],
      "text/plain": [
       "   TaxonCode  count\n",
       "0    Nitdi04  26458\n",
       "1    Navpe05  23557\n",
       "2    Achla02  23285\n",
       "3    Selni01  23248\n",
       "4    Coceu01  22994\n",
       "5    Nitpa01  22742\n",
       "6    Gompa06  22406\n",
       "7    Vibtr01  21705\n",
       "8    Navgr01  21140\n",
       "9    Rhoab01  21036\n",
       "10   Melva01  20013"
      ]
     },
     "execution_count": 13,
     "metadata": {},
     "output_type": "execute_result"
    }
   ],
   "source": [
    "Filtro2 = Tabla_freq2[Tabla_freq2['count'] > 19650]\n",
    "Filtro2"
   ]
  },
  {
   "cell_type": "markdown",
   "id": "a6717c44",
   "metadata": {},
   "source": [
    "Ajustamos el indice del dataframe"
   ]
  },
  {
   "cell_type": "code",
   "execution_count": 14,
   "id": "818fa7b8",
   "metadata": {},
   "outputs": [
    {
     "data": {
      "text/html": [
       "<div>\n",
       "<style scoped>\n",
       "    .dataframe tbody tr th:only-of-type {\n",
       "        vertical-align: middle;\n",
       "    }\n",
       "\n",
       "    .dataframe tbody tr th {\n",
       "        vertical-align: top;\n",
       "    }\n",
       "\n",
       "    .dataframe thead th {\n",
       "        text-align: right;\n",
       "    }\n",
       "</style>\n",
       "<table border=\"1\" class=\"dataframe\">\n",
       "  <thead>\n",
       "    <tr style=\"text-align: right;\">\n",
       "      <th></th>\n",
       "      <th>count</th>\n",
       "    </tr>\n",
       "    <tr>\n",
       "      <th>TaxonCode</th>\n",
       "      <th></th>\n",
       "    </tr>\n",
       "  </thead>\n",
       "  <tbody>\n",
       "    <tr>\n",
       "      <th>Nitdi04</th>\n",
       "      <td>26458</td>\n",
       "    </tr>\n",
       "    <tr>\n",
       "      <th>Navpe05</th>\n",
       "      <td>23557</td>\n",
       "    </tr>\n",
       "    <tr>\n",
       "      <th>Achla02</th>\n",
       "      <td>23285</td>\n",
       "    </tr>\n",
       "    <tr>\n",
       "      <th>Selni01</th>\n",
       "      <td>23248</td>\n",
       "    </tr>\n",
       "    <tr>\n",
       "      <th>Coceu01</th>\n",
       "      <td>22994</td>\n",
       "    </tr>\n",
       "    <tr>\n",
       "      <th>Nitpa01</th>\n",
       "      <td>22742</td>\n",
       "    </tr>\n",
       "    <tr>\n",
       "      <th>Gompa06</th>\n",
       "      <td>22406</td>\n",
       "    </tr>\n",
       "    <tr>\n",
       "      <th>Vibtr01</th>\n",
       "      <td>21705</td>\n",
       "    </tr>\n",
       "    <tr>\n",
       "      <th>Navgr01</th>\n",
       "      <td>21140</td>\n",
       "    </tr>\n",
       "    <tr>\n",
       "      <th>Rhoab01</th>\n",
       "      <td>21036</td>\n",
       "    </tr>\n",
       "    <tr>\n",
       "      <th>Melva01</th>\n",
       "      <td>20013</td>\n",
       "    </tr>\n",
       "  </tbody>\n",
       "</table>\n",
       "</div>"
      ],
      "text/plain": [
       "           count\n",
       "TaxonCode       \n",
       "Nitdi04    26458\n",
       "Navpe05    23557\n",
       "Achla02    23285\n",
       "Selni01    23248\n",
       "Coceu01    22994\n",
       "Nitpa01    22742\n",
       "Gompa06    22406\n",
       "Vibtr01    21705\n",
       "Navgr01    21140\n",
       "Rhoab01    21036\n",
       "Melva01    20013"
      ]
     },
     "execution_count": 14,
     "metadata": {},
     "output_type": "execute_result"
    }
   ],
   "source": [
    "Filtro_index2 = Filtro2.set_index('TaxonCode')\n",
    "Filtro_index2"
   ]
  },
  {
   "cell_type": "markdown",
   "id": "a973d271",
   "metadata": {},
   "source": [
    "#### *Variable: SamplingOperations_code*"
   ]
  },
  {
   "cell_type": "markdown",
   "id": "751e556d",
   "metadata": {},
   "source": [
    "Hacemos el análisis univariado de la variables categórica \"SamplingOperations_code\""
   ]
  },
  {
   "cell_type": "code",
   "execution_count": 15,
   "id": "ae477086",
   "metadata": {},
   "outputs": [
    {
     "data": {
      "text/html": [
       "<div>\n",
       "<style scoped>\n",
       "    .dataframe tbody tr th:only-of-type {\n",
       "        vertical-align: middle;\n",
       "    }\n",
       "\n",
       "    .dataframe tbody tr th {\n",
       "        vertical-align: top;\n",
       "    }\n",
       "\n",
       "    .dataframe thead th {\n",
       "        text-align: right;\n",
       "    }\n",
       "</style>\n",
       "<table border=\"1\" class=\"dataframe\">\n",
       "  <thead>\n",
       "    <tr style=\"text-align: right;\">\n",
       "      <th></th>\n",
       "      <th>SamplingOperations_code</th>\n",
       "      <th>count</th>\n",
       "    </tr>\n",
       "  </thead>\n",
       "  <tbody>\n",
       "    <tr>\n",
       "      <th>0</th>\n",
       "      <td>S05051000_20080722</td>\n",
       "      <td>94</td>\n",
       "    </tr>\n",
       "    <tr>\n",
       "      <th>1</th>\n",
       "      <td>S05068700_20070904</td>\n",
       "      <td>92</td>\n",
       "    </tr>\n",
       "    <tr>\n",
       "      <th>2</th>\n",
       "      <td>S05119000_20160627</td>\n",
       "      <td>91</td>\n",
       "    </tr>\n",
       "    <tr>\n",
       "      <th>3</th>\n",
       "      <td>S04304002_20200907</td>\n",
       "      <td>89</td>\n",
       "    </tr>\n",
       "    <tr>\n",
       "      <th>4</th>\n",
       "      <td>S03132260_20120718</td>\n",
       "      <td>86</td>\n",
       "    </tr>\n",
       "    <tr>\n",
       "      <th>...</th>\n",
       "      <td>...</td>\n",
       "      <td>...</td>\n",
       "    </tr>\n",
       "    <tr>\n",
       "      <th>46619</th>\n",
       "      <td>S06119950_20120607</td>\n",
       "      <td>1</td>\n",
       "    </tr>\n",
       "    <tr>\n",
       "      <th>46620</th>\n",
       "      <td>S05029820_20180605</td>\n",
       "      <td>1</td>\n",
       "    </tr>\n",
       "    <tr>\n",
       "      <th>46621</th>\n",
       "      <td>S06159385_20110720</td>\n",
       "      <td>1</td>\n",
       "    </tr>\n",
       "    <tr>\n",
       "      <th>46622</th>\n",
       "      <td>S03113140_20150608</td>\n",
       "      <td>1</td>\n",
       "    </tr>\n",
       "    <tr>\n",
       "      <th>46623</th>\n",
       "      <td>S05224100_20120719</td>\n",
       "      <td>1</td>\n",
       "    </tr>\n",
       "  </tbody>\n",
       "</table>\n",
       "<p>46624 rows × 2 columns</p>\n",
       "</div>"
      ],
      "text/plain": [
       "      SamplingOperations_code  count\n",
       "0          S05051000_20080722     94\n",
       "1          S05068700_20070904     92\n",
       "2          S05119000_20160627     91\n",
       "3          S04304002_20200907     89\n",
       "4          S03132260_20120718     86\n",
       "...                       ...    ...\n",
       "46619      S06119950_20120607      1\n",
       "46620      S05029820_20180605      1\n",
       "46621      S06159385_20110720      1\n",
       "46622      S03113140_20150608      1\n",
       "46623      S05224100_20120719      1\n",
       "\n",
       "[46624 rows x 2 columns]"
      ]
     },
     "execution_count": 15,
     "metadata": {},
     "output_type": "execute_result"
    }
   ],
   "source": [
    "Tabla_freq3 = df_clean['SamplingOperations_code'].value_counts().reset_index()\n",
    "Tabla_freq3"
   ]
  },
  {
   "cell_type": "markdown",
   "id": "bab3f671",
   "metadata": {},
   "source": [
    "Hacemos un filtro de los valores más relevantes en los registros de \"SamplingOperations_code\""
   ]
  },
  {
   "cell_type": "code",
   "execution_count": 16,
   "id": "fa5a9a43",
   "metadata": {},
   "outputs": [
    {
     "data": {
      "text/html": [
       "<div>\n",
       "<style scoped>\n",
       "    .dataframe tbody tr th:only-of-type {\n",
       "        vertical-align: middle;\n",
       "    }\n",
       "\n",
       "    .dataframe tbody tr th {\n",
       "        vertical-align: top;\n",
       "    }\n",
       "\n",
       "    .dataframe thead th {\n",
       "        text-align: right;\n",
       "    }\n",
       "</style>\n",
       "<table border=\"1\" class=\"dataframe\">\n",
       "  <thead>\n",
       "    <tr style=\"text-align: right;\">\n",
       "      <th></th>\n",
       "      <th>SamplingOperations_code</th>\n",
       "      <th>count</th>\n",
       "    </tr>\n",
       "  </thead>\n",
       "  <tbody>\n",
       "    <tr>\n",
       "      <th>0</th>\n",
       "      <td>S05051000_20080722</td>\n",
       "      <td>94</td>\n",
       "    </tr>\n",
       "    <tr>\n",
       "      <th>1</th>\n",
       "      <td>S05068700_20070904</td>\n",
       "      <td>92</td>\n",
       "    </tr>\n",
       "    <tr>\n",
       "      <th>2</th>\n",
       "      <td>S05119000_20160627</td>\n",
       "      <td>91</td>\n",
       "    </tr>\n",
       "    <tr>\n",
       "      <th>3</th>\n",
       "      <td>S04304002_20200907</td>\n",
       "      <td>89</td>\n",
       "    </tr>\n",
       "    <tr>\n",
       "      <th>4</th>\n",
       "      <td>S03132260_20120718</td>\n",
       "      <td>86</td>\n",
       "    </tr>\n",
       "    <tr>\n",
       "      <th>5</th>\n",
       "      <td>S05119000_20170613</td>\n",
       "      <td>86</td>\n",
       "    </tr>\n",
       "    <tr>\n",
       "      <th>6</th>\n",
       "      <td>S04215520_20200702</td>\n",
       "      <td>86</td>\n",
       "    </tr>\n",
       "    <tr>\n",
       "      <th>7</th>\n",
       "      <td>S04097550_20180807</td>\n",
       "      <td>84</td>\n",
       "    </tr>\n",
       "    <tr>\n",
       "      <th>8</th>\n",
       "      <td>S04473008_20160711</td>\n",
       "      <td>84</td>\n",
       "    </tr>\n",
       "    <tr>\n",
       "      <th>9</th>\n",
       "      <td>S02044100_20070910</td>\n",
       "      <td>83</td>\n",
       "    </tr>\n",
       "    <tr>\n",
       "      <th>10</th>\n",
       "      <td>S04067210_20160705</td>\n",
       "      <td>83</td>\n",
       "    </tr>\n",
       "    <tr>\n",
       "      <th>11</th>\n",
       "      <td>S04052750_20120809</td>\n",
       "      <td>83</td>\n",
       "    </tr>\n",
       "    <tr>\n",
       "      <th>12</th>\n",
       "      <td>S05119000_20180716</td>\n",
       "      <td>83</td>\n",
       "    </tr>\n",
       "  </tbody>\n",
       "</table>\n",
       "</div>"
      ],
      "text/plain": [
       "   SamplingOperations_code  count\n",
       "0       S05051000_20080722     94\n",
       "1       S05068700_20070904     92\n",
       "2       S05119000_20160627     91\n",
       "3       S04304002_20200907     89\n",
       "4       S03132260_20120718     86\n",
       "5       S05119000_20170613     86\n",
       "6       S04215520_20200702     86\n",
       "7       S04097550_20180807     84\n",
       "8       S04473008_20160711     84\n",
       "9       S02044100_20070910     83\n",
       "10      S04067210_20160705     83\n",
       "11      S04052750_20120809     83\n",
       "12      S05119000_20180716     83"
      ]
     },
     "execution_count": 16,
     "metadata": {},
     "output_type": "execute_result"
    }
   ],
   "source": [
    "Filtro3 = Tabla_freq3[Tabla_freq3['count'] > 82]\n",
    "Filtro3"
   ]
  },
  {
   "cell_type": "markdown",
   "id": "af55405c",
   "metadata": {},
   "source": [
    "Ajustamos el indice del dataframe"
   ]
  },
  {
   "cell_type": "code",
   "execution_count": 17,
   "id": "551e17c0",
   "metadata": {},
   "outputs": [
    {
     "data": {
      "text/html": [
       "<div>\n",
       "<style scoped>\n",
       "    .dataframe tbody tr th:only-of-type {\n",
       "        vertical-align: middle;\n",
       "    }\n",
       "\n",
       "    .dataframe tbody tr th {\n",
       "        vertical-align: top;\n",
       "    }\n",
       "\n",
       "    .dataframe thead th {\n",
       "        text-align: right;\n",
       "    }\n",
       "</style>\n",
       "<table border=\"1\" class=\"dataframe\">\n",
       "  <thead>\n",
       "    <tr style=\"text-align: right;\">\n",
       "      <th></th>\n",
       "      <th>count</th>\n",
       "    </tr>\n",
       "    <tr>\n",
       "      <th>SamplingOperations_code</th>\n",
       "      <th></th>\n",
       "    </tr>\n",
       "  </thead>\n",
       "  <tbody>\n",
       "    <tr>\n",
       "      <th>S05051000_20080722</th>\n",
       "      <td>94</td>\n",
       "    </tr>\n",
       "    <tr>\n",
       "      <th>S05068700_20070904</th>\n",
       "      <td>92</td>\n",
       "    </tr>\n",
       "    <tr>\n",
       "      <th>S05119000_20160627</th>\n",
       "      <td>91</td>\n",
       "    </tr>\n",
       "    <tr>\n",
       "      <th>S04304002_20200907</th>\n",
       "      <td>89</td>\n",
       "    </tr>\n",
       "    <tr>\n",
       "      <th>S03132260_20120718</th>\n",
       "      <td>86</td>\n",
       "    </tr>\n",
       "    <tr>\n",
       "      <th>S05119000_20170613</th>\n",
       "      <td>86</td>\n",
       "    </tr>\n",
       "    <tr>\n",
       "      <th>S04215520_20200702</th>\n",
       "      <td>86</td>\n",
       "    </tr>\n",
       "    <tr>\n",
       "      <th>S04097550_20180807</th>\n",
       "      <td>84</td>\n",
       "    </tr>\n",
       "    <tr>\n",
       "      <th>S04473008_20160711</th>\n",
       "      <td>84</td>\n",
       "    </tr>\n",
       "    <tr>\n",
       "      <th>S02044100_20070910</th>\n",
       "      <td>83</td>\n",
       "    </tr>\n",
       "    <tr>\n",
       "      <th>S04067210_20160705</th>\n",
       "      <td>83</td>\n",
       "    </tr>\n",
       "    <tr>\n",
       "      <th>S04052750_20120809</th>\n",
       "      <td>83</td>\n",
       "    </tr>\n",
       "    <tr>\n",
       "      <th>S05119000_20180716</th>\n",
       "      <td>83</td>\n",
       "    </tr>\n",
       "  </tbody>\n",
       "</table>\n",
       "</div>"
      ],
      "text/plain": [
       "                         count\n",
       "SamplingOperations_code       \n",
       "S05051000_20080722          94\n",
       "S05068700_20070904          92\n",
       "S05119000_20160627          91\n",
       "S04304002_20200907          89\n",
       "S03132260_20120718          86\n",
       "S05119000_20170613          86\n",
       "S04215520_20200702          86\n",
       "S04097550_20180807          84\n",
       "S04473008_20160711          84\n",
       "S02044100_20070910          83\n",
       "S04067210_20160705          83\n",
       "S04052750_20120809          83\n",
       "S05119000_20180716          83"
      ]
     },
     "execution_count": 17,
     "metadata": {},
     "output_type": "execute_result"
    }
   ],
   "source": [
    "Filtro_index3 = Filtro3.set_index('SamplingOperations_code')\n",
    "Filtro_index3"
   ]
  },
  {
   "cell_type": "markdown",
   "id": "1fadea3c",
   "metadata": {},
   "source": [
    "#### *Variable: \"Date_SamplingOperation\"*"
   ]
  },
  {
   "cell_type": "markdown",
   "id": "655a3dd5",
   "metadata": {},
   "source": [
    "Hacemos el análisis univariado de la variables categórica \"Date_SamplingOperation\""
   ]
  },
  {
   "cell_type": "code",
   "execution_count": 18,
   "id": "6ae26049",
   "metadata": {},
   "outputs": [
    {
     "data": {
      "text/html": [
       "<div>\n",
       "<style scoped>\n",
       "    .dataframe tbody tr th:only-of-type {\n",
       "        vertical-align: middle;\n",
       "    }\n",
       "\n",
       "    .dataframe tbody tr th {\n",
       "        vertical-align: top;\n",
       "    }\n",
       "\n",
       "    .dataframe thead th {\n",
       "        text-align: right;\n",
       "    }\n",
       "</style>\n",
       "<table border=\"1\" class=\"dataframe\">\n",
       "  <thead>\n",
       "    <tr style=\"text-align: right;\">\n",
       "      <th></th>\n",
       "      <th>Date_SamplingOperation</th>\n",
       "      <th>count</th>\n",
       "    </tr>\n",
       "  </thead>\n",
       "  <tbody>\n",
       "    <tr>\n",
       "      <th>0</th>\n",
       "      <td>2013-07-11</td>\n",
       "      <td>3812</td>\n",
       "    </tr>\n",
       "    <tr>\n",
       "      <th>1</th>\n",
       "      <td>2013-07-16</td>\n",
       "      <td>3809</td>\n",
       "    </tr>\n",
       "    <tr>\n",
       "      <th>2</th>\n",
       "      <td>2015-07-08</td>\n",
       "      <td>3720</td>\n",
       "    </tr>\n",
       "    <tr>\n",
       "      <th>3</th>\n",
       "      <td>2018-07-17</td>\n",
       "      <td>3573</td>\n",
       "    </tr>\n",
       "    <tr>\n",
       "      <th>4</th>\n",
       "      <td>2013-07-17</td>\n",
       "      <td>3542</td>\n",
       "    </tr>\n",
       "    <tr>\n",
       "      <th>...</th>\n",
       "      <td>...</td>\n",
       "      <td>...</td>\n",
       "    </tr>\n",
       "    <tr>\n",
       "      <th>2192</th>\n",
       "      <td>2022-02-07</td>\n",
       "      <td>6</td>\n",
       "    </tr>\n",
       "    <tr>\n",
       "      <th>2193</th>\n",
       "      <td>2014-02-24</td>\n",
       "      <td>5</td>\n",
       "    </tr>\n",
       "    <tr>\n",
       "      <th>2194</th>\n",
       "      <td>2015-02-12</td>\n",
       "      <td>5</td>\n",
       "    </tr>\n",
       "    <tr>\n",
       "      <th>2195</th>\n",
       "      <td>2013-06-15</td>\n",
       "      <td>4</td>\n",
       "    </tr>\n",
       "    <tr>\n",
       "      <th>2196</th>\n",
       "      <td>2023-02-08</td>\n",
       "      <td>3</td>\n",
       "    </tr>\n",
       "  </tbody>\n",
       "</table>\n",
       "<p>2197 rows × 2 columns</p>\n",
       "</div>"
      ],
      "text/plain": [
       "     Date_SamplingOperation  count\n",
       "0                2013-07-11   3812\n",
       "1                2013-07-16   3809\n",
       "2                2015-07-08   3720\n",
       "3                2018-07-17   3573\n",
       "4                2013-07-17   3542\n",
       "...                     ...    ...\n",
       "2192             2022-02-07      6\n",
       "2193             2014-02-24      5\n",
       "2194             2015-02-12      5\n",
       "2195             2013-06-15      4\n",
       "2196             2023-02-08      3\n",
       "\n",
       "[2197 rows x 2 columns]"
      ]
     },
     "execution_count": 18,
     "metadata": {},
     "output_type": "execute_result"
    }
   ],
   "source": [
    "Tabla_freq4 = df_clean['Date_SamplingOperation'].value_counts().reset_index()\n",
    "Tabla_freq4"
   ]
  },
  {
   "cell_type": "markdown",
   "id": "a1d29bec",
   "metadata": {},
   "source": [
    "Hacemos un filtro de los valores más relevantes en los registros de \"Date_SamplingOperation\""
   ]
  },
  {
   "cell_type": "code",
   "execution_count": 19,
   "id": "24b363fd",
   "metadata": {},
   "outputs": [
    {
     "data": {
      "text/html": [
       "<div>\n",
       "<style scoped>\n",
       "    .dataframe tbody tr th:only-of-type {\n",
       "        vertical-align: middle;\n",
       "    }\n",
       "\n",
       "    .dataframe tbody tr th {\n",
       "        vertical-align: top;\n",
       "    }\n",
       "\n",
       "    .dataframe thead th {\n",
       "        text-align: right;\n",
       "    }\n",
       "</style>\n",
       "<table border=\"1\" class=\"dataframe\">\n",
       "  <thead>\n",
       "    <tr style=\"text-align: right;\">\n",
       "      <th></th>\n",
       "      <th>Date_SamplingOperation</th>\n",
       "      <th>count</th>\n",
       "    </tr>\n",
       "  </thead>\n",
       "  <tbody>\n",
       "    <tr>\n",
       "      <th>0</th>\n",
       "      <td>2013-07-11</td>\n",
       "      <td>3812</td>\n",
       "    </tr>\n",
       "    <tr>\n",
       "      <th>1</th>\n",
       "      <td>2013-07-16</td>\n",
       "      <td>3809</td>\n",
       "    </tr>\n",
       "    <tr>\n",
       "      <th>2</th>\n",
       "      <td>2015-07-08</td>\n",
       "      <td>3720</td>\n",
       "    </tr>\n",
       "    <tr>\n",
       "      <th>3</th>\n",
       "      <td>2018-07-17</td>\n",
       "      <td>3573</td>\n",
       "    </tr>\n",
       "    <tr>\n",
       "      <th>4</th>\n",
       "      <td>2013-07-17</td>\n",
       "      <td>3542</td>\n",
       "    </tr>\n",
       "    <tr>\n",
       "      <th>5</th>\n",
       "      <td>2015-06-24</td>\n",
       "      <td>3352</td>\n",
       "    </tr>\n",
       "    <tr>\n",
       "      <th>6</th>\n",
       "      <td>2016-07-21</td>\n",
       "      <td>3168</td>\n",
       "    </tr>\n",
       "    <tr>\n",
       "      <th>7</th>\n",
       "      <td>2016-07-20</td>\n",
       "      <td>3162</td>\n",
       "    </tr>\n",
       "    <tr>\n",
       "      <th>8</th>\n",
       "      <td>2012-07-25</td>\n",
       "      <td>3104</td>\n",
       "    </tr>\n",
       "    <tr>\n",
       "      <th>9</th>\n",
       "      <td>2020-07-09</td>\n",
       "      <td>3091</td>\n",
       "    </tr>\n",
       "    <tr>\n",
       "      <th>10</th>\n",
       "      <td>2015-06-23</td>\n",
       "      <td>3085</td>\n",
       "    </tr>\n",
       "  </tbody>\n",
       "</table>\n",
       "</div>"
      ],
      "text/plain": [
       "   Date_SamplingOperation  count\n",
       "0              2013-07-11   3812\n",
       "1              2013-07-16   3809\n",
       "2              2015-07-08   3720\n",
       "3              2018-07-17   3573\n",
       "4              2013-07-17   3542\n",
       "5              2015-06-24   3352\n",
       "6              2016-07-21   3168\n",
       "7              2016-07-20   3162\n",
       "8              2012-07-25   3104\n",
       "9              2020-07-09   3091\n",
       "10             2015-06-23   3085"
      ]
     },
     "execution_count": 19,
     "metadata": {},
     "output_type": "execute_result"
    }
   ],
   "source": [
    "Filtro4 = Tabla_freq4[Tabla_freq4['count'] > 3053]\n",
    "Filtro4"
   ]
  },
  {
   "cell_type": "markdown",
   "id": "9cd58431",
   "metadata": {},
   "source": [
    "Ajustamos el indice del dataframe"
   ]
  },
  {
   "cell_type": "code",
   "execution_count": 20,
   "id": "0a41fcc4",
   "metadata": {},
   "outputs": [
    {
     "data": {
      "text/html": [
       "<div>\n",
       "<style scoped>\n",
       "    .dataframe tbody tr th:only-of-type {\n",
       "        vertical-align: middle;\n",
       "    }\n",
       "\n",
       "    .dataframe tbody tr th {\n",
       "        vertical-align: top;\n",
       "    }\n",
       "\n",
       "    .dataframe thead th {\n",
       "        text-align: right;\n",
       "    }\n",
       "</style>\n",
       "<table border=\"1\" class=\"dataframe\">\n",
       "  <thead>\n",
       "    <tr style=\"text-align: right;\">\n",
       "      <th></th>\n",
       "      <th>count</th>\n",
       "    </tr>\n",
       "    <tr>\n",
       "      <th>Date_SamplingOperation</th>\n",
       "      <th></th>\n",
       "    </tr>\n",
       "  </thead>\n",
       "  <tbody>\n",
       "    <tr>\n",
       "      <th>2013-07-11</th>\n",
       "      <td>3812</td>\n",
       "    </tr>\n",
       "    <tr>\n",
       "      <th>2013-07-16</th>\n",
       "      <td>3809</td>\n",
       "    </tr>\n",
       "    <tr>\n",
       "      <th>2015-07-08</th>\n",
       "      <td>3720</td>\n",
       "    </tr>\n",
       "    <tr>\n",
       "      <th>2018-07-17</th>\n",
       "      <td>3573</td>\n",
       "    </tr>\n",
       "    <tr>\n",
       "      <th>2013-07-17</th>\n",
       "      <td>3542</td>\n",
       "    </tr>\n",
       "    <tr>\n",
       "      <th>2015-06-24</th>\n",
       "      <td>3352</td>\n",
       "    </tr>\n",
       "    <tr>\n",
       "      <th>2016-07-21</th>\n",
       "      <td>3168</td>\n",
       "    </tr>\n",
       "    <tr>\n",
       "      <th>2016-07-20</th>\n",
       "      <td>3162</td>\n",
       "    </tr>\n",
       "    <tr>\n",
       "      <th>2012-07-25</th>\n",
       "      <td>3104</td>\n",
       "    </tr>\n",
       "    <tr>\n",
       "      <th>2020-07-09</th>\n",
       "      <td>3091</td>\n",
       "    </tr>\n",
       "    <tr>\n",
       "      <th>2015-06-23</th>\n",
       "      <td>3085</td>\n",
       "    </tr>\n",
       "  </tbody>\n",
       "</table>\n",
       "</div>"
      ],
      "text/plain": [
       "                        count\n",
       "Date_SamplingOperation       \n",
       "2013-07-11               3812\n",
       "2013-07-16               3809\n",
       "2015-07-08               3720\n",
       "2018-07-17               3573\n",
       "2013-07-17               3542\n",
       "2015-06-24               3352\n",
       "2016-07-21               3168\n",
       "2016-07-20               3162\n",
       "2012-07-25               3104\n",
       "2020-07-09               3091\n",
       "2015-06-23               3085"
      ]
     },
     "execution_count": 20,
     "metadata": {},
     "output_type": "execute_result"
    }
   ],
   "source": [
    "Filtro_index4= Filtro4.set_index('Date_SamplingOperation')\n",
    "Filtro_index4"
   ]
  },
  {
   "cell_type": "markdown",
   "id": "a26ac883",
   "metadata": {},
   "source": [
    "Hacemos gráficas de barras de las 4 variables categóricas"
   ]
  },
  {
   "cell_type": "code",
   "execution_count": 21,
   "id": "2664a46d",
   "metadata": {},
   "outputs": [
    {
     "data": {
      "image/png": "[encoded data removed]",
      "text/plain": [
       "<Figure size 1600x1000 with 4 Axes>"
      ]
     },
     "metadata": {},
     "output_type": "display_data"
    }
   ],
   "source": [
    "\n",
    "def plot_tablas(tablas, nombres, tipo_filtro):\n",
    "    fig, axs = plt.subplots(2, 2, figsize=(16, 10))\n",
    "    axs = axs.flatten()\n",
    "    for i, (tabla, nombre) in enumerate(zip(tablas, nombres)):\n",
    "        tabla.plot(kind='bar', width=0.8, color='lightblue', ax=axs[i])\n",
    "        axs[i].set_title(f'Frecuencia de {nombre} ({tipo_filtro[i]})')\n",
    "        axs[i].set_xlabel(nombre)\n",
    "        axs[i].set_ylabel('Frecuencia')\n",
    "        axs[i].tick_params(axis='x', labelrotation=45)\n",
    "        axs[i].legend(['count'])\n",
    "    plt.tight_layout()\n",
    "    plt.subplots_adjust(hspace=1, wspace=0.2)\n",
    "    plt.show()\n",
    "\n",
    "plot_tablas(\n",
    "    [Filtro_index1, Filtro_index2, Filtro_index3, Filtro_index4],\n",
    "    ['TaxonName', 'TaxonCode', 'SamplingOperations_code', 'Date_SamplingOperation'],\n",
    "    [\n",
    "        'taxones con > 10000 registro',\n",
    "        'taxones con > 10000 registro',\n",
    "        'taxones con > 1 registro',\n",
    "        'taxones con > 10000 registro'\n",
    "    ]\n",
    ")"
   ]
  },
  {
   "cell_type": "markdown",
   "id": "7028a114",
   "metadata": {},
   "source": [
    "#### **3. Categorizar las siguientes variables: ”Abundance_nbcell”, “TotalAbundance_SamplingOperation”, “Abundance_pm”, aplicando la regla de Sturges y desplegar en un gráfico las frecuencias de las categorías obtenidas.**"
   ]
  },
  {
   "cell_type": "markdown",
   "id": "b4bbd816",
   "metadata": {},
   "source": [
    "#### *Variable: \"Abundance_nbcell\"*"
   ]
  },
  {
   "cell_type": "markdown",
   "id": "1edc93ad",
   "metadata": {},
   "source": [
    "Determinamos la cantidad de clases para los datos agrupados"
   ]
  },
  {
   "cell_type": "code",
   "execution_count": 22,
   "id": "9bfc25d7",
   "metadata": {},
   "outputs": [
    {
     "name": "stdout",
     "output_type": "stream",
     "text": [
      "<class 'pandas.core.series.Series'>\n",
      "Index: 1341160 entries, 0 to 1643871\n",
      "Series name: Abundance_nbcell\n",
      "Non-Null Count    Dtype\n",
      "--------------    -----\n",
      "1341160 non-null  int64\n",
      "dtypes: int64(1)\n",
      "memory usage: 20.5 MB\n"
     ]
    }
   ],
   "source": [
    "#Calculamos el numero total de la población \"n\"\n",
    "df_clean['Abundance_nbcell'].info()\n",
    "n_1 = 1341160"
   ]
  },
  {
   "cell_type": "markdown",
   "id": "d4289c39",
   "metadata": {},
   "source": [
    "Obtenemos el limite superior e inferior de la columna objetivo"
   ]
  },
  {
   "cell_type": "code",
   "execution_count": 23,
   "id": "05551c93",
   "metadata": {},
   "outputs": [
    {
     "data": {
      "text/plain": [
       "[1, 19]"
      ]
     },
     "execution_count": 23,
     "metadata": {},
     "output_type": "execute_result"
    }
   ],
   "source": [
    "Max_1 = df_clean['Abundance_nbcell'].max()\n",
    "Min_1 = df_clean['Abundance_nbcell'].min()\n",
    "Limites_1 = [Min_1, Max_1]\n",
    "Limites_1"
   ]
  },
  {
   "cell_type": "markdown",
   "id": "cde5bc3f",
   "metadata": {},
   "source": [
    "Calculamos el rango R"
   ]
  },
  {
   "cell_type": "code",
   "execution_count": 24,
   "id": "4c3bd476",
   "metadata": {},
   "outputs": [
    {
     "data": {
      "text/plain": [
       "18"
      ]
     },
     "execution_count": 24,
     "metadata": {},
     "output_type": "execute_result"
    }
   ],
   "source": [
    "R_1 = Max_1 - Min_1\n",
    "R_1"
   ]
  },
  {
   "cell_type": "markdown",
   "id": "8697525b",
   "metadata": {},
   "source": [
    "Calculamos el número de Intervalos de Clase \"ni\", aplicando la regla de Sturges"
   ]
  },
  {
   "cell_type": "code",
   "execution_count": 25,
   "id": "9832521b",
   "metadata": {},
   "outputs": [
    {
     "data": {
      "text/plain": [
       "np.float64(21.34323556593277)"
      ]
     },
     "execution_count": 25,
     "metadata": {},
     "output_type": "execute_result"
    }
   ],
   "source": [
    "ni_1 = 1 + 3.32 * np.log10(n_1)\n",
    "ni_1"
   ]
  },
  {
   "cell_type": "markdown",
   "id": "7d48995f",
   "metadata": {},
   "source": [
    "Calculamos el Ancho del Intervalo \"i\""
   ]
  },
  {
   "cell_type": "code",
   "execution_count": 26,
   "id": "1ab31133",
   "metadata": {},
   "outputs": [
    {
     "data": {
      "text/plain": [
       "np.float64(0.8433585406671372)"
      ]
     },
     "execution_count": 26,
     "metadata": {},
     "output_type": "execute_result"
    }
   ],
   "source": [
    "i_1 = R_1 / ni_1\n",
    "i_1"
   ]
  },
  {
   "cell_type": "markdown",
   "id": "bb4f99fc",
   "metadata": {},
   "source": [
    "Creamos las categorías a partir de las clases obtenidas"
   ]
  },
  {
   "cell_type": "code",
   "execution_count": 27,
   "id": "4e9e7b73",
   "metadata": {},
   "outputs": [
    {
     "data": {
      "text/plain": [
       "array([ 0.9       ,  1.76666667,  2.63333333,  3.5       ,  4.36666667,\n",
       "        5.23333333,  6.1       ,  6.96666667,  7.83333333,  8.7       ,\n",
       "        9.56666667, 10.43333333, 11.3       , 12.16666667, 13.03333333,\n",
       "       13.9       , 14.76666667, 15.63333333, 16.5       , 17.36666667,\n",
       "       18.23333333, 19.1       ])"
      ]
     },
     "execution_count": 27,
     "metadata": {},
     "output_type": "execute_result"
    }
   ],
   "source": [
    "intervalos_1 = np.linspace(0.9, 19.1, 22) # Agregamos los datos que obtuvimos en el análisis\n",
    "intervalos_1"
   ]
  },
  {
   "cell_type": "code",
   "execution_count": 28,
   "id": "f3b1dbb2",
   "metadata": {},
   "outputs": [],
   "source": [
    "categorias_1 = [\n",
    "    \"Categoría 1 (0.9 - 1.8)\",   \n",
    "    \"Categoría 2 (1.8 - 2.7)\",   \n",
    "    \"Categoría 3 (2.7 - 3.6)\",   \n",
    "    \"Categoría 4 (3.6 - 4.5)\",   \n",
    "    \"Categoría 5 (4.5 - 5.4)\",   \n",
    "    \"Categoría 6 (5.4 - 6.3)\",   \n",
    "    \"Categoría 7 (6.3 - 7.2)\",   \n",
    "    \"Categoría 8 (7.2 - 8.1)\",   \n",
    "    \"Categoría 9 (8.1 - 9.0)\",   \n",
    "    \"Categoría 10 (9.0 - 9.9)\",   \n",
    "    \"Categoría 11 (9.9 - 10.8)\",  \n",
    "    \"Categoría 12 (10.8 - 11.7)\", \n",
    "    \"Categoría 13 (11.7 - 12.6)\",  \n",
    "    \"Categoría 14 (12.6 - 13.5)\",  \n",
    "    \"Categoría 15 (13.5 - 14.4)\",  \n",
    "    \"Categoría 16 (14.4 - 15.3)\",  \n",
    "    \"Categoría 17 (15.3 - 16.2)\",  \n",
    "    \"Categoría 18 (16.2 - 17.1)\",  \n",
    "    \"Categoría 19 (17.1 - 18.0)\",  \n",
    "    \"Categoría 20 (18.0 - 18.9)\",  \n",
    "    \"Categoría 21 (18.9 - 19.1)\"  \n",
    "]"
   ]
  },
  {
   "cell_type": "code",
   "execution_count": 29,
   "id": "6436134b",
   "metadata": {},
   "outputs": [
    {
     "data": {
      "text/plain": [
       "0          Categoría 9 (8.1 - 9.0)\n",
       "1          Categoría 1 (0.9 - 1.8)\n",
       "2          Categoría 1 (0.9 - 1.8)\n",
       "3          Categoría 2 (1.8 - 2.7)\n",
       "4          Categoría 1 (0.9 - 1.8)\n",
       "                    ...           \n",
       "1643867    Categoría 1 (0.9 - 1.8)\n",
       "1643868    Categoría 1 (0.9 - 1.8)\n",
       "1643869    Categoría 1 (0.9 - 1.8)\n",
       "1643870    Categoría 8 (7.2 - 8.1)\n",
       "1643871    Categoría 1 (0.9 - 1.8)\n",
       "Name: Abundance_nbcell, Length: 1341160, dtype: category\n",
       "Categories (21, object): ['Categoría 1 (0.9 - 1.8)' < 'Categoría 2 (1.8 - 2.7)' < 'Categoría 3 (2.7 - 3.6)' < 'Categoría 4 (3.6 - 4.5)' ... 'Categoría 18 (16.2 - 17.1)' < 'Categoría 19 (17.1 - 18.0)' < 'Categoría 20 (18.0 - 18.9)' < 'Categoría 21 (18.9 - 19.1)']"
      ]
     },
     "execution_count": 29,
     "metadata": {},
     "output_type": "execute_result"
    }
   ],
   "source": [
    "df_clean['Abundance_nbcell'] = pd.cut(x = df_clean['Abundance_nbcell'], bins = intervalos_1, labels = categorias_1)\n",
    "df_clean['Abundance_nbcell']"
   ]
  },
  {
   "cell_type": "markdown",
   "id": "bc13313a",
   "metadata": {},
   "source": [
    "Obtener el análisis univariado de \"Abundance_nbcell\""
   ]
  },
  {
   "cell_type": "code",
   "execution_count": 30,
   "id": "f3ca407a",
   "metadata": {},
   "outputs": [
    {
     "data": {
      "text/html": [
       "<div>\n",
       "<style scoped>\n",
       "    .dataframe tbody tr th:only-of-type {\n",
       "        vertical-align: middle;\n",
       "    }\n",
       "\n",
       "    .dataframe tbody tr th {\n",
       "        vertical-align: top;\n",
       "    }\n",
       "\n",
       "    .dataframe thead th {\n",
       "        text-align: right;\n",
       "    }\n",
       "</style>\n",
       "<table border=\"1\" class=\"dataframe\">\n",
       "  <thead>\n",
       "    <tr style=\"text-align: right;\">\n",
       "      <th></th>\n",
       "      <th>Abundance_nbcell</th>\n",
       "      <th>count</th>\n",
       "    </tr>\n",
       "  </thead>\n",
       "  <tbody>\n",
       "    <tr>\n",
       "      <th>0</th>\n",
       "      <td>Categoría 1 (0.9 - 1.8)</td>\n",
       "      <td>378196</td>\n",
       "    </tr>\n",
       "    <tr>\n",
       "      <th>1</th>\n",
       "      <td>Categoría 2 (1.8 - 2.7)</td>\n",
       "      <td>320560</td>\n",
       "    </tr>\n",
       "    <tr>\n",
       "      <th>2</th>\n",
       "      <td>Categoría 3 (2.7 - 3.6)</td>\n",
       "      <td>120877</td>\n",
       "    </tr>\n",
       "    <tr>\n",
       "      <th>3</th>\n",
       "      <td>Categoría 4 (3.6 - 4.5)</td>\n",
       "      <td>118159</td>\n",
       "    </tr>\n",
       "    <tr>\n",
       "      <th>4</th>\n",
       "      <td>Categoría 5 (4.5 - 5.4)</td>\n",
       "      <td>65205</td>\n",
       "    </tr>\n",
       "    <tr>\n",
       "      <th>5</th>\n",
       "      <td>Categoría 6 (5.4 - 6.3)</td>\n",
       "      <td>63055</td>\n",
       "    </tr>\n",
       "    <tr>\n",
       "      <th>6</th>\n",
       "      <td>Categoría 8 (7.2 - 8.1)</td>\n",
       "      <td>41354</td>\n",
       "    </tr>\n",
       "    <tr>\n",
       "      <th>7</th>\n",
       "      <td>Categoría 9 (8.1 - 9.0)</td>\n",
       "      <td>40628</td>\n",
       "    </tr>\n",
       "    <tr>\n",
       "      <th>8</th>\n",
       "      <td>Categoría 10 (9.0 - 9.9)</td>\n",
       "      <td>29187</td>\n",
       "    </tr>\n",
       "    <tr>\n",
       "      <th>9</th>\n",
       "      <td>Categoría 11 (9.9 - 10.8)</td>\n",
       "      <td>28223</td>\n",
       "    </tr>\n",
       "    <tr>\n",
       "      <th>10</th>\n",
       "      <td>Categoría 13 (11.7 - 12.6)</td>\n",
       "      <td>21602</td>\n",
       "    </tr>\n",
       "    <tr>\n",
       "      <th>11</th>\n",
       "      <td>Categoría 12 (10.8 - 11.7)</td>\n",
       "      <td>21595</td>\n",
       "    </tr>\n",
       "    <tr>\n",
       "      <th>12</th>\n",
       "      <td>Categoría 16 (14.4 - 15.3)</td>\n",
       "      <td>16813</td>\n",
       "    </tr>\n",
       "    <tr>\n",
       "      <th>13</th>\n",
       "      <td>Categoría 14 (12.6 - 13.5)</td>\n",
       "      <td>16770</td>\n",
       "    </tr>\n",
       "    <tr>\n",
       "      <th>14</th>\n",
       "      <td>Categoría 17 (15.3 - 16.2)</td>\n",
       "      <td>13874</td>\n",
       "    </tr>\n",
       "    <tr>\n",
       "      <th>15</th>\n",
       "      <td>Categoría 18 (16.2 - 17.1)</td>\n",
       "      <td>13408</td>\n",
       "    </tr>\n",
       "    <tr>\n",
       "      <th>16</th>\n",
       "      <td>Categoría 20 (18.0 - 18.9)</td>\n",
       "      <td>11168</td>\n",
       "    </tr>\n",
       "    <tr>\n",
       "      <th>17</th>\n",
       "      <td>Categoría 19 (17.1 - 18.0)</td>\n",
       "      <td>11161</td>\n",
       "    </tr>\n",
       "    <tr>\n",
       "      <th>18</th>\n",
       "      <td>Categoría 21 (18.9 - 19.1)</td>\n",
       "      <td>9325</td>\n",
       "    </tr>\n",
       "    <tr>\n",
       "      <th>19</th>\n",
       "      <td>Categoría 7 (6.3 - 7.2)</td>\n",
       "      <td>0</td>\n",
       "    </tr>\n",
       "    <tr>\n",
       "      <th>20</th>\n",
       "      <td>Categoría 15 (13.5 - 14.4)</td>\n",
       "      <td>0</td>\n",
       "    </tr>\n",
       "  </tbody>\n",
       "</table>\n",
       "</div>"
      ],
      "text/plain": [
       "              Abundance_nbcell   count\n",
       "0      Categoría 1 (0.9 - 1.8)  378196\n",
       "1      Categoría 2 (1.8 - 2.7)  320560\n",
       "2      Categoría 3 (2.7 - 3.6)  120877\n",
       "3      Categoría 4 (3.6 - 4.5)  118159\n",
       "4      Categoría 5 (4.5 - 5.4)   65205\n",
       "5      Categoría 6 (5.4 - 6.3)   63055\n",
       "6      Categoría 8 (7.2 - 8.1)   41354\n",
       "7      Categoría 9 (8.1 - 9.0)   40628\n",
       "8     Categoría 10 (9.0 - 9.9)   29187\n",
       "9    Categoría 11 (9.9 - 10.8)   28223\n",
       "10  Categoría 13 (11.7 - 12.6)   21602\n",
       "11  Categoría 12 (10.8 - 11.7)   21595\n",
       "12  Categoría 16 (14.4 - 15.3)   16813\n",
       "13  Categoría 14 (12.6 - 13.5)   16770\n",
       "14  Categoría 17 (15.3 - 16.2)   13874\n",
       "15  Categoría 18 (16.2 - 17.1)   13408\n",
       "16  Categoría 20 (18.0 - 18.9)   11168\n",
       "17  Categoría 19 (17.1 - 18.0)   11161\n",
       "18  Categoría 21 (18.9 - 19.1)    9325\n",
       "19     Categoría 7 (6.3 - 7.2)       0\n",
       "20  Categoría 15 (13.5 - 14.4)       0"
      ]
     },
     "execution_count": 30,
     "metadata": {},
     "output_type": "execute_result"
    }
   ],
   "source": [
    "Tabla_freq5 = df_clean['Abundance_nbcell'].value_counts().reset_index()\n",
    "Tabla_freq5"
   ]
  },
  {
   "cell_type": "code",
   "execution_count": 31,
   "id": "f6512b2f",
   "metadata": {},
   "outputs": [
    {
     "data": {
      "text/html": [
       "<div>\n",
       "<style scoped>\n",
       "    .dataframe tbody tr th:only-of-type {\n",
       "        vertical-align: middle;\n",
       "    }\n",
       "\n",
       "    .dataframe tbody tr th {\n",
       "        vertical-align: top;\n",
       "    }\n",
       "\n",
       "    .dataframe thead th {\n",
       "        text-align: right;\n",
       "    }\n",
       "</style>\n",
       "<table border=\"1\" class=\"dataframe\">\n",
       "  <thead>\n",
       "    <tr style=\"text-align: right;\">\n",
       "      <th></th>\n",
       "      <th>Abundance_nbcell</th>\n",
       "      <th>count</th>\n",
       "    </tr>\n",
       "  </thead>\n",
       "  <tbody>\n",
       "    <tr>\n",
       "      <th>0</th>\n",
       "      <td>Categoría 1 (0.9 - 1.8)</td>\n",
       "      <td>378196</td>\n",
       "    </tr>\n",
       "    <tr>\n",
       "      <th>1</th>\n",
       "      <td>Categoría 2 (1.8 - 2.7)</td>\n",
       "      <td>320560</td>\n",
       "    </tr>\n",
       "    <tr>\n",
       "      <th>2</th>\n",
       "      <td>Categoría 3 (2.7 - 3.6)</td>\n",
       "      <td>120877</td>\n",
       "    </tr>\n",
       "    <tr>\n",
       "      <th>3</th>\n",
       "      <td>Categoría 4 (3.6 - 4.5)</td>\n",
       "      <td>118159</td>\n",
       "    </tr>\n",
       "    <tr>\n",
       "      <th>4</th>\n",
       "      <td>Categoría 5 (4.5 - 5.4)</td>\n",
       "      <td>65205</td>\n",
       "    </tr>\n",
       "    <tr>\n",
       "      <th>5</th>\n",
       "      <td>Categoría 6 (5.4 - 6.3)</td>\n",
       "      <td>63055</td>\n",
       "    </tr>\n",
       "    <tr>\n",
       "      <th>6</th>\n",
       "      <td>Categoría 8 (7.2 - 8.1)</td>\n",
       "      <td>41354</td>\n",
       "    </tr>\n",
       "    <tr>\n",
       "      <th>7</th>\n",
       "      <td>Categoría 9 (8.1 - 9.0)</td>\n",
       "      <td>40628</td>\n",
       "    </tr>\n",
       "    <tr>\n",
       "      <th>8</th>\n",
       "      <td>Categoría 10 (9.0 - 9.9)</td>\n",
       "      <td>29187</td>\n",
       "    </tr>\n",
       "    <tr>\n",
       "      <th>9</th>\n",
       "      <td>Categoría 11 (9.9 - 10.8)</td>\n",
       "      <td>28223</td>\n",
       "    </tr>\n",
       "    <tr>\n",
       "      <th>10</th>\n",
       "      <td>Categoría 13 (11.7 - 12.6)</td>\n",
       "      <td>21602</td>\n",
       "    </tr>\n",
       "    <tr>\n",
       "      <th>11</th>\n",
       "      <td>Categoría 12 (10.8 - 11.7)</td>\n",
       "      <td>21595</td>\n",
       "    </tr>\n",
       "    <tr>\n",
       "      <th>12</th>\n",
       "      <td>Categoría 16 (14.4 - 15.3)</td>\n",
       "      <td>16813</td>\n",
       "    </tr>\n",
       "    <tr>\n",
       "      <th>13</th>\n",
       "      <td>Categoría 14 (12.6 - 13.5)</td>\n",
       "      <td>16770</td>\n",
       "    </tr>\n",
       "    <tr>\n",
       "      <th>14</th>\n",
       "      <td>Categoría 17 (15.3 - 16.2)</td>\n",
       "      <td>13874</td>\n",
       "    </tr>\n",
       "    <tr>\n",
       "      <th>15</th>\n",
       "      <td>Categoría 18 (16.2 - 17.1)</td>\n",
       "      <td>13408</td>\n",
       "    </tr>\n",
       "    <tr>\n",
       "      <th>16</th>\n",
       "      <td>Categoría 20 (18.0 - 18.9)</td>\n",
       "      <td>11168</td>\n",
       "    </tr>\n",
       "    <tr>\n",
       "      <th>17</th>\n",
       "      <td>Categoría 19 (17.1 - 18.0)</td>\n",
       "      <td>11161</td>\n",
       "    </tr>\n",
       "    <tr>\n",
       "      <th>18</th>\n",
       "      <td>Categoría 21 (18.9 - 19.1)</td>\n",
       "      <td>9325</td>\n",
       "    </tr>\n",
       "  </tbody>\n",
       "</table>\n",
       "</div>"
      ],
      "text/plain": [
       "              Abundance_nbcell   count\n",
       "0      Categoría 1 (0.9 - 1.8)  378196\n",
       "1      Categoría 2 (1.8 - 2.7)  320560\n",
       "2      Categoría 3 (2.7 - 3.6)  120877\n",
       "3      Categoría 4 (3.6 - 4.5)  118159\n",
       "4      Categoría 5 (4.5 - 5.4)   65205\n",
       "5      Categoría 6 (5.4 - 6.3)   63055\n",
       "6      Categoría 8 (7.2 - 8.1)   41354\n",
       "7      Categoría 9 (8.1 - 9.0)   40628\n",
       "8     Categoría 10 (9.0 - 9.9)   29187\n",
       "9    Categoría 11 (9.9 - 10.8)   28223\n",
       "10  Categoría 13 (11.7 - 12.6)   21602\n",
       "11  Categoría 12 (10.8 - 11.7)   21595\n",
       "12  Categoría 16 (14.4 - 15.3)   16813\n",
       "13  Categoría 14 (12.6 - 13.5)   16770\n",
       "14  Categoría 17 (15.3 - 16.2)   13874\n",
       "15  Categoría 18 (16.2 - 17.1)   13408\n",
       "16  Categoría 20 (18.0 - 18.9)   11168\n",
       "17  Categoría 19 (17.1 - 18.0)   11161\n",
       "18  Categoría 21 (18.9 - 19.1)    9325"
      ]
     },
     "execution_count": 31,
     "metadata": {},
     "output_type": "execute_result"
    }
   ],
   "source": [
    "Filtro5 = Tabla_freq5[Tabla_freq5['count'] > 0]\n",
    "Filtro5"
   ]
  },
  {
   "cell_type": "code",
   "execution_count": 32,
   "id": "a973f378",
   "metadata": {},
   "outputs": [
    {
     "data": {
      "text/html": [
       "<div>\n",
       "<style scoped>\n",
       "    .dataframe tbody tr th:only-of-type {\n",
       "        vertical-align: middle;\n",
       "    }\n",
       "\n",
       "    .dataframe tbody tr th {\n",
       "        vertical-align: top;\n",
       "    }\n",
       "\n",
       "    .dataframe thead th {\n",
       "        text-align: right;\n",
       "    }\n",
       "</style>\n",
       "<table border=\"1\" class=\"dataframe\">\n",
       "  <thead>\n",
       "    <tr style=\"text-align: right;\">\n",
       "      <th></th>\n",
       "      <th>count</th>\n",
       "    </tr>\n",
       "    <tr>\n",
       "      <th>Abundance_nbcell</th>\n",
       "      <th></th>\n",
       "    </tr>\n",
       "  </thead>\n",
       "  <tbody>\n",
       "    <tr>\n",
       "      <th>Categoría 1 (0.9 - 1.8)</th>\n",
       "      <td>378196</td>\n",
       "    </tr>\n",
       "    <tr>\n",
       "      <th>Categoría 2 (1.8 - 2.7)</th>\n",
       "      <td>320560</td>\n",
       "    </tr>\n",
       "    <tr>\n",
       "      <th>Categoría 3 (2.7 - 3.6)</th>\n",
       "      <td>120877</td>\n",
       "    </tr>\n",
       "    <tr>\n",
       "      <th>Categoría 4 (3.6 - 4.5)</th>\n",
       "      <td>118159</td>\n",
       "    </tr>\n",
       "    <tr>\n",
       "      <th>Categoría 5 (4.5 - 5.4)</th>\n",
       "      <td>65205</td>\n",
       "    </tr>\n",
       "    <tr>\n",
       "      <th>Categoría 6 (5.4 - 6.3)</th>\n",
       "      <td>63055</td>\n",
       "    </tr>\n",
       "    <tr>\n",
       "      <th>Categoría 8 (7.2 - 8.1)</th>\n",
       "      <td>41354</td>\n",
       "    </tr>\n",
       "    <tr>\n",
       "      <th>Categoría 9 (8.1 - 9.0)</th>\n",
       "      <td>40628</td>\n",
       "    </tr>\n",
       "    <tr>\n",
       "      <th>Categoría 10 (9.0 - 9.9)</th>\n",
       "      <td>29187</td>\n",
       "    </tr>\n",
       "    <tr>\n",
       "      <th>Categoría 11 (9.9 - 10.8)</th>\n",
       "      <td>28223</td>\n",
       "    </tr>\n",
       "    <tr>\n",
       "      <th>Categoría 13 (11.7 - 12.6)</th>\n",
       "      <td>21602</td>\n",
       "    </tr>\n",
       "    <tr>\n",
       "      <th>Categoría 12 (10.8 - 11.7)</th>\n",
       "      <td>21595</td>\n",
       "    </tr>\n",
       "    <tr>\n",
       "      <th>Categoría 16 (14.4 - 15.3)</th>\n",
       "      <td>16813</td>\n",
       "    </tr>\n",
       "    <tr>\n",
       "      <th>Categoría 14 (12.6 - 13.5)</th>\n",
       "      <td>16770</td>\n",
       "    </tr>\n",
       "    <tr>\n",
       "      <th>Categoría 17 (15.3 - 16.2)</th>\n",
       "      <td>13874</td>\n",
       "    </tr>\n",
       "    <tr>\n",
       "      <th>Categoría 18 (16.2 - 17.1)</th>\n",
       "      <td>13408</td>\n",
       "    </tr>\n",
       "    <tr>\n",
       "      <th>Categoría 20 (18.0 - 18.9)</th>\n",
       "      <td>11168</td>\n",
       "    </tr>\n",
       "    <tr>\n",
       "      <th>Categoría 19 (17.1 - 18.0)</th>\n",
       "      <td>11161</td>\n",
       "    </tr>\n",
       "    <tr>\n",
       "      <th>Categoría 21 (18.9 - 19.1)</th>\n",
       "      <td>9325</td>\n",
       "    </tr>\n",
       "  </tbody>\n",
       "</table>\n",
       "</div>"
      ],
      "text/plain": [
       "                             count\n",
       "Abundance_nbcell                  \n",
       "Categoría 1 (0.9 - 1.8)     378196\n",
       "Categoría 2 (1.8 - 2.7)     320560\n",
       "Categoría 3 (2.7 - 3.6)     120877\n",
       "Categoría 4 (3.6 - 4.5)     118159\n",
       "Categoría 5 (4.5 - 5.4)      65205\n",
       "Categoría 6 (5.4 - 6.3)      63055\n",
       "Categoría 8 (7.2 - 8.1)      41354\n",
       "Categoría 9 (8.1 - 9.0)      40628\n",
       "Categoría 10 (9.0 - 9.9)     29187\n",
       "Categoría 11 (9.9 - 10.8)    28223\n",
       "Categoría 13 (11.7 - 12.6)   21602\n",
       "Categoría 12 (10.8 - 11.7)   21595\n",
       "Categoría 16 (14.4 - 15.3)   16813\n",
       "Categoría 14 (12.6 - 13.5)   16770\n",
       "Categoría 17 (15.3 - 16.2)   13874\n",
       "Categoría 18 (16.2 - 17.1)   13408\n",
       "Categoría 20 (18.0 - 18.9)   11168\n",
       "Categoría 19 (17.1 - 18.0)   11161\n",
       "Categoría 21 (18.9 - 19.1)    9325"
      ]
     },
     "execution_count": 32,
     "metadata": {},
     "output_type": "execute_result"
    }
   ],
   "source": [
    "Filtro_index5 = Filtro5.set_index('Abundance_nbcell')\n",
    "Filtro_index5 "
   ]
  },
  {
   "cell_type": "markdown",
   "id": "449ee771",
   "metadata": {},
   "source": [
    "#### *Variable: \"TotalAbundance_SamplingOperation\"*"
   ]
  },
  {
   "cell_type": "markdown",
   "id": "513defc2",
   "metadata": {},
   "source": [
    "Determinamos la cantidad de clases para los datos agrupados"
   ]
  },
  {
   "cell_type": "code",
   "execution_count": 33,
   "id": "decbd4c6",
   "metadata": {},
   "outputs": [
    {
     "name": "stdout",
     "output_type": "stream",
     "text": [
      "<class 'pandas.core.series.Series'>\n",
      "Index: 1341160 entries, 0 to 1643871\n",
      "Series name: TotalAbundance_SamplingOperation\n",
      "Non-Null Count    Dtype\n",
      "--------------    -----\n",
      "1341160 non-null  int64\n",
      "dtypes: int64(1)\n",
      "memory usage: 20.5 MB\n"
     ]
    }
   ],
   "source": [
    "#Calculamos el numero total de la población \"n\"\n",
    "df_clean['TotalAbundance_SamplingOperation'].info()\n",
    "n_2 = 1341160"
   ]
  },
  {
   "cell_type": "markdown",
   "id": "8c916f93",
   "metadata": {},
   "source": [
    "Obtenemos el limite superior e inferior de la columna objetivo"
   ]
  },
  {
   "cell_type": "code",
   "execution_count": 34,
   "id": "612cc444",
   "metadata": {},
   "outputs": [
    {
     "data": {
      "text/plain": [
       "[388, 420]"
      ]
     },
     "execution_count": 34,
     "metadata": {},
     "output_type": "execute_result"
    }
   ],
   "source": [
    "Max_2 = df_clean['TotalAbundance_SamplingOperation'].max()\n",
    "Min_2 = df_clean['TotalAbundance_SamplingOperation'].min()\n",
    "Limites_2 = [Min_2, Max_2]\n",
    "Limites_2"
   ]
  },
  {
   "cell_type": "markdown",
   "id": "375b7b4c",
   "metadata": {},
   "source": [
    "Calculamos el rango R"
   ]
  },
  {
   "cell_type": "code",
   "execution_count": 35,
   "id": "63076009",
   "metadata": {},
   "outputs": [
    {
     "data": {
      "text/plain": [
       "32"
      ]
     },
     "execution_count": 35,
     "metadata": {},
     "output_type": "execute_result"
    }
   ],
   "source": [
    "R_2 = Max_2 - Min_2\n",
    "R_2"
   ]
  },
  {
   "cell_type": "markdown",
   "id": "9ac93970",
   "metadata": {},
   "source": [
    "Calculamos el número de Intervalos de Clase \"ni\", aplicando la regla de Sturges"
   ]
  },
  {
   "cell_type": "code",
   "execution_count": 36,
   "id": "dd9f0665",
   "metadata": {},
   "outputs": [
    {
     "data": {
      "text/plain": [
       "np.float64(21.34323556593277)"
      ]
     },
     "execution_count": 36,
     "metadata": {},
     "output_type": "execute_result"
    }
   ],
   "source": [
    "ni_2 = 1 + 3.32 * np.log10(n_2)\n",
    "ni_2"
   ]
  },
  {
   "cell_type": "markdown",
   "id": "06a9363f",
   "metadata": {},
   "source": [
    "Calculamos el Ancho del Intervalo \"i\""
   ]
  },
  {
   "cell_type": "code",
   "execution_count": 37,
   "id": "95f2ba03",
   "metadata": {},
   "outputs": [
    {
     "data": {
      "text/plain": [
       "np.float64(1.4993040722971327)"
      ]
     },
     "execution_count": 37,
     "metadata": {},
     "output_type": "execute_result"
    }
   ],
   "source": [
    "i_2 = R_2 / ni_2\n",
    "i_2"
   ]
  },
  {
   "cell_type": "markdown",
   "id": "1a8d3602",
   "metadata": {},
   "source": [
    "Creamos las categorías a partir de las clases obtenidas"
   ]
  },
  {
   "cell_type": "code",
   "execution_count": 38,
   "id": "8a984614",
   "metadata": {},
   "outputs": [
    {
     "data": {
      "text/plain": [
       "array([387.9  , 391.925, 395.95 , 399.975, 404.   , 408.025, 412.05 ,\n",
       "       416.075, 420.1  ])"
      ]
     },
     "execution_count": 38,
     "metadata": {},
     "output_type": "execute_result"
    }
   ],
   "source": [
    "intervalos_2 = np.linspace(387.9, 420.1, 9) # Agregamos los datos que obtuvimos en el análisis\n",
    "intervalos_2"
   ]
  },
  {
   "cell_type": "code",
   "execution_count": 39,
   "id": "88c971e9",
   "metadata": {},
   "outputs": [],
   "source": [
    "categorias_2 = [\n",
    "    \"Categoría 1 (387.9 - 392.0)\",  \n",
    "    \"Categoría 2 (392.0 - 396.1)\",  \n",
    "    \"Categoría 3 (396.1 - 400.2)\",  \n",
    "    \"Categoría 4 (400.2 - 404.3)\",  \n",
    "    \"Categoría 5 (404.3 - 408.4)\",  \n",
    "    \"Categoría 6 (408.4 - 412.5)\",  \n",
    "    \"Categoría 7 (412.5 - 416.6)\",  \n",
    "    \"Categoría 8 (416.6 - 420.1)\"  \n",
    "]"
   ]
  },
  {
   "cell_type": "code",
   "execution_count": 40,
   "id": "6e0819d2",
   "metadata": {},
   "outputs": [
    {
     "data": {
      "text/plain": [
       "0          Categoría 8 (416.6 - 420.1)\n",
       "1          Categoría 4 (400.2 - 404.3)\n",
       "2          Categoría 4 (400.2 - 404.3)\n",
       "3          Categoría 4 (400.2 - 404.3)\n",
       "4          Categoría 4 (400.2 - 404.3)\n",
       "                      ...             \n",
       "1643867    Categoría 6 (408.4 - 412.5)\n",
       "1643868    Categoría 4 (400.2 - 404.3)\n",
       "1643869    Categoría 4 (400.2 - 404.3)\n",
       "1643870    Categoría 4 (400.2 - 404.3)\n",
       "1643871    Categoría 4 (400.2 - 404.3)\n",
       "Name: TotalAbundance_SamplingOperation, Length: 1341160, dtype: category\n",
       "Categories (8, object): ['Categoría 1 (387.9 - 392.0)' < 'Categoría 2 (392.0 - 396.1)' < 'Categoría 3 (396.1 - 400.2)' < 'Categoría 4 (400.2 - 404.3)' < 'Categoría 5 (404.3 - 408.4)' < 'Categoría 6 (408.4 - 412.5)' < 'Categoría 7 (412.5 - 416.6)' < 'Categoría 8 (416.6 - 420.1)']"
      ]
     },
     "execution_count": 40,
     "metadata": {},
     "output_type": "execute_result"
    }
   ],
   "source": [
    "df_clean['TotalAbundance_SamplingOperation'] = pd.cut(x = df_clean['TotalAbundance_SamplingOperation'], bins = intervalos_2, labels = categorias_2)\n",
    "df_clean['TotalAbundance_SamplingOperation']"
   ]
  },
  {
   "cell_type": "markdown",
   "id": "493406d9",
   "metadata": {},
   "source": [
    "Obtener el análisis univariado de \"Abundance_nbcell\""
   ]
  },
  {
   "cell_type": "code",
   "execution_count": 41,
   "id": "be36b77b",
   "metadata": {},
   "outputs": [
    {
     "data": {
      "text/html": [
       "<div>\n",
       "<style scoped>\n",
       "    .dataframe tbody tr th:only-of-type {\n",
       "        vertical-align: middle;\n",
       "    }\n",
       "\n",
       "    .dataframe tbody tr th {\n",
       "        vertical-align: top;\n",
       "    }\n",
       "\n",
       "    .dataframe thead th {\n",
       "        text-align: right;\n",
       "    }\n",
       "</style>\n",
       "<table border=\"1\" class=\"dataframe\">\n",
       "  <thead>\n",
       "    <tr style=\"text-align: right;\">\n",
       "      <th></th>\n",
       "      <th>TotalAbundance_SamplingOperation</th>\n",
       "      <th>count</th>\n",
       "    </tr>\n",
       "  </thead>\n",
       "  <tbody>\n",
       "    <tr>\n",
       "      <th>0</th>\n",
       "      <td>Categoría 4 (400.2 - 404.3)</td>\n",
       "      <td>728705</td>\n",
       "    </tr>\n",
       "    <tr>\n",
       "      <th>1</th>\n",
       "      <td>Categoría 5 (404.3 - 408.4)</td>\n",
       "      <td>254118</td>\n",
       "    </tr>\n",
       "    <tr>\n",
       "      <th>2</th>\n",
       "      <td>Categoría 6 (408.4 - 412.5)</td>\n",
       "      <td>144840</td>\n",
       "    </tr>\n",
       "    <tr>\n",
       "      <th>3</th>\n",
       "      <td>Categoría 7 (412.5 - 416.6)</td>\n",
       "      <td>76820</td>\n",
       "    </tr>\n",
       "    <tr>\n",
       "      <th>4</th>\n",
       "      <td>Categoría 8 (416.6 - 420.1)</td>\n",
       "      <td>64184</td>\n",
       "    </tr>\n",
       "    <tr>\n",
       "      <th>5</th>\n",
       "      <td>Categoría 3 (396.1 - 400.2)</td>\n",
       "      <td>56309</td>\n",
       "    </tr>\n",
       "    <tr>\n",
       "      <th>6</th>\n",
       "      <td>Categoría 2 (392.0 - 396.1)</td>\n",
       "      <td>11495</td>\n",
       "    </tr>\n",
       "    <tr>\n",
       "      <th>7</th>\n",
       "      <td>Categoría 1 (387.9 - 392.0)</td>\n",
       "      <td>4689</td>\n",
       "    </tr>\n",
       "  </tbody>\n",
       "</table>\n",
       "</div>"
      ],
      "text/plain": [
       "  TotalAbundance_SamplingOperation   count\n",
       "0      Categoría 4 (400.2 - 404.3)  728705\n",
       "1      Categoría 5 (404.3 - 408.4)  254118\n",
       "2      Categoría 6 (408.4 - 412.5)  144840\n",
       "3      Categoría 7 (412.5 - 416.6)   76820\n",
       "4      Categoría 8 (416.6 - 420.1)   64184\n",
       "5      Categoría 3 (396.1 - 400.2)   56309\n",
       "6      Categoría 2 (392.0 - 396.1)   11495\n",
       "7      Categoría 1 (387.9 - 392.0)    4689"
      ]
     },
     "execution_count": 41,
     "metadata": {},
     "output_type": "execute_result"
    }
   ],
   "source": [
    "Tabla_freq6 = df_clean['TotalAbundance_SamplingOperation'].value_counts().reset_index()\n",
    "Tabla_freq6"
   ]
  },
  {
   "cell_type": "code",
   "execution_count": 42,
   "id": "8bc100ba",
   "metadata": {},
   "outputs": [
    {
     "data": {
      "text/html": [
       "<div>\n",
       "<style scoped>\n",
       "    .dataframe tbody tr th:only-of-type {\n",
       "        vertical-align: middle;\n",
       "    }\n",
       "\n",
       "    .dataframe tbody tr th {\n",
       "        vertical-align: top;\n",
       "    }\n",
       "\n",
       "    .dataframe thead th {\n",
       "        text-align: right;\n",
       "    }\n",
       "</style>\n",
       "<table border=\"1\" class=\"dataframe\">\n",
       "  <thead>\n",
       "    <tr style=\"text-align: right;\">\n",
       "      <th></th>\n",
       "      <th>TotalAbundance_SamplingOperation</th>\n",
       "      <th>count</th>\n",
       "    </tr>\n",
       "  </thead>\n",
       "  <tbody>\n",
       "    <tr>\n",
       "      <th>0</th>\n",
       "      <td>Categoría 4 (400.2 - 404.3)</td>\n",
       "      <td>728705</td>\n",
       "    </tr>\n",
       "    <tr>\n",
       "      <th>1</th>\n",
       "      <td>Categoría 5 (404.3 - 408.4)</td>\n",
       "      <td>254118</td>\n",
       "    </tr>\n",
       "    <tr>\n",
       "      <th>2</th>\n",
       "      <td>Categoría 6 (408.4 - 412.5)</td>\n",
       "      <td>144840</td>\n",
       "    </tr>\n",
       "    <tr>\n",
       "      <th>3</th>\n",
       "      <td>Categoría 7 (412.5 - 416.6)</td>\n",
       "      <td>76820</td>\n",
       "    </tr>\n",
       "    <tr>\n",
       "      <th>4</th>\n",
       "      <td>Categoría 8 (416.6 - 420.1)</td>\n",
       "      <td>64184</td>\n",
       "    </tr>\n",
       "    <tr>\n",
       "      <th>5</th>\n",
       "      <td>Categoría 3 (396.1 - 400.2)</td>\n",
       "      <td>56309</td>\n",
       "    </tr>\n",
       "    <tr>\n",
       "      <th>6</th>\n",
       "      <td>Categoría 2 (392.0 - 396.1)</td>\n",
       "      <td>11495</td>\n",
       "    </tr>\n",
       "    <tr>\n",
       "      <th>7</th>\n",
       "      <td>Categoría 1 (387.9 - 392.0)</td>\n",
       "      <td>4689</td>\n",
       "    </tr>\n",
       "  </tbody>\n",
       "</table>\n",
       "</div>"
      ],
      "text/plain": [
       "  TotalAbundance_SamplingOperation   count\n",
       "0      Categoría 4 (400.2 - 404.3)  728705\n",
       "1      Categoría 5 (404.3 - 408.4)  254118\n",
       "2      Categoría 6 (408.4 - 412.5)  144840\n",
       "3      Categoría 7 (412.5 - 416.6)   76820\n",
       "4      Categoría 8 (416.6 - 420.1)   64184\n",
       "5      Categoría 3 (396.1 - 400.2)   56309\n",
       "6      Categoría 2 (392.0 - 396.1)   11495\n",
       "7      Categoría 1 (387.9 - 392.0)    4689"
      ]
     },
     "execution_count": 42,
     "metadata": {},
     "output_type": "execute_result"
    }
   ],
   "source": [
    "Filtro6 = Tabla_freq6[Tabla_freq6['count'] > 0]\n",
    "Filtro6"
   ]
  },
  {
   "cell_type": "code",
   "execution_count": 43,
   "id": "d710f5fd",
   "metadata": {},
   "outputs": [
    {
     "data": {
      "text/html": [
       "<div>\n",
       "<style scoped>\n",
       "    .dataframe tbody tr th:only-of-type {\n",
       "        vertical-align: middle;\n",
       "    }\n",
       "\n",
       "    .dataframe tbody tr th {\n",
       "        vertical-align: top;\n",
       "    }\n",
       "\n",
       "    .dataframe thead th {\n",
       "        text-align: right;\n",
       "    }\n",
       "</style>\n",
       "<table border=\"1\" class=\"dataframe\">\n",
       "  <thead>\n",
       "    <tr style=\"text-align: right;\">\n",
       "      <th></th>\n",
       "      <th>count</th>\n",
       "    </tr>\n",
       "    <tr>\n",
       "      <th>TotalAbundance_SamplingOperation</th>\n",
       "      <th></th>\n",
       "    </tr>\n",
       "  </thead>\n",
       "  <tbody>\n",
       "    <tr>\n",
       "      <th>Categoría 4 (400.2 - 404.3)</th>\n",
       "      <td>728705</td>\n",
       "    </tr>\n",
       "    <tr>\n",
       "      <th>Categoría 5 (404.3 - 408.4)</th>\n",
       "      <td>254118</td>\n",
       "    </tr>\n",
       "    <tr>\n",
       "      <th>Categoría 6 (408.4 - 412.5)</th>\n",
       "      <td>144840</td>\n",
       "    </tr>\n",
       "    <tr>\n",
       "      <th>Categoría 7 (412.5 - 416.6)</th>\n",
       "      <td>76820</td>\n",
       "    </tr>\n",
       "    <tr>\n",
       "      <th>Categoría 8 (416.6 - 420.1)</th>\n",
       "      <td>64184</td>\n",
       "    </tr>\n",
       "    <tr>\n",
       "      <th>Categoría 3 (396.1 - 400.2)</th>\n",
       "      <td>56309</td>\n",
       "    </tr>\n",
       "    <tr>\n",
       "      <th>Categoría 2 (392.0 - 396.1)</th>\n",
       "      <td>11495</td>\n",
       "    </tr>\n",
       "    <tr>\n",
       "      <th>Categoría 1 (387.9 - 392.0)</th>\n",
       "      <td>4689</td>\n",
       "    </tr>\n",
       "  </tbody>\n",
       "</table>\n",
       "</div>"
      ],
      "text/plain": [
       "                                   count\n",
       "TotalAbundance_SamplingOperation        \n",
       "Categoría 4 (400.2 - 404.3)       728705\n",
       "Categoría 5 (404.3 - 408.4)       254118\n",
       "Categoría 6 (408.4 - 412.5)       144840\n",
       "Categoría 7 (412.5 - 416.6)        76820\n",
       "Categoría 8 (416.6 - 420.1)        64184\n",
       "Categoría 3 (396.1 - 400.2)        56309\n",
       "Categoría 2 (392.0 - 396.1)        11495\n",
       "Categoría 1 (387.9 - 392.0)         4689"
      ]
     },
     "execution_count": 43,
     "metadata": {},
     "output_type": "execute_result"
    }
   ],
   "source": [
    "Filtro_index6 = Filtro6.set_index('TotalAbundance_SamplingOperation')\n",
    "Filtro_index6"
   ]
  },
  {
   "cell_type": "markdown",
   "id": "308a584e",
   "metadata": {},
   "source": [
    "#### *Variable: \"Abundance_pm\"*"
   ]
  },
  {
   "cell_type": "markdown",
   "id": "bd4da3fe",
   "metadata": {},
   "source": [
    "Determinamos la cantidad de clases para los datos agrupados"
   ]
  },
  {
   "cell_type": "code",
   "execution_count": 44,
   "id": "26b52332",
   "metadata": {},
   "outputs": [
    {
     "name": "stdout",
     "output_type": "stream",
     "text": [
      "<class 'pandas.core.series.Series'>\n",
      "Index: 1341160 entries, 0 to 1643871\n",
      "Series name: Abundance_pm\n",
      "Non-Null Count    Dtype  \n",
      "--------------    -----  \n",
      "1341160 non-null  float64\n",
      "dtypes: float64(1)\n",
      "memory usage: 20.5 MB\n"
     ]
    }
   ],
   "source": [
    "#Calculamos el numero total de la población \"n\"\n",
    "df_clean['Abundance_pm'].info()\n",
    "n_3 = 1341160"
   ]
  },
  {
   "cell_type": "markdown",
   "id": "d733578a",
   "metadata": {},
   "source": [
    "Obtenemos el limite superior e inferior de la columna objetivo"
   ]
  },
  {
   "cell_type": "code",
   "execution_count": 45,
   "id": "5f4f0c36",
   "metadata": {},
   "outputs": [
    {
     "data": {
      "text/plain": [
       "[2.38095238095238, 48.84318766066838]"
      ]
     },
     "execution_count": 45,
     "metadata": {},
     "output_type": "execute_result"
    }
   ],
   "source": [
    "Max_3 = df_clean['Abundance_pm'].max()\n",
    "Min_3 = df_clean['Abundance_pm'].min()\n",
    "Limites_3 = [Min_3, Max_3]\n",
    "Limites_3"
   ]
  },
  {
   "cell_type": "markdown",
   "id": "e990b208",
   "metadata": {},
   "source": [
    "Calculamos el rango R"
   ]
  },
  {
   "cell_type": "code",
   "execution_count": 46,
   "id": "1da4723e",
   "metadata": {},
   "outputs": [
    {
     "data": {
      "text/plain": [
       "46.462235279716"
      ]
     },
     "execution_count": 46,
     "metadata": {},
     "output_type": "execute_result"
    }
   ],
   "source": [
    "R_3 = Max_3 - Min_3\n",
    "R_3"
   ]
  },
  {
   "cell_type": "markdown",
   "id": "2a03d5ab",
   "metadata": {},
   "source": [
    "Calculamos el número de Intervalos de Clase \"ni\", aplicando la regla de Sturges"
   ]
  },
  {
   "cell_type": "code",
   "execution_count": 47,
   "id": "4f2c2754",
   "metadata": {},
   "outputs": [
    {
     "data": {
      "text/plain": [
       "np.float64(21.34323556593277)"
      ]
     },
     "execution_count": 47,
     "metadata": {},
     "output_type": "execute_result"
    }
   ],
   "source": [
    "ni_3 = 1 + 3.32 * np.log10(n_3)\n",
    "ni_3"
   ]
  },
  {
   "cell_type": "markdown",
   "id": "d9891b8e",
   "metadata": {},
   "source": [
    "Calculamos el Ancho del Intervalo \"i\""
   ]
  },
  {
   "cell_type": "code",
   "execution_count": 48,
   "id": "5e7a7e7d",
   "metadata": {},
   "outputs": [
    {
     "data": {
      "text/plain": [
       "np.float64(2.1769068300908034)"
      ]
     },
     "execution_count": 48,
     "metadata": {},
     "output_type": "execute_result"
    }
   ],
   "source": [
    "i_3 = R_3 / ni_3\n",
    "i_3"
   ]
  },
  {
   "cell_type": "markdown",
   "id": "d6cba9b1",
   "metadata": {},
   "source": [
    "Creamos las categorías a partir de las clases obtenidas"
   ]
  },
  {
   "cell_type": "code",
   "execution_count": 49,
   "id": "77db0c6a",
   "metadata": {},
   "outputs": [
    {
     "data": {
      "text/plain": [
       "array([ 2.28095238,  8.11373179, 13.9465112 , 19.77929061, 25.61207002,\n",
       "       31.44484943, 37.27762884, 43.11040825, 48.94318766])"
      ]
     },
     "execution_count": 49,
     "metadata": {},
     "output_type": "execute_result"
    }
   ],
   "source": [
    "intervalos_3 = np.linspace(2.28095238095, 48.9431876607, 9) # Agregamos los datos que obtuvimos en el análisis\n",
    "intervalos_3"
   ]
  },
  {
   "cell_type": "code",
   "execution_count": 50,
   "id": "f95e8f30",
   "metadata": {},
   "outputs": [],
   "source": [
    "categorias_3 = [\n",
    "    \"Categoría 1 (2.3 - 8.1)\",    \n",
    "    \"Categoría 2 (8.1 - 13.9)\",   \n",
    "    \"Categoría 3 (13.9 - 19.8)\",  \n",
    "    \"Categoría 4 (19.8 - 25.6)\",  \n",
    "    \"Categoría 5 (25.6 - 31.4)\",  \n",
    "    \"Categoría 6 (31.4 - 37.3)\",  \n",
    "    \"Categoría 7 (37.3 - 43.1)\",  \n",
    "    \"Categoría 8 (43.1 - 48.9)\"  \n",
    "]"
   ]
  },
  {
   "cell_type": "code",
   "execution_count": 51,
   "id": "32849861",
   "metadata": {},
   "outputs": [
    {
     "data": {
      "text/plain": [
       "0          Categoría 3 (13.9 - 19.8)\n",
       "1            Categoría 1 (2.3 - 8.1)\n",
       "2            Categoría 1 (2.3 - 8.1)\n",
       "3            Categoría 1 (2.3 - 8.1)\n",
       "4            Categoría 1 (2.3 - 8.1)\n",
       "                     ...            \n",
       "1643867      Categoría 1 (2.3 - 8.1)\n",
       "1643868      Categoría 1 (2.3 - 8.1)\n",
       "1643869      Categoría 1 (2.3 - 8.1)\n",
       "1643870    Categoría 3 (13.9 - 19.8)\n",
       "1643871      Categoría 1 (2.3 - 8.1)\n",
       "Name: Abundance_pm, Length: 1341160, dtype: category\n",
       "Categories (8, object): ['Categoría 1 (2.3 - 8.1)' < 'Categoría 2 (8.1 - 13.9)' < 'Categoría 3 (13.9 - 19.8)' < 'Categoría 4 (19.8 - 25.6)' < 'Categoría 5 (25.6 - 31.4)' < 'Categoría 6 (31.4 - 37.3)' < 'Categoría 7 (37.3 - 43.1)' < 'Categoría 8 (43.1 - 48.9)']"
      ]
     },
     "execution_count": 51,
     "metadata": {},
     "output_type": "execute_result"
    }
   ],
   "source": [
    "df_clean['Abundance_pm'] = pd.cut(x = df_clean['Abundance_pm'], bins = intervalos_3, labels = categorias_3)\n",
    "df_clean['Abundance_pm']"
   ]
  },
  {
   "cell_type": "markdown",
   "id": "ee11f8ba",
   "metadata": {},
   "source": [
    "Obtener el análisis univariado de \"Abundance_nbcell\""
   ]
  },
  {
   "cell_type": "code",
   "execution_count": 52,
   "id": "7a132de4",
   "metadata": {},
   "outputs": [
    {
     "data": {
      "text/html": [
       "<div>\n",
       "<style scoped>\n",
       "    .dataframe tbody tr th:only-of-type {\n",
       "        vertical-align: middle;\n",
       "    }\n",
       "\n",
       "    .dataframe tbody tr th {\n",
       "        vertical-align: top;\n",
       "    }\n",
       "\n",
       "    .dataframe thead th {\n",
       "        text-align: right;\n",
       "    }\n",
       "</style>\n",
       "<table border=\"1\" class=\"dataframe\">\n",
       "  <thead>\n",
       "    <tr style=\"text-align: right;\">\n",
       "      <th></th>\n",
       "      <th>Abundance_pm</th>\n",
       "      <th>count</th>\n",
       "    </tr>\n",
       "  </thead>\n",
       "  <tbody>\n",
       "    <tr>\n",
       "      <th>0</th>\n",
       "      <td>Categoría 1 (2.3 - 8.1)</td>\n",
       "      <td>819633</td>\n",
       "    </tr>\n",
       "    <tr>\n",
       "      <th>1</th>\n",
       "      <td>Categoría 2 (8.1 - 13.9)</td>\n",
       "      <td>183364</td>\n",
       "    </tr>\n",
       "    <tr>\n",
       "      <th>2</th>\n",
       "      <td>Categoría 3 (13.9 - 19.8)</td>\n",
       "      <td>120745</td>\n",
       "    </tr>\n",
       "    <tr>\n",
       "      <th>3</th>\n",
       "      <td>Categoría 4 (19.8 - 25.6)</td>\n",
       "      <td>81632</td>\n",
       "    </tr>\n",
       "    <tr>\n",
       "      <th>4</th>\n",
       "      <td>Categoría 5 (25.6 - 31.4)</td>\n",
       "      <td>44696</td>\n",
       "    </tr>\n",
       "    <tr>\n",
       "      <th>5</th>\n",
       "      <td>Categoría 6 (31.4 - 37.3)</td>\n",
       "      <td>39580</td>\n",
       "    </tr>\n",
       "    <tr>\n",
       "      <th>6</th>\n",
       "      <td>Categoría 7 (37.3 - 43.1)</td>\n",
       "      <td>31377</td>\n",
       "    </tr>\n",
       "    <tr>\n",
       "      <th>7</th>\n",
       "      <td>Categoría 8 (43.1 - 48.9)</td>\n",
       "      <td>20133</td>\n",
       "    </tr>\n",
       "  </tbody>\n",
       "</table>\n",
       "</div>"
      ],
      "text/plain": [
       "                Abundance_pm   count\n",
       "0    Categoría 1 (2.3 - 8.1)  819633\n",
       "1   Categoría 2 (8.1 - 13.9)  183364\n",
       "2  Categoría 3 (13.9 - 19.8)  120745\n",
       "3  Categoría 4 (19.8 - 25.6)   81632\n",
       "4  Categoría 5 (25.6 - 31.4)   44696\n",
       "5  Categoría 6 (31.4 - 37.3)   39580\n",
       "6  Categoría 7 (37.3 - 43.1)   31377\n",
       "7  Categoría 8 (43.1 - 48.9)   20133"
      ]
     },
     "execution_count": 52,
     "metadata": {},
     "output_type": "execute_result"
    }
   ],
   "source": [
    "Tabla_freq7 = df_clean['Abundance_pm'].value_counts().reset_index()\n",
    "Tabla_freq7"
   ]
  },
  {
   "cell_type": "code",
   "execution_count": 53,
   "id": "ba457722",
   "metadata": {},
   "outputs": [
    {
     "data": {
      "text/html": [
       "<div>\n",
       "<style scoped>\n",
       "    .dataframe tbody tr th:only-of-type {\n",
       "        vertical-align: middle;\n",
       "    }\n",
       "\n",
       "    .dataframe tbody tr th {\n",
       "        vertical-align: top;\n",
       "    }\n",
       "\n",
       "    .dataframe thead th {\n",
       "        text-align: right;\n",
       "    }\n",
       "</style>\n",
       "<table border=\"1\" class=\"dataframe\">\n",
       "  <thead>\n",
       "    <tr style=\"text-align: right;\">\n",
       "      <th></th>\n",
       "      <th>Abundance_pm</th>\n",
       "      <th>count</th>\n",
       "    </tr>\n",
       "  </thead>\n",
       "  <tbody>\n",
       "    <tr>\n",
       "      <th>0</th>\n",
       "      <td>Categoría 1 (2.3 - 8.1)</td>\n",
       "      <td>819633</td>\n",
       "    </tr>\n",
       "    <tr>\n",
       "      <th>1</th>\n",
       "      <td>Categoría 2 (8.1 - 13.9)</td>\n",
       "      <td>183364</td>\n",
       "    </tr>\n",
       "    <tr>\n",
       "      <th>2</th>\n",
       "      <td>Categoría 3 (13.9 - 19.8)</td>\n",
       "      <td>120745</td>\n",
       "    </tr>\n",
       "    <tr>\n",
       "      <th>3</th>\n",
       "      <td>Categoría 4 (19.8 - 25.6)</td>\n",
       "      <td>81632</td>\n",
       "    </tr>\n",
       "    <tr>\n",
       "      <th>4</th>\n",
       "      <td>Categoría 5 (25.6 - 31.4)</td>\n",
       "      <td>44696</td>\n",
       "    </tr>\n",
       "    <tr>\n",
       "      <th>5</th>\n",
       "      <td>Categoría 6 (31.4 - 37.3)</td>\n",
       "      <td>39580</td>\n",
       "    </tr>\n",
       "    <tr>\n",
       "      <th>6</th>\n",
       "      <td>Categoría 7 (37.3 - 43.1)</td>\n",
       "      <td>31377</td>\n",
       "    </tr>\n",
       "    <tr>\n",
       "      <th>7</th>\n",
       "      <td>Categoría 8 (43.1 - 48.9)</td>\n",
       "      <td>20133</td>\n",
       "    </tr>\n",
       "  </tbody>\n",
       "</table>\n",
       "</div>"
      ],
      "text/plain": [
       "                Abundance_pm   count\n",
       "0    Categoría 1 (2.3 - 8.1)  819633\n",
       "1   Categoría 2 (8.1 - 13.9)  183364\n",
       "2  Categoría 3 (13.9 - 19.8)  120745\n",
       "3  Categoría 4 (19.8 - 25.6)   81632\n",
       "4  Categoría 5 (25.6 - 31.4)   44696\n",
       "5  Categoría 6 (31.4 - 37.3)   39580\n",
       "6  Categoría 7 (37.3 - 43.1)   31377\n",
       "7  Categoría 8 (43.1 - 48.9)   20133"
      ]
     },
     "execution_count": 53,
     "metadata": {},
     "output_type": "execute_result"
    }
   ],
   "source": [
    "Filtro7 = Tabla_freq7[Tabla_freq7['count'] > 0]\n",
    "Filtro7"
   ]
  },
  {
   "cell_type": "code",
   "execution_count": 54,
   "id": "7164db91",
   "metadata": {},
   "outputs": [
    {
     "data": {
      "text/html": [
       "<div>\n",
       "<style scoped>\n",
       "    .dataframe tbody tr th:only-of-type {\n",
       "        vertical-align: middle;\n",
       "    }\n",
       "\n",
       "    .dataframe tbody tr th {\n",
       "        vertical-align: top;\n",
       "    }\n",
       "\n",
       "    .dataframe thead th {\n",
       "        text-align: right;\n",
       "    }\n",
       "</style>\n",
       "<table border=\"1\" class=\"dataframe\">\n",
       "  <thead>\n",
       "    <tr style=\"text-align: right;\">\n",
       "      <th></th>\n",
       "      <th>count</th>\n",
       "    </tr>\n",
       "    <tr>\n",
       "      <th>Abundance_pm</th>\n",
       "      <th></th>\n",
       "    </tr>\n",
       "  </thead>\n",
       "  <tbody>\n",
       "    <tr>\n",
       "      <th>Categoría 1 (2.3 - 8.1)</th>\n",
       "      <td>819633</td>\n",
       "    </tr>\n",
       "    <tr>\n",
       "      <th>Categoría 2 (8.1 - 13.9)</th>\n",
       "      <td>183364</td>\n",
       "    </tr>\n",
       "    <tr>\n",
       "      <th>Categoría 3 (13.9 - 19.8)</th>\n",
       "      <td>120745</td>\n",
       "    </tr>\n",
       "    <tr>\n",
       "      <th>Categoría 4 (19.8 - 25.6)</th>\n",
       "      <td>81632</td>\n",
       "    </tr>\n",
       "    <tr>\n",
       "      <th>Categoría 5 (25.6 - 31.4)</th>\n",
       "      <td>44696</td>\n",
       "    </tr>\n",
       "    <tr>\n",
       "      <th>Categoría 6 (31.4 - 37.3)</th>\n",
       "      <td>39580</td>\n",
       "    </tr>\n",
       "    <tr>\n",
       "      <th>Categoría 7 (37.3 - 43.1)</th>\n",
       "      <td>31377</td>\n",
       "    </tr>\n",
       "    <tr>\n",
       "      <th>Categoría 8 (43.1 - 48.9)</th>\n",
       "      <td>20133</td>\n",
       "    </tr>\n",
       "  </tbody>\n",
       "</table>\n",
       "</div>"
      ],
      "text/plain": [
       "                            count\n",
       "Abundance_pm                     \n",
       "Categoría 1 (2.3 - 8.1)    819633\n",
       "Categoría 2 (8.1 - 13.9)   183364\n",
       "Categoría 3 (13.9 - 19.8)  120745\n",
       "Categoría 4 (19.8 - 25.6)   81632\n",
       "Categoría 5 (25.6 - 31.4)   44696\n",
       "Categoría 6 (31.4 - 37.3)   39580\n",
       "Categoría 7 (37.3 - 43.1)   31377\n",
       "Categoría 8 (43.1 - 48.9)   20133"
      ]
     },
     "execution_count": 54,
     "metadata": {},
     "output_type": "execute_result"
    }
   ],
   "source": [
    "Filtro_index7 = Filtro7.set_index('Abundance_pm')\n",
    "Filtro_index7"
   ]
  },
  {
   "cell_type": "markdown",
   "id": "f68cc713",
   "metadata": {},
   "source": [
    "Hacemos las gráficas de barras de las variables numéricas categorizadas"
   ]
  },
  {
   "cell_type": "code",
   "execution_count": 57,
   "id": "542c66ac",
   "metadata": {},
   "outputs": [
    {
     "data": {
      "image/png": "[encoded data removed]",
      "text/plain": [
       "<Figure size 1200x800 with 3 Axes>"
      ]
     },
     "metadata": {},
     "output_type": "display_data"
    }
   ],
   "source": [
    "def plot_tablas(tablas, titulo, xlabel, ylabel, color=\"lightblue\"):\n",
    "    n = len(tablas)\n",
    "    cols = 2 if n <= 4 else 3\n",
    "    rows = (n + cols - 1) // cols\n",
    "    fig, axs = plt.subplots(rows, cols, figsize=(6 * cols, 4 * rows))\n",
    "    axs = axs.flatten()\n",
    "    for i, tabla in enumerate(tablas):\n",
    "        tabla.plot(kind='bar', width=0.8, color=color, ax=axs[i], rot=45)\n",
    "        axs[i].set_title(titulo)\n",
    "        axs[i].set_xlabel(xlabel)\n",
    "        axs[i].set_ylabel(ylabel)\n",
    "    # Oculta los ejes vacíos si hay menos tablas que subplots\n",
    "    for j in range(i+1, len(axs)):\n",
    "        fig.delaxes(axs[j])\n",
    "    plt.tight_layout()\n",
    "    plt.subplots_adjust(hspace=1.5, wspace=0.3)\n",
    "    plt.show()\n",
    "\n",
    "plot_tablas(\n",
    "    [Filtro_index5, Filtro_index6, Filtro_index7],\n",
    "    '¿Cuántos estantes tiene el?',\n",
    "    'Numero de Estantes',\n",
    "    'Frecuencia'\n",
    ")"
   ]
  }
 ],
 "metadata": {
  "kernelspec": {
   "display_name": "base",
   "language": "python",
   "name": "python3"
  },
  "language_info": {
   "codemirror_mode": {
    "name": "ipython",
    "version": 3
   },
   "file_extension": ".py",
   "mimetype": "text/x-python",
   "name": "python",
   "nbconvert_exporter": "python",
   "pygments_lexer": "ipython3",
   "version": "3.13.5"
  }
 },
 "nbformat": 4,
 "nbformat_minor": 5
}
